{
 "cells": [
  {
   "cell_type": "markdown",
   "metadata": {},
   "source": [
    "## 1. Pydantic Basics: Creating and using models\n",
    "\n",
    "Pydantic models are the foundation of data validation in python. They use python type annotations to define the structure and validate data at anytime. \n",
    "Here's a detailed exploration of basic model creation with several examples."
   ]
  },
  {
   "cell_type": "code",
   "execution_count": 2,
   "metadata": {},
   "outputs": [],
   "source": [
    "# Dataclass is a decorator that is used to define some attributes of a class. Dataclass is decorator that automatically generates special methods \n",
    "# like __init__(), __repr__(), __eq__(), and others based on the class attributes.\n",
    "# Dataclass helps to define classes that are primarily used to store data, but no validation or business logic.\n",
    "\n",
    "from dataclasses import dataclass\n",
    "\n",
    "@dataclass\n",
    "class Person():\n",
    "    name: str\n",
    "    age: int\n",
    "    city: str"
   ]
  },
  {
   "cell_type": "code",
   "execution_count": 3,
   "metadata": {},
   "outputs": [
    {
     "name": "stdout",
     "output_type": "stream",
     "text": [
      "Person(name='kiran', age=35, city='bangalore')\n",
      "Person(name='kiran', age=35, city=40)\n"
     ]
    }
   ],
   "source": [
    "person = Person(name=\"kiran\", age=35, city=\"bangalore\")\n",
    "print(person)\n",
    "person1 = Person(name=\"kiran\", age=35, city=40)\n",
    "print(person1)"
   ]
  },
  {
   "cell_type": "markdown",
   "metadata": {},
   "source": [
    "Pydantic is a data validation and settings management library for Python, which uses Python type annotations.\n",
    "When you are inheriting the base model then it is Data Model"
   ]
  },
  {
   "cell_type": "code",
   "execution_count": 5,
   "metadata": {},
   "outputs": [],
   "source": [
    "from pydantic import BaseModel\n",
    "\n",
    "class PersonModel(BaseModel):\n",
    "    name: str\n",
    "    age: int\n",
    "    city: str"
   ]
  },
  {
   "cell_type": "code",
   "execution_count": 6,
   "metadata": {},
   "outputs": [
    {
     "name": "stdout",
     "output_type": "stream",
     "text": [
      "name='kiran' age=35 city='bangalore'\n"
     ]
    }
   ],
   "source": [
    "person = PersonModel(name=\"kiran\", age=35, city=\"bangalore\")\n",
    "print(person)"
   ]
  },
  {
   "cell_type": "code",
   "execution_count": 8,
   "metadata": {},
   "outputs": [
    {
     "name": "stdout",
     "output_type": "stream",
     "text": [
      "Validation error: 1 validation error for PersonModel\n",
      "city\n",
      "  Input should be a valid string [type=string_type, input_value=40, input_type=int]\n",
      "    For further information visit https://errors.pydantic.dev/2.11/v/string_type\n"
     ]
    }
   ],
   "source": [
    "try:\n",
    "    person1 = PersonModel(name=\"kiran\", age=35, city=40)\n",
    "    print(person1)\n",
    "except ValueError as e:\n",
    "    print(f\"Validation error: {e}\")"
   ]
  },
  {
   "cell_type": "markdown",
   "metadata": {},
   "source": [
    "## 2. Models with Optional Fields\n",
    "Add optional fields using python's pydantic type.\n",
    "Pydantic validates types even for optional fields when values are provided"
   ]
  },
  {
   "cell_type": "code",
   "execution_count": 9,
   "metadata": {},
   "outputs": [],
   "source": [
    "from typing import List, Optional\n",
    "\n",
    "class Employee(BaseModel):\n",
    "    name: str\n",
    "    age: int\n",
    "    city: str\n",
    "    skills: List[str] = []\n",
    "    manager: Optional[str] = None  # Optional field, can be None as default value\n",
    "    is_active: bool = True  # Default value is True\n",
    "    salary: float = 0.0  # Default value is 0.0"
   ]
  },
  {
   "cell_type": "code",
   "execution_count": 10,
   "metadata": {},
   "outputs": [
    {
     "name": "stdout",
     "output_type": "stream",
     "text": [
      "name='kiran' age=35 city='bangalore' skills=['python', 'django'] manager=None is_active=True salary=1000.0\n",
      "name='kiran' age=35 city='bangalore' skills=['python', 'django'] manager=None is_active=True salary=1000.0\n"
     ]
    }
   ],
   "source": [
    "# type casting is happening automatically for salary\n",
    "emp1 = Employee(name=\"kiran\", age=35, city=\"bangalore\", skills=[\"python\", \"django\"], salary = 1000)\n",
    "print(emp1)\n",
    "\n",
    "emp2 = Employee(name=\"kiran\", age=35, city=\"bangalore\", skills=[\"python\", \"django\"], salary = \"1000\")\n",
    "print(emp2)"
   ]
  },
  {
   "cell_type": "markdown",
   "metadata": {},
   "source": [
    "## 3. Model with Nested models\n",
    "Create complex structures with nested models."
   ]
  },
  {
   "cell_type": "code",
   "execution_count": 12,
   "metadata": {},
   "outputs": [],
   "source": [
    "from pydantic import BaseModel\n",
    "\n",
    "class Address(BaseModel):\n",
    "    street: str\n",
    "    city: str\n",
    "    state: str\n",
    "    zip_code: str\n",
    "\n",
    "class EmployeeWithAddress(BaseModel):\n",
    "    name: str\n",
    "    age: int\n",
    "    address: Address  # Nested model for address"
   ]
  },
  {
   "cell_type": "code",
   "execution_count": 13,
   "metadata": {},
   "outputs": [
    {
     "name": "stdout",
     "output_type": "stream",
     "text": [
      "name='kiran' age=35 address=Address(street='123 Main St', city='Bangalore', state='KA', zip_code='560001')\n"
     ]
    }
   ],
   "source": [
    "emp1 = EmployeeWithAddress(name=\"kiran\", age=35, address={\"street\": \"123 Main St\", \"city\": \"Bangalore\", \"state\": \"KA\", \"zip_code\": \"560001\"})\n",
    "print(emp1)"
   ]
  },
  {
   "cell_type": "markdown",
   "metadata": {},
   "source": [
    "## 4. Pydantic Fields: Customerization and constraints\n",
    "\n",
    "The Field function in pydantic enhances model with fields beyond basic type hints by allowing you to specify validation rules, default values, aliases and more. "
   ]
  },
  {
   "cell_type": "code",
   "execution_count": 15,
   "metadata": {},
   "outputs": [],
   "source": [
    "from pydantic import BaseModel, Field\n",
    "\n",
    "class Customer(BaseModel):\n",
    "    name: str = Field(default=\"kiran\", max_length=50, description=\"The name of the customer\")\n",
    "    age: int = Field(default=24, ge=0,lt=100, description=\"The age of the customer, must be a non-negative integer\")\n",
    "    email: str = Field(default=\"kiran@gmail.com\", pattern=r'^[\\w\\.-]+@[\\w\\.-]+\\.\\w+$', description=\"The email address of the customer\")"
   ]
  },
  {
   "cell_type": "code",
   "execution_count": 16,
   "metadata": {},
   "outputs": [
    {
     "name": "stdout",
     "output_type": "stream",
     "text": [
      "name='k1' age=10 email='kiran.k@gmail.com'\n"
     ]
    }
   ],
   "source": [
    "try:\n",
    "    # Validation Error: Input should be less than 100 [type=less_than, input_value=101, input_type=int]\n",
    "    # cust1 = Customer(name=\"k1\", age=101, email=\"kiran.k@gmail.com\")\n",
    "    cust2 = Customer(name=\"k1\", age=10, email=\"kiran.k@gmail.com\")\n",
    "    print(cust2)\n",
    "\n",
    "except ValueError as e:\n",
    "    print(f\"Validation error: {e}\")"
   ]
  },
  {
   "cell_type": "code",
   "execution_count": 18,
   "metadata": {},
   "outputs": [
    {
     "name": "stdout",
     "output_type": "stream",
     "text": [
      "username='admin' password='secret'\n",
      "username='admin' password='secret'\n"
     ]
    }
   ],
   "source": [
    "# model to read environment variables for username and password\n",
    "from pydantic_settings import BaseSettings\n",
    "\n",
    "class User(BaseSettings):\n",
    "    username: str\n",
    "    password: str\n",
    "\n",
    "    class Config:\n",
    "        # This will allow the model to read environment variables for username and password\n",
    "        env_prefix = 'USER_'\n",
    "        env_file = '.env'  # Optional, if you want to load from a .env file\n",
    "\n",
    "# Example usage \n",
    "user = User(username=\"admin\", password=\"secret\")\n",
    "print(user)\n",
    "\n",
    "# You can also load the model from environment variables\n",
    "import os\n",
    "from dotenv import load_dotenv\n",
    "# Ensure you have a .env file with USER_USERNAME and USER_PASSWORD variables\n",
    "load_dotenv()\n",
    "user_from_env = User()\n",
    "print(user_from_env)"
   ]
  },
  {
   "cell_type": "code",
   "execution_count": 22,
   "metadata": {},
   "outputs": [
    {
     "name": "stdout",
     "output_type": "stream",
     "text": [
      "name='Kiran' age=30 email='name@example.com'\n"
     ]
    }
   ],
   "source": [
    "# n Pydantic, the ... inside a Field indicates that the field is required. \n",
    "# It is a shorthand for specifying that the field must be provided when creating an instance of the model. \n",
    "# If the field is not provided, Pydantic will raise a validation error.\n",
    "\n",
    "class Customer(BaseModel):\n",
    "    name: str=Field(..., description=\"The name of the customer, required field\")\n",
    "    age: int=Field(..., ge=0, lt=100, description=\"The age of the customer, must be a non-negative integer\")\n",
    "    email: str=Field(..., default_factory=lambda: \"name@example.com\", description= \"User email address\")\n",
    "\n",
    "# Example usage\n",
    "try:\n",
    "    cust = Customer(name=\"Kiran\", age=30)\n",
    "    print(cust)\n",
    "except ValueError as e:\n",
    "    print(f\"Validation error: {e}\")"
   ]
  },
  {
   "cell_type": "code",
   "execution_count": 25,
   "metadata": {},
   "outputs": [
    {
     "name": "stdout",
     "output_type": "stream",
     "text": [
      "random@gmail.com\n",
      "kiran@gmail.com\n"
     ]
    }
   ],
   "source": [
    "# Default Factory inside field: Default_factory is correctly used to provide a default email value dynamically. \n",
    "# If you want to customize the default further (e.g., based on the name field), you can modify the lambda function accordingly.\n",
    "from pydantic import  Field\n",
    "class User(BaseModel):\n",
    "    email: str = Field(default=\"kiran@gmail.com\", pattern=r'^[\\w\\.-]+@[\\w\\.-]+\\.\\w+$', description=\"The email address of the customer\")\n",
    "    username: str = Field(default_factory=lambda data: data[\"email\"])\n",
    "\n",
    "user = User(email=\"random@gmail.com\")\n",
    "print(user.username)\n",
    "user = User()\n",
    "print(user.username)\n"
   ]
  },
  {
   "cell_type": "code",
   "execution_count": 26,
   "metadata": {},
   "outputs": [
    {
     "name": "stdout",
     "output_type": "stream",
     "text": [
      "1 validation error for User\n",
      "age\n",
      "  Input should be a valid integer, unable to parse string as an integer [type=int_parsing, input_value='Twelve', input_type=str]\n",
      "    For further information visit https://errors.pydantic.dev/2.11/v/int_parsing\n"
     ]
    }
   ],
   "source": [
    "# By default Pydantic won't validate default values. The Validate_default field parameter can be used to enable this behaviour.\n",
    "from pydantic import BaseModel, Field, ValidationError\n",
    "class User(BaseModel):\n",
    "    age: int = Field(default=\"Twelve\", validate_default=True)\n",
    "try:\n",
    "    user = User()\n",
    "except ValidationError as e:\n",
    "    print(e)"
   ]
  },
  {
   "cell_type": "code",
   "execution_count": 27,
   "metadata": {},
   "outputs": [
    {
     "data": {
      "text/plain": [
       "{'properties': {'name': {'description': 'The name of the customer, required field',\n",
       "   'title': 'Name',\n",
       "   'type': 'string'},\n",
       "  'age': {'description': 'The age of the customer, must be a non-negative integer',\n",
       "   'exclusiveMaximum': 100,\n",
       "   'minimum': 0,\n",
       "   'title': 'Age',\n",
       "   'type': 'integer'},\n",
       "  'email': {'description': 'User email address',\n",
       "   'title': 'Email',\n",
       "   'type': 'string'}},\n",
       " 'required': ['name', 'age'],\n",
       " 'title': 'Customer',\n",
       " 'type': 'object'}"
      ]
     },
     "execution_count": 27,
     "metadata": {},
     "output_type": "execute_result"
    }
   ],
   "source": [
    "Customer.model_json_schema()"
   ]
  },
  {
   "cell_type": "code",
   "execution_count": 28,
   "metadata": {},
   "outputs": [
    {
     "data": {
      "text/plain": [
       "{'properties': {'name': {'description': 'The name of the customer, required field',\n",
       "   'title': 'Name',\n",
       "   'type': 'string'},\n",
       "  'age': {'description': 'The age of the customer, must be a non-negative integer',\n",
       "   'exclusiveMaximum': 100,\n",
       "   'minimum': 0,\n",
       "   'title': 'Age',\n",
       "   'type': 'integer'},\n",
       "  'email': {'description': 'User email address',\n",
       "   'title': 'Email',\n",
       "   'type': 'string'}},\n",
       " 'required': ['name', 'age'],\n",
       " 'title': 'Customer',\n",
       " 'type': 'object'}"
      ]
     },
     "execution_count": 28,
     "metadata": {},
     "output_type": "execute_result"
    }
   ],
   "source": [
    "Customer.model_json_schema(mode='validation')"
   ]
  }
 ],
 "metadata": {
  "kernelspec": {
   "display_name": "venv",
   "language": "python",
   "name": "python3"
  },
  "language_info": {
   "codemirror_mode": {
    "name": "ipython",
    "version": 3
   },
   "file_extension": ".py",
   "mimetype": "text/x-python",
   "name": "python",
   "nbconvert_exporter": "python",
   "pygments_lexer": "ipython3",
   "version": "3.11.13"
  }
 },
 "nbformat": 4,
 "nbformat_minor": 2
}
