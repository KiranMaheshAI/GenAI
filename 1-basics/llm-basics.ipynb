{
 "cells": [
  {
   "cell_type": "code",
   "execution_count": 25,
   "metadata": {},
   "outputs": [
    {
     "data": {
      "text/plain": [
       "True"
      ]
     },
     "execution_count": 25,
     "metadata": {},
     "output_type": "execute_result"
    }
   ],
   "source": [
    "# Loading environment variables from a .env file\n",
    "import os\n",
    "from dotenv import load_dotenv\n",
    "load_dotenv()"
   ]
  },
  {
   "cell_type": "markdown",
   "metadata": {},
   "source": [
    "#### Initialize LLM Models"
   ]
  },
  {
   "cell_type": "markdown",
   "metadata": {},
   "source": [
    "##### Groq LLM model"
   ]
  },
  {
   "cell_type": "code",
   "execution_count": 8,
   "metadata": {},
   "outputs": [
    {
     "name": "stdout",
     "output_type": "stream",
     "text": [
      "client=<groq.resources.chat.completions.Completions object at 0x123c8a510> async_client=<groq.resources.chat.completions.AsyncCompletions object at 0x123c8af90> model_name='qwen-qwq-32b' model_kwargs={} groq_api_key=SecretStr('**********')\n"
     ]
    }
   ],
   "source": [
    "import os\n",
    "from langchain_groq import ChatGroq\n",
    "\n",
    "os.environ[\"GROQ_API_KEY\"]= os.getenv(\"GROQ_API_KEY\")\n",
    "llm_groq = ChatGroq(model=\"qwen-qwq-32b\")\n",
    "print(llm_groq)"
   ]
  },
  {
   "cell_type": "code",
   "execution_count": null,
   "metadata": {},
   "outputs": [],
   "source": [
    "result = llm_groq.invoke(\"What is Agentic AI?\")\n",
    "print(result.content)"
   ]
  },
  {
   "cell_type": "markdown",
   "metadata": {},
   "source": [
    "##### OPEN AI LLM Model"
   ]
  },
  {
   "cell_type": "code",
   "execution_count": null,
   "metadata": {},
   "outputs": [],
   "source": [
    "!pip3 install langchain_openai"
   ]
  },
  {
   "cell_type": "code",
   "execution_count": 27,
   "metadata": {},
   "outputs": [
    {
     "name": "stdout",
     "output_type": "stream",
     "text": [
      "client=<openai.resources.chat.completions.completions.Completions object at 0x1266ecc10> async_client=<openai.resources.chat.completions.completions.AsyncCompletions object at 0x1268e2310> root_client=<openai.OpenAI object at 0x1260af9d0> root_async_client=<openai.AsyncOpenAI object at 0x1268a9c90> model_name='o1-mini' temperature=1.0 model_kwargs={} openai_api_key=SecretStr('**********')\n"
     ]
    }
   ],
   "source": [
    "from langchain_openai import ChatOpenAI\n",
    "\n",
    "os.environ[\"OPENAI_API_KEY\"]= os.getenv(\"OPENAI_API_KEY\")\n",
    "openai_llm = ChatOpenAI(model=\"o1-mini\")\n",
    "print(openai_llm)"
   ]
  },
  {
   "cell_type": "code",
   "execution_count": null,
   "metadata": {},
   "outputs": [],
   "source": [
    "openai_llm.invoke(\"What is Agentic AI?\")"
   ]
  },
  {
   "cell_type": "markdown",
   "metadata": {},
   "source": [
    "##### Google LLM Model"
   ]
  },
  {
   "cell_type": "code",
   "execution_count": null,
   "metadata": {},
   "outputs": [],
   "source": [
    "!pip3 install langchain_google_genai langchain_core"
   ]
  },
  {
   "cell_type": "code",
   "execution_count": null,
   "metadata": {},
   "outputs": [],
   "source": [
    "from langchain_google_genai import ChatGoogleGenerativeAI\n",
    "from langchain_core.messages import HumanMessage\n",
    "\n",
    "os.environ[\"GOOGLE_API_KEY\"] = os.getenv(\"GOOGLE_API_KEY\")\n",
    "llm = ChatGoogleGenerativeAI(model=\"gemini-2.0-flash\")\n",
    "\n",
    "# Simple text invocation\n",
    "result = llm.invoke(\"Sing a ballad of LangChain.\")\n",
    "print(result.content)\n",
    "\n",
    "# Multimodal invocation with gemini-pro-vision\n",
    "message = HumanMessage(\n",
    "    content=[\n",
    "        {\n",
    "            \"type\": \"text\",\n",
    "            \"text\": \"What's in this image?\",\n",
    "        },\n",
    "        {\"type\": \"image_url\", \"image_url\": \"https://picsum.photos/seed/picsum/200/300\"},\n",
    "    ]\n",
    ")\n",
    "result = llm.invoke([message])\n",
    "print(result.content)"
   ]
  },
  {
   "cell_type": "markdown",
   "metadata": {},
   "source": [
    "##### Deepseek Using Groq"
   ]
  },
  {
   "cell_type": "code",
   "execution_count": 29,
   "metadata": {},
   "outputs": [
    {
     "name": "stdout",
     "output_type": "stream",
     "text": [
      "<think>\n",
      "Okay, so I need to find out what the capital of India is. Hmm, I'm not entirely sure, but I think it's a city that starts with an 'N'. Wait, is it New Delhi? Or maybe it's Mumbai? I've heard both names a lot. Let me think more carefully.\n",
      "\n",
      "I remember that some countries have their capital different from their largest city. For example, in the US, the capital is Washington D.C., not New York. So maybe India has a similar setup. I think Mumbai is a big city, perhaps the financial hub, but not the capital. That would make sense because sometimes the economic centers aren't the capitals.\n",
      "\n",
      "I've also heard of New Delhi being associated with government activities. I think the parliament and other government buildings are there. So that points towards New Delhi being the capital. But wait, I should make sure. Maybe I can recall some other facts. I remember that New Delhi is part of the National Capital Territory, which includes Delhi. So that might be why it's the capital.\n",
      "\n",
      "Another way to think about it is through geography. India is a large country with many states, and the capital is often centrally located. New Delhi is in the north, near the center, which makes it accessible for governance. Mumbai, on the other hand, is on the west coast, so it's more of a coastal city and probably a major port and economic center.\n",
      "\n",
      "I also think about the history. Delhi has been a historical city with various empires ruling from there. The Mughal Empire, for instance, had Delhi as one of their key cities. So it's plausible that the modern capital is New Delhi, continuing that historical significance.\n",
      "\n",
      "Wait, I should also consider other possibilities. There's Bangalore, which is known as the IT hub, but I don't think that's the capital. Then there's Kolkata and Chennai, which are major cities but not capitals. So, yeah, I'm more confident now that New Delhi is the capital of India.\n",
      "\n",
      "I can also think about international organizations and embassies. Typically, they are located in the capital. I've heard of embassies in New Delhi, which supports the idea that it's the capital. Also, when I think about news related to the Indian government, it's often reporting from New Delhi, which houses the parliament and the president's residence.\n",
      "\n",
      "So putting it all together: New Delhi is the capital because it's the administrative center with government buildings, it's centrally located for governance, it has historical significance, and it's where embassies and government activities are concentrated. Mumbai, while a major city, is more about business and economy.\n",
      "</think>\n",
      "\n",
      "The capital of India is New Delhi. This conclusion is based on several key points: New Delhi is recognized as the administrative center housing government institutions, it is centrally located for effective governance, it holds historical significance as a former capital of various empires, and it is the location of embassies and government activities. In contrast, Mumbai, while a major economic hub, is not the capital.\n"
     ]
    }
   ],
   "source": [
    "from langchain_groq import ChatGroq\n",
    "\n",
    "model = \"deepseek-r1-distill-llama-70b\"\n",
    "deepseek_llm=ChatGroq(model_name=model)\n",
    "response = deepseek_llm.invoke(\"What is the capital of India?\")\n",
    "print(response.content)\n"
   ]
  }
 ],
 "metadata": {
  "kernelspec": {
   "display_name": "venv",
   "language": "python",
   "name": "python3"
  },
  "language_info": {
   "codemirror_mode": {
    "name": "ipython",
    "version": 3
   },
   "file_extension": ".py",
   "mimetype": "text/x-python",
   "name": "python",
   "nbconvert_exporter": "python",
   "pygments_lexer": "ipython3",
   "version": "3.11.13"
  }
 },
 "nbformat": 4,
 "nbformat_minor": 2
}
