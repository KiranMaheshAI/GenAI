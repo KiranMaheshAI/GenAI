{
 "cells": [
  {
   "cell_type": "markdown",
   "metadata": {
    "vscode": {
     "languageId": "plaintext"
    }
   },
   "source": [
    "### Project 1\n",
    "\n",
    "Project is about getting the response from LLM using Prompt Template"
   ]
  },
  {
   "cell_type": "code",
   "execution_count": 8,
   "metadata": {},
   "outputs": [
    {
     "name": "stdout",
     "output_type": "stream",
     "text": [
      "\n",
      "<think>\n",
      "Okay, the user is asking, \"What is Agentic AI?\" Let me start by recalling what I know about this term. I think Agentic AI refers to a system where AI acts as an agent, which means it can make decisions and take actions in an environment to achieve specific goals. But I should make sure I'm not confusing it with other terms like \"autonomous AI\" or \"agent-based systems.\"\n",
      "\n",
      "First, I should define the core concept. Agentic AI probably combines elements from artificial intelligence and the idea of agents in computer science. Agents are entities that perceive their environment through sensors and act upon it through effectors. So, Agentic AI would be an AI system designed to function as such an agent. \n",
      "\n",
      "Next, I need to break down the key characteristics. Autonomous decision-making is a big part here. The AI should be able to make decisions without constant human intervention. Then, goal-oriented behavior: the AI has objectives it's trying to achieve. Adaptability might be another key point, as agents need to adapt to changing environments. Also, maybe learning capabilities, so the AI can improve over time through experience.\n",
      "\n",
      "I should also consider applications. Where is Agentic AI used? Robotics comes to mind, like self-driving cars or drones. In gaming, non-player characters (NPCs) that behave autonomously. Maybe in customer service chatbots that can handle tasks without human help. Also, in complex systems like supply chain management where the AI optimizes processes dynamically.\n",
      "\n",
      "Wait, I should check if there's a specific definition from reputable sources or if it's a term that's more colloquial. The user might be referring to something specific from recent developments. Maybe it's related to the Agentic AI framework proposed by some researchers? Or is it a term used in a particular context, like in multi-agent systems?\n",
      "\n",
      "Also, I should differentiate it from other AI concepts. For example, general AI vs. narrow AI. Agentic AI might be a subset of AI agents, which can be narrow but designed to act autonomously in their domain. Or perhaps it's a more advanced form that integrates multiple AI techniques to function as an agent.\n",
      "\n",
      "Potential challenges or considerations: ethical issues, like ensuring the AI's decisions are safe and aligned with human values. Also, reliability and transparency, since autonomous systems can be hard to debug if they go wrong. Maybe mention the need for robust decision-making algorithms and ethical guidelines.\n",
      "\n",
      "Examples would help. Self-driving cars are a classic example—perceiving the environment via sensors, making driving decisions. Alexa or Siri as personal assistants that perform tasks based on user commands. In healthcare, maybe systems that manage patient data and suggest treatments autonomously.\n",
      "\n",
      "Wait, is there a specific definition from literature? Let me think. In AI literature, an agent is a fundamental concept. An agent is anything that can be viewed as perceiving its environment through sensors and acting upon it through effectors. So Agentic AI would be AI systems designed as such agents. So, the combination of AI (machine learning, decision-making algorithms) with the agent architecture.\n",
      "\n",
      "I should structure the answer by first defining Agentic AI, then its key features, applications, examples, and maybe challenges. Make sure to clarify that it's not just about intelligence but also the ability to act in an environment. Also, it might involve reinforcement learning, where the agent learns through interactions to maximize some reward.\n",
      "\n",
      "Hmm, am I mixing terms here? Let me confirm. Yes, in AI, an agent-based system uses agents that can perceive and act. So Agentic AI is an AI-powered agent. The term \"Agentic\" emphasizes the agency, the capacity to act. So it's about AI systems that have agency, meaning they can act independently to achieve goals.\n",
      "\n",
      "I should also mention that Agentic AI can be part of multi-agent systems where multiple agents interact with each other. Maybe in things like traffic control systems or decentralized networks.\n",
      "\n",
      "Wait, the user might be confused between \"agentic\" and \"autonomous.\" It's important to distinguish. Autonomous systems act on their own, but agentic emphasizes the decision-making and action-taking aspects. So, Agentic AI is about the AI's ability to act as an autonomous agent guided by AI.\n",
      "\n",
      "Another point: the decision-making process in Agentic AI could involve various AI techniques—like neural networks for perception, reinforcement learning for decision-making, planning algorithms for goal achievement.\n",
      "\n",
      "Potential pitfalls to mention: ensuring the AI's actions are safe and ethical. For example, an autonomous drone delivering packages needs to avoid obstacles and follow traffic rules. The AI's decisions must be aligned with ethical guidelines.\n",
      "\n",
      "Alright, putting it all together: define the term, key characteristics, applications, examples, and maybe challenges. Make sure it's clear and not too technical but thorough enough for someone seeking a solid understanding.\n",
      "</think>\n",
      "\n",
      "**Agentic AI** refers to an autonomous and goal-directed AI system designed to act as an **agent** within an environment. Drawing from the concept of \"agents\" in computer science and AI, Agentic AI combines advanced artificial intelligence with the ability to perceive, decide, and act to achieve specific objectives. Here's a structured breakdown:\n",
      "\n",
      "---\n",
      "\n",
      "### **Key Characteristics of Agentic AI**\n",
      "1. **Autonomy**: \n",
      "   - Operates independently, making decisions without continuous human intervention.\n",
      "   - Acts based on its own \"perceptions\" (data inputs) and internal logic.\n",
      "\n",
      "2. **Goal-Oriented Behavior**:\n",
      "   - Designed to achieve specific objectives (e.g., maximizing rewards, completing tasks, solving problems).\n",
      "   - Uses planning, reasoning, and decision-making algorithms to align actions with goals.\n",
      "\n",
      "3. **Adaptability**:\n",
      "   - Adapts to dynamic environments by learning from interactions (e.g., via reinforcement learning).\n",
      "   - Adjusts strategies in response to changing conditions or unexpected events.\n",
      "\n",
      "4. **Learning and Evolution**:\n",
      "   - Incorporates machine learning (e.g., neural networks, deep reinforcement learning) to improve performance over time.\n",
      "   - May use real-time data to refine its decision-making processes.\n",
      "\n",
      "5. **Interaction with Environment**:\n",
      "   - Perceives its surroundings via sensors or data streams.\n",
      "   - Acts through effectors (e.g., controlling a robot, sending messages, executing code).\n",
      "\n",
      "---\n",
      "\n",
      "### **Core Components**\n",
      "- **Perception**: Sensors or data inputs (e.g., cameras, sensors, user inputs).\n",
      "- **Decision-Making**: Algorithms (e.g., planning, reinforcement learning, rule-based systems) to interpret data and determine actions.\n",
      "- **Action Execution**: Outputs that influence the environment (e.g., moving a robot arm, sending a message, adjusting parameters).\n",
      "\n",
      "---\n",
      "\n",
      "### **Applications of Agentic AI**\n",
      "1. **Autonomous Systems**:\n",
      "   - Self-driving cars (e.g., Tesla Autopilot).\n",
      "   - Drones for delivery or surveillance.\n",
      "   \n",
      "2. **Gaming**:\n",
      "   - Non-player characters (NPCs) in video games that behave dynamically.\n",
      "   - AI opponents that learn and adapt strategies.\n",
      "\n",
      "3. **Healthcare**:\n",
      "   - AI-powered medical devices (e.g., robotic surgery assistants).\n",
      "   - Personal health assistants that monitor patients and suggest interventions.\n",
      "\n",
      "4. **Customer Service**:\n",
      "   - Chatbots that autonomously resolve user inquiries (e.g., booking flights, troubleshooting issues).\n",
      "\n",
      "5. **Smart Homes/Industry**:\n",
      "   - IoT devices (e.g., smart thermostats adjusting energy use) or industrial robots optimizing production lines.\n",
      "\n",
      "6. **Finance**:\n",
      "   - Algorithmic trading systems that execute trades autonomously.\n",
      "\n",
      "---\n",
      "\n",
      "### **Techniques Used**\n",
      "- **Reinforcement Learning**: Agents learn optimal actions through trial and error (e.g., AlphaGo).\n",
      "- **Multi-Agent Systems**: Multiple AI agents collaborating or competing (e.g., in traffic management or decentralized networks).\n",
      "- **Natural Language Processing (NLP)**: Enables conversational agents (e.g., Siri, Alexa).\n",
      "- **Computer Vision**: For perception in robotics or security systems.\n",
      "\n",
      "---\n",
      "\n",
      "### **Challenges & Considerations**\n",
      "- **Ethical and Safety Concerns**:\n",
      "  - Ensuring decisions align with human values (e.g., avoiding harmful outcomes).\n",
      "  - Transparency in decision-making (\"black box\" issues in complex models).\n",
      "- **Reliability**: Ensuring consistency in unpredictable or adversarial environments.\n",
      "- **Scalability**: Managing interactions in multi-agent systems or complex environments.\n",
      "- **Energy and Computational Costs**: Especially in real-time systems requiring rapid decision-making.\n",
      "\n",
      "---\n",
      "\n",
      "### **Examples of Agentic AI in Action**\n",
      "- **Self-Driving Cars**: Tesla’s Autopilot uses sensors and AI to navigate roads autonomously.\n",
      "- **Robotic Process Automation (RPA)**: Software agents that automate repetitive tasks (e.g., data entry, invoice processing).\n",
      "- **AlphaStar**: An AI agent developed by DeepMind that plays video games (e.g., StarCraft II) at a professional level.\n",
      "- **Smart Agriculture**: Sensors and AI-driven irrigation systems that adjust water usage based on real-time data.\n",
      "\n",
      "---\n",
      "\n",
      "### **Relationship to Other Concepts**\n",
      "- **Autonomous AI**: A subset of Agentic AI, focusing on self-governed systems.\n",
      "- **Multi-Agent Systems**: Networks of interacting agents (e.g., decentralized blockchain nodes).\n",
      "- **General AI**: Hypothetical systems with human-like intelligence and agency across diverse tasks (not yet achieved).\n",
      "\n",
      "---\n",
      "\n",
      "### **Why It Matters**\n",
      "Agentic AI represents a shift toward systems that *act* in the world rather than just processing data. It underpins innovations like autonomous vehicles, smart cities, and industrial automation, but requires careful design to address ethical, safety, and reliability challenges.\n",
      "\n",
      "If you're exploring specific use cases or technical implementations, let me know, and I can provide deeper insights!\n"
     ]
    }
   ],
   "source": [
    "from langchain_groq import ChatGroq\n",
    "from langchain_core.prompts import ChatPromptTemplate\n",
    "\n",
    "llm_groq = ChatGroq(model=\"qwen-qwq-32b\")\n",
    "\n",
    "prompt = ChatPromptTemplate.from_messages(\n",
    "    [\n",
    "        (\"system\", \"You are an expert AI engineer. Provide me answer based on the question.\"),\n",
    "        (\"user\", \"{question}\")\n",
    "    ]\n",
    ")\n",
    "question = \"What is Agentic AI?\"\n",
    "\n",
    "# Using the same prompt with Groq AI\n",
    "prompt_messages_groq = prompt.format_messages(question=question)\n",
    "response_groq = llm_groq.invoke(prompt_messages_groq)\n",
    "print(response_groq.content)"
   ]
  },
  {
   "cell_type": "code",
   "execution_count": 3,
   "metadata": {},
   "outputs": [
    {
     "name": "stdout",
     "output_type": "stream",
     "text": [
      "content='\\n<think>\\nOkay, the user is asking about LangSmith. Let me start by recalling what I know about it. LangSmith is a tool related to LangChain, right? I think LangChain is a framework for building language model applications, and LangSmith is the tool for monitoring and managing those applications. \\n\\nFirst, I should explain what LangSmith is. It\\'s part of the LangChain ecosystem, so maybe start with that. The user might be familiar with LangChain, but I should still mention it briefly.\\n\\nKey features: I remember that LangSmith helps with tracking runs, which are like the execution of LLM tasks. It allows you to see inputs, outputs, and metrics. Maybe mention things like performance monitoring, debugging, and optimization. Also, it has a UI for visualizing the runs, which helps in understanding how the models are performing over time.\\n\\nUse cases: Developers might use it to track model performance, see if a model is degrading, or compare different versions. Also, for debugging when something goes wrong in the app. Maybe mention A/B testing different models or configurations.\\n\\nComponents: There\\'s a Server or cloud service, the UI, and the client libraries. The server stores the data, the UI shows it, and the client lets you integrate it into your application.\\n\\nHow to use it: You instrument your code with LangChain\\'s tracer, which sends data to LangSmith. Then you can visualize and analyze in the UI. Maybe mention that it\\'s open-source and can be self-hosted or used via their cloud.\\n\\nWait, does it support multiple models? Probably, since LangChain works with various providers. Also, maybe mention specific metrics like token usage, response times, or custom metrics you can track.\\n\\nI should also highlight the benefits: better visibility into LLM applications, easier debugging, and optimization. Maybe compare it to traditional logging by saying it\\'s more structured and focused on LLM workflows.\\n\\nHmm, are there any common scenarios where LangSmith is especially useful? Like in production environments where you need to monitor the model\\'s behavior over time. Or during development to understand why a particular output was generated.\\n\\nAlso, maybe mention the open-source aspect. The LangChain team provides the open-source version, and there\\'s a hosted service too. That gives options for different deployment scenarios.\\n\\nI should structure the answer clearly, starting with a definition, key features, use cases, how it works, and benefits. Make sure it\\'s concise but covers the main points. Avoid technical jargon where possible, but since the user is asking about a specific tool, some terms are necessary.\\n\\nWait, do I need to explain LangChain first? The user might already know, but it\\'s safer to give a brief intro to LangChain before diving into LangSmith. That way, the context is clear.\\n\\nAlso, check if there\\'s anything else important. Maybe mention specific integrations or supported platforms? Or how it helps in collaboration among teams? Maybe not necessary for the basic explanation, but if I can think of a key point, include it.\\n\\nAlright, putting it all together in a structured way. Start with an overview, then key features, use cases, architecture, and benefits. Make sure the answer is helpful and addresses the user\\'s query thoroughly.\\n</think>\\n\\n**LangSmith** is a powerful tool within the **LangChain** ecosystem, designed to monitor, debug, and optimize large language model (LLM) applications. It provides a structured way to track and analyze the performance of LLM workflows, helping developers and teams ensure their applications are efficient, accurate, and scalable. Here\\'s a detailed breakdown:\\n\\n---\\n\\n### **What is LangChain?**\\nBefore diving into LangSmith, a quick context:  \\n**LangChain** is an open-source framework for building applications powered by LLMs (e.g., ChatGPT, Llama, etc.). It simplifies integrating LLMs into workflows, handling tasks like chatbots, document analysis, or code generation. LangChain abstracts complexities like token management, caching, and error handling.\\n\\n---\\n\\n### **What is LangSmith?**\\nLangSmith acts as the \"telemetry\" layer for LangChain applications. It is a **full-stack observability platform** that enables:\\n- **Tracking**: Monitoring the execution of LLM workflows (called **Runs**).\\n- **Debugging**: Identifying errors or inefficiencies in LLM outputs.\\n- **Optimization**: Fine-tuning models and workflows based on performance data.\\n- **Collaboration**: Sharing insights with teams to improve applications iteratively.\\n\\n---\\n\\n### **Key Features of LangSmith**\\n1. **Run Tracking**  \\n   - Records every interaction with an LLM, including inputs, outputs, and metadata (e.g., user context, timestamps).\\n   - Visualizes the flow of an application (e.g., a conversation in a chatbot).\\n\\n2. **Performance Monitoring**  \\n   - Tracks metrics like response time, token usage, and error rates.\\n   - Alerts if performance degrades over time (e.g., \"My model’s accuracy dropped this week\").\\n\\n3. **Debugging Tools**  \\n   - Inspect individual runs to identify why an LLM produced a specific output.\\n   - Compare outputs from different models or parameter configurations.\\n\\n4. **A/B Testing**  \\n   - Test and compare different LLM configurations or prompt templates side-by-side.\\n   - Quantify which setup performs better for your use case.\\n\\n5. **Custom Metrics**  \\n   - Add custom metrics (e.g., user satisfaction scores, downstream impact) to assess performance beyond raw outputs.\\n\\n6. **Visualization**  \\n   - Interactive UI to explore runs, filter results, and drill down into details.\\n   - Dashboard for summarizing key trends (e.g., \"Which model version has the lowest latency?\").\\n\\n---\\n\\n### **How It Works**\\nLangSmith integrates seamlessly with LangChain applications through a **tracer**:\\n1. **Instrument Your Code**: Add a tracer to your LangChain workflows.\\n   ```python\\n   from langchain.smith import Run\\n   from langchain.llms import OpenAI\\n\\n   llm = OpenAI()\\n   with Run(name=\"my-llm-prompt\"):\\n       response = llm(\"What\\'s the weather today?\")\\n   ```\\n2. **Data Collection**: The tracer sends execution data to a LangSmith server (either self-hosted or via the cloud).\\n3. **Analysis**: Explore runs, errors, and metrics in the LangSmith UI.\\n\\n---\\n\\n### **Use Cases**\\n- **Production Monitoring**: Track real-world performance of deployed models.\\n- **Model Optimization**: Identify when to switch models (e.g., from `gpt-3.5-turbo` to `gpt-4` based on cost vs. accuracy).\\n- **Team Collaboration**: Share insights and troubleshoot issues with colleagues.\\n- **Compliance**: Audit logs to ensure outputs comply with safety guidelines.\\n\\n---\\n\\n### **Architectural Components**\\n1. **LangSmith Server**  \\n   - Stores and processes data from LangChain runs (can be self-hosted or use the hosted service at [smith.langchain.com](https://smith.langchain.com)).\\n2. **LangSmith UI**  \\n   - A web interface to explore runs, filter results, and generate insights.\\n3. **LangChain Tracer**  \\n   - Client-side code that logs runs into LangSmith.\\n\\n---\\n\\n### **Why Use LangSmith?**\\n- **Reduce Debugging Time**: Quickly find root causes of errors in complex workflows.\\n- **Cost Management**: Monitor token usage and avoid unexpected billing spikes.\\n- **Iterative Improvement**: Continuously refine prompts, models, or workflows with data-driven insights.\\n\\n---\\n\\n### **Getting Started**\\n1. **Install via pip**: `pip install langchain`\\n2. **Use the Tracer**: Add instrumentation to your LangChain code.\\n3. **Explore the UI**: Analyze runs at [smith.langchain.com](https://smith.langchain.com) (free tier available).\\n\\n---\\n\\n### **Key Concepts**\\n- **Runs**: Atomic units of work (e.g., a single LLM call).\\n- **Runs Hierarchy**: Nested runs track complex workflows (e.g., a chat conversation spanning multiple steps).\\n- **Feedback Loops**: Tag runs as \"good\" or \"bad\" to train or fine-tune models.\\n\\n---\\n\\n### **Limitations**\\n- Requires LangChain to instrument your code; not a standalone tool.\\n- Basic features are free, but advanced analytics or large-scale data storage may require a paid plan.\\n\\n---\\n\\n### **Alternatives**\\n- **MLflow**: For MLOps but lacks LLM-specific tracking.\\n- **Custom logging solutions**: Less integrated and more time-consuming to set up.\\n\\n---\\n\\nLangSmith is essential for anyone building production-ready LLM applications, offering clarity into the \"black box\" of LLM interactions while streamlining team collaboration and optimization efforts. For more details, visit [the LangSmith documentation](https://docs.langchain.com/docs/components/monitoring/langsmith).)' additional_kwargs={} response_metadata={'token_usage': {'completion_tokens': 1829, 'prompt_tokens': 38, 'total_tokens': 1867, 'completion_time': 4.623454251, 'prompt_time': 0.005306798, 'queue_time': 0.242996924, 'total_time': 4.6287610489999995}, 'model_name': 'qwen-qwq-32b', 'system_fingerprint': 'fp_98b01f25b2', 'finish_reason': 'stop', 'logprobs': None} id='run--4991dd13-bcd2-44f8-891f-df51cbe46d54-0' usage_metadata={'input_tokens': 38, 'output_tokens': 1829, 'total_tokens': 1867}\n"
     ]
    }
   ],
   "source": [
    "# chaining\n",
    "question = \"can you tell me about langsmith?\"\n",
    "chain = prompt | llm_groq\n",
    "response_chain = chain.invoke(question)\n",
    "print(response_chain)"
   ]
  },
  {
   "cell_type": "code",
   "execution_count": 9,
   "metadata": {},
   "outputs": [
    {
     "name": "stdout",
     "output_type": "stream",
     "text": [
      "\n",
      "<think>\n",
      "Okay, the user is asking about Agentic AI. Let me start by recalling what I know. Agentic AI, sometimes called Autonomous AI, refers to systems that can operate independently to some extent. But I need to make sure I get the definition right. I should check if there's a standard definition or if it's still emerging. \n",
      "\n",
      "Hmm, I remember that in some contexts, it's related to the idea of an \"agent\" in computer science. Agents are entities that perceive their environment through sensors and act upon it through effectors. So Agentic AI would be AI systems designed as agents. They should have autonomy, react to stimuli, and possibly have some level of pro-activeness.\n",
      "\n",
      "Wait, but there's also something about decision-making. Autonomy implies that the AI can make decisions without human intervention. Maybe it's similar to autonomous vehicles or drones, which operate on their own. But Agentic AI might be a broader term. I should also consider if there's a distinction between autonomy and agentic here. Maybe \"agentic\" emphasizes the proactive aspect, not just autonomous but actively pursuing goals.\n",
      "\n",
      "I should also think about components. Such systems might have goal-directed behavior, learning capabilities, and adaptability. They could use reinforcement learning or other methods to adjust their actions based on feedback. Applications might include robotics, smart assistants, or even complex systems like managing data centers.\n",
      "\n",
      "Wait, but I need to ensure that I'm not conflating Agentic AI with other concepts like General AI or Strong AI. Agentic AI is more about the agency and autonomy rather than the scope of intelligence. It's about the ability to act independently towards objectives, not necessarily being a human-level AI.\n",
      "\n",
      "Also, there might be different levels of autonomy. Some systems have limited autonomy, needing humans to set objectives, while others can set their own goals. Maybe Agentic AI is on the higher end where they can not only act but also adapt their goals based on new information.\n",
      "\n",
      "Potential challenges include safety and ethical issues. If an AI is making decisions on its own, how do we ensure it aligns with human values? There's also the problem of accountability. If something goes wrong, who's responsible?\n",
      "\n",
      "Examples could be helpful. Like, a cleaning robot that not only follows a programmed route but also decides when to clean based on sensors, or a trading bot that adjusts stock purchases based on market changes without human input each time.\n",
      "\n",
      "I should also mention that the term might be used differently in various fields. In robotics, it's about physical agents, while in software, it could be about algorithms managing tasks. Maybe there's a connection to multi-agent systems where multiple AIs interact, but that's a different aspect.\n",
      "\n",
      "So putting it all together, Agentic AI is an AI system with autonomy, decision-making capabilities, and proactive behavior to achieve specific goals, operating in an environment with sensors and effectors. It can learn and adapt, and its key aspects include autonomy, reactivity, proactiveness, and goal-orientation. Applications span various domains, but there are important considerations around safety and ethics.\n",
      "</think>\n",
      "\n",
      "**Agentic AI** refers to artificial intelligence systems designed to operate independently, exhibiting autonomy, decision-making capabilities, and proactive behavior to achieve predefined or self-determined goals within their environment. Here's a structured breakdown:\n",
      "\n",
      "### Core Characteristics:\n",
      "1. **Autonomy**: \n",
      "   - Acts without continuous human intervention, making decisions and executing actions based on its programming, learning, and environmental inputs.\n",
      "   - Can set or adjust its own objectives in some cases (e.g., adaptive goal-setting).\n",
      "\n",
      "2. **Reactivity**: \n",
      "   - Responds to real-time environmental stimuli using sensors or data inputs, allowing it to adjust its behavior dynamically.\n",
      "\n",
      "3. **Proactiveness**: \n",
      "   - Takes initiative to achieve goals, rather than merely reacting. For example, a robot might preemptively optimize a task to save energy.\n",
      "\n",
      "4. **Goal-Directed Behavior**: \n",
      "   - Works toward specific objectives, whether established by humans or autonomously derived (e.g., maximizing efficiency or minimizing costs).\n",
      "\n",
      "5. **Learning and Adaptation**: \n",
      "   - Uses machine learning or reinforcement learning to improve performance over time and adapt to new scenarios.\n",
      "\n",
      "---\n",
      "\n",
      "### Key Components of Agentic AI Systems:\n",
      "- **Sensors/Inputs**: Perceive the environment (e.g., cameras, sensors, data streams).\n",
      "- **Decision-Making Engine**: Analyzes inputs and determines actions (e.g., algorithms, neural networks).\n",
      "- **Actuators/Outputs**: Execute actions (e.g., moving a robot arm, sending a message).\n",
      "- **Learning Mechanisms**: Refine behavior through experience (e.g., adjusting strategies based on outcomes).\n",
      "\n",
      "---\n",
      "\n",
      "### Applications:\n",
      "- **Robotics**: Autonomous drones, cleaning robots, or industrial bots that navigate and perform tasks.\n",
      "- **Finance**: Algorithmic trading systems that execute trades based on market data without human approval.\n",
      "- **Healthcare**: AI systems managing patient care protocols or drug delivery.\n",
      "- **Smart Systems**: Home assistants optimizing energy use or security systems predicting threats.\n",
      "- **Multi-Agent Systems**: Networks of AIs collaborating to solve complex problems (e.g., traffic management).\n",
      "\n",
      "---\n",
      "\n",
      "### Challenges and Considerations:\n",
      "1. **Safety and Ethics**: \n",
      "   - Ensuring AI aligns with human values and avoids unintended consequences (e.g., a cleaning robot using unsafe methods to save time).\n",
      "   - **Value Alignment Problem**: Ensuring goals remain ethical and beneficial to humans.\n",
      "\n",
      "2. **Accountability**: \n",
      "   - Determining responsibility when an autonomous system causes harm (e.g., self-driving car accidents).\n",
      "\n",
      "3. **Transparency and Explainability**: \n",
      "   - Understanding how an AI makes decisions, especially in critical applications like healthcare.\n",
      "\n",
      "4. **Edge Cases**: \n",
      "   - Handling novel or ambiguous situations where predefined rules may fail.\n",
      "\n",
      "---\n",
      "\n",
      "### Relationship to Other AI Concepts:\n",
      "- **Autonomous AI**: A subset of Agentic AI, focusing on independent operation (e.g., self-driving cars).\n",
      "- **General AI (AGI)**: Hypothetical systems with human-like flexibility and intelligence, which would inherently be agentic but far beyond current capabilities.\n",
      "- **Multi-Agent Systems**: Networks of agentic AI entities collaborating, competing, or coexisting (common in simulations and decentralized systems).\n",
      "\n",
      "---\n",
      "\n",
      "### Example Use Cases:\n",
      "- **Industrial Automation**: Robots in factories adjusting their workflows to optimize production.\n",
      "- **Space Exploration**: Rovers on Mars exploring autonomously while communicating with Earth for major decisions.\n",
      "- **Customer Service**: Chatbots that dynamically adapt conversations based on user interactions.\n",
      "\n",
      "---\n",
      "\n",
      "### Current Research Focus:\n",
      "- **Reinforcement Learning**: Training agents to learn optimal behaviors through trial and error.\n",
      "- **Ethics and Governance**: Developing frameworks to ensure safe and responsible deployment.\n",
      "- **Human-AI Collaboration**: Designing systems that balance autonomy with human oversight.\n",
      "\n",
      "---\n",
      "\n",
      "In summary, Agentic AI represents the evolution of AI toward systems capable of independent, adaptive, and goal-driven operation, with significant potential and ethical implications requiring careful management.\n"
     ]
    }
   ],
   "source": [
    "### Output Parsers\n",
    "from langchain_core.output_parsers import StrOutputParser\n",
    "\n",
    "output_parser = StrOutputParser()\n",
    "# Using the output parser with the chain\n",
    "chain = prompt | llm_groq | output_parser\n",
    "response_parsed = chain.invoke(question)\n",
    "print(response_parsed)"
   ]
  },
  {
   "cell_type": "code",
   "execution_count": 14,
   "metadata": {},
   "outputs": [
    {
     "name": "stdout",
     "output_type": "stream",
     "text": [
      "{'definition': 'Agentic AI refers to artificial intelligence systems that can act autonomously, make decisions, and take actions in the real world to achieve specific goals. Unlike traditional AI systems that rely on explicit programming, agentic AI systems learn and adapt to their environment through experience and interaction.', 'characteristics': ['Autonomy', 'Goal-oriented', 'Learning and adaptation', 'Decision-making', 'Action execution'], 'examples': ['Self-driving cars', 'Robotics systems', 'Personalized virtual assistants', 'Fraud detection systems'], 'benefits': ['Increased efficiency and productivity', 'Improved decision-making', 'Enhanced automation', 'New possibilities for innovation'], 'challenges': ['Safety and security concerns', 'Ethical considerations', 'Explainability and transparency', 'Bias and fairness']}\n"
     ]
    }
   ],
   "source": [
    "from langchain_core.output_parsers import JsonOutputParser\n",
    "from langchain_core.prompts import PromptTemplate\n",
    "\n",
    "llm_gemma = ChatGroq(model=\"gemma2-9b-it\")\n",
    "\n",
    "json_output_parser = JsonOutputParser()\n",
    "\n",
    "prompt = PromptTemplate(\n",
    "    input_variables=[\"question\"],\n",
    "    template=\"Answer the user question {question} in {format_instructions}.\",\n",
    "    partial_variables={\"format_instructions\": json_output_parser.get_format_instructions()}\n",
    ")\n",
    "\n",
    "question = \"what is agentic AI?\"\n",
    "chain_json = prompt | llm_gemma | json_output_parser\n",
    "response_json = chain_json.invoke({\"question\": question})\n",
    "print(response_json)\n"
   ]
  },
  {
   "cell_type": "code",
   "execution_count": 15,
   "metadata": {},
   "outputs": [
    {
     "name": "stdout",
     "output_type": "stream",
     "text": [
      "{'name': 'langGraph', 'description': 'langGraph is an open-source toolkit for visualizing and analyzing language models.', 'features': ['Interactive visualizations of language model architectures.', 'Analysis of token embeddings and their relationships.', 'Exploration of model behavior through input-output analysis.', 'Integration with popular language modeling frameworks.', 'Customization and extensibility through plugins.'], 'purpose': ['Understanding the structure and function of language models.', 'Identifying potential biases or limitations in language models.', 'Debugging and improving language model performance.', 'Communicating insights about language models to a wider audience.'], 'languages': ['Python'], 'repository': 'https://github.com/facebookresearch/langgraph', 'documentation': 'https://langgraph.readthedocs.io/'}\n"
     ]
    }
   ],
   "source": [
    "from langchain_core.prompts import ChatPromptTemplate\n",
    "from langchain_core.output_parsers import JsonOutputParser\n",
    "\n",
    "# Using a chat prompt template with Groq AI\n",
    "\n",
    "json_output_parser = JsonOutputParser()\n",
    "chat_prompt = ChatPromptTemplate.from_messages(\n",
    "    [\n",
    "        (\"system\", \"You are a AI helpful assistant, provide the information in {format_instructions}.\"),\n",
    "        (\"user\", \"{question}\")\n",
    "    ]\n",
    ")\n",
    "# Using the chat prompt with Groq AI\n",
    "chain_json = chat_prompt | llm_gemma | json_output_parser\n",
    "response_json = chain_json.invoke({\"question\":\"tell me about langGraph\", \"format_instructions\": json_output_parser.get_format_instructions()})\n",
    "print(response_json)"
   ]
  },
  {
   "cell_type": "code",
   "execution_count": 16,
   "metadata": {},
   "outputs": [
    {
     "data": {
      "text/plain": [
       "{'setup': \"Why don't scientists trust atoms?\",\n",
       " 'punchline': 'Because they make up everything!'}"
      ]
     },
     "execution_count": 16,
     "metadata": {},
     "output_type": "execute_result"
    }
   ],
   "source": [
    "from pydantic import BaseModel, Field\n",
    "\n",
    "class Joke(BaseModel):\n",
    "    setup: str = Field(description=\"The setup of the joke\")\n",
    "    punchline: str = Field(description=\"The punchline of the joke\")\n",
    "\n",
    "# Using the Pydantic model with the JSON output parser\n",
    "parser = JsonOutputParser(pydantic_object=Joke)\n",
    "\n",
    "prompt= PromptTemplate(\n",
    "    input_variables=[\"question\"],\n",
    "    template=\"Answer the user question {question} in {format_instructions}.\",\n",
    "    partial_variables={\"format_instructions\": parser.get_format_instructions()}\n",
    ")\n",
    "chain_pydantic = prompt | llm_gemma | parser\n",
    "\n",
    "chain_pydantic.invoke({\"question\":\"tell me a joke\"})"
   ]
  },
  {
   "cell_type": "code",
   "execution_count": null,
   "metadata": {},
   "outputs": [
    {
     "name": "stdout",
     "output_type": "stream",
     "text": [
      "PARSED\n"
     ]
    },
    {
     "data": {
      "text/plain": [
       "'```JSON\\n{\\n  \"JOKE\": \"WHY DON\\'T SCIENTISTS TRUST ATOMS? BECAUSE THEY MAKE UP EVERYTHING!\"\\n}\\n```'"
      ]
     },
     "execution_count": 25,
     "metadata": {},
     "output_type": "execute_result"
    }
   ],
   "source": [
    "from langchain_core.output_parsers import BaseOutputParser\n",
    "class CustomOutputParser(BaseOutputParser):\n",
    "    def parse(self, text: str) -> str:\n",
    "        print(\"PARSED\")\n",
    "        # Custom parsing logic\n",
    "        return text.strip().upper()  # Example: convert to uppercase\n",
    "# Using the custom output parser with the chain\n",
    "custom_parser = CustomOutputParser()\n",
    "chain_custom = prompt | llm_gemma | custom_parser \n",
    "response_custom = chain_custom.invoke({\"question\":\"tell me a joke\"})\n",
    "response_custom"
   ]
  },
  {
   "cell_type": "code",
   "execution_count": 31,
   "metadata": {},
   "outputs": [
    {
     "name": "stdout",
     "output_type": "stream",
     "text": [
      "{'product_name': 'iPhone 6', 'product_price': 200, 'product_description': 'A sleek and stylish smartphone with a 4.7-inch Retina HD display, powerful A8 chip, and an 8MP rear camera.'}\n"
     ]
    }
   ],
   "source": [
    "from langchain_core.prompts import ChatPromptTemplate\n",
    "from langchain_core.output_parsers import JsonOutputParser\n",
    "from pydantic import BaseModel, Field\n",
    "\n",
    "class Product(BaseModel):\n",
    "    product_name: str = Field(description=\"The name of the product\")\n",
    "    product_price: float = Field(description=\"The price of the product in USD\")\n",
    "    product_description: str = Field(description=\"A brief description of the product\")\n",
    "\n",
    "# Define the chat prompt template\n",
    "chat_prompt = ChatPromptTemplate.from_messages(\n",
    "    [\n",
    "        (\"system\", \"You are a helpful assistant. Provide the information in {format_instructions}.\"),\n",
    "        (\"user\", \"{question}\")\n",
    "    ]\n",
    ")\n",
    "# Define the JSON output parser\n",
    "json_output_parser = JsonOutputParser(pydantic_object=Product)\n",
    "# chaining\n",
    "chain_product = chat_prompt | llm_gemma | json_output_parser\n",
    "# Invoke the chain with a question\n",
    "response_product = chain_product.invoke({\n",
    "    \"question\": \"Tell about iphone 6 product details\",\n",
    "    \"format_instructions\": json_output_parser.get_format_instructions()\n",
    "})\n",
    "print(response_product)"
   ]
  }
 ],
 "metadata": {
  "kernelspec": {
   "display_name": ".venv",
   "language": "python",
   "name": "python3"
  },
  "language_info": {
   "codemirror_mode": {
    "name": "ipython",
    "version": 3
   },
   "file_extension": ".py",
   "mimetype": "text/x-python",
   "name": "python",
   "nbconvert_exporter": "python",
   "pygments_lexer": "ipython3",
   "version": "3.11.13"
  }
 },
 "nbformat": 4,
 "nbformat_minor": 2
}
