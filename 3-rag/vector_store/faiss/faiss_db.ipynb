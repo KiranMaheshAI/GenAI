{
 "cells": [
  {
   "cell_type": "markdown",
   "metadata": {},
   "source": [
    "### FAISS DB\n",
    "\n",
    "We can Store Vectors in FAISS DB \n",
    "We can calculate the similarity between documents.\n",
    "\n",
    "And we can have Vector store as retriever and use in the RAG Pipeline"
   ]
  },
  {
   "cell_type": "markdown",
   "metadata": {},
   "source": [
    "| Metric            | Similarity Score Range | Behavior                              |\n",
    "| ----------------- | ---------------------- | ------------------------------------- |\n",
    "| Cosine Similarity | \\[-1, 1]               | Focuses on angle only |\n",
    "| L2 Distance       | \\[0, ∞)                | Focuses on **magnitude + direction**  |\n",
    "\n",
    "\n",
    "| Feature               | `Flat`                | `IVF` (Inverted File Index)        | `HNSW` (Graph-based Index)          |\n",
    "| --------------------- | --------------------- | ---------------------------------- | ----------------------------------- |\n",
    "| Type of Search     | Exact                 | Approximate (cluster-based)        | Approximate (graph-based traversal) |\n",
    "| Speed               | Slow (linear scan)    | Fast (search only in top clusters) | Very Fast (graph walk)              |\n",
    "\n",
    "\n",
    "| Dataset Size              | Recommended Index                 |\n",
    "| ------------------------- | --------------------------------- |\n",
    "| UPTO 1L                     | `IndexFlatL2` or `IndexFlatIP`    |\n",
    "| UPTO 1M                  | `IndexIVFFlat` or `IndexHNSWFlat` |\n",
    "| > 1M                      | `IndexIVFPQ` or `IndexHNSWFlat`   |"
   ]
  },
  {
   "cell_type": "code",
   "execution_count": 1,
   "metadata": {},
   "outputs": [
    {
     "name": "stderr",
     "output_type": "stream",
     "text": [
      "/Users/I572648/Library/CloudStorage/OneDrive-SAPSE/Desktop/Git/GenAI/.venv/lib/python3.11/site-packages/tqdm/auto.py:21: TqdmWarning: IProgress not found. Please update jupyter and ipywidgets. See https://ipywidgets.readthedocs.io/en/stable/user_install.html\n",
      "  from .autonotebook import tqdm as notebook_tqdm\n"
     ]
    }
   ],
   "source": [
    "from langchain_huggingface import HuggingFaceEmbeddings\n",
    "embeddings=HuggingFaceEmbeddings(model_name=\"all-MiniLM-L6-v2\")"
   ]
  },
  {
   "cell_type": "code",
   "execution_count": 2,
   "metadata": {},
   "outputs": [
    {
     "data": {
      "text/plain": [
       "384"
      ]
     },
     "execution_count": 2,
     "metadata": {},
     "output_type": "execute_result"
    }
   ],
   "source": [
    "vector_query = embeddings.embed_query(\"This is a test query\")\n",
    "len(vector_query)  # Should return the length of the embedding vector"
   ]
  },
  {
   "cell_type": "code",
   "execution_count": 3,
   "metadata": {},
   "outputs": [],
   "source": [
    "# Cosine similarity\n",
    "from sklearn.metrics.pairwise import cosine_similarity"
   ]
  },
  {
   "cell_type": "code",
   "execution_count": 4,
   "metadata": {},
   "outputs": [],
   "source": [
    "documents = [\"What is the capital of USA?\",\n",
    "             \"Who is the president of USA?\",\n",
    "             \"who is the prime minister of INDIA?\"]\n",
    "\n",
    "doc_embed = embeddings.embed_documents(documents)"
   ]
  },
  {
   "cell_type": "code",
   "execution_count": 5,
   "metadata": {},
   "outputs": [
    {
     "data": {
      "text/plain": [
       "array([[0.04977604, 0.2418052 , 0.66529683]])"
      ]
     },
     "execution_count": 5,
     "metadata": {},
     "output_type": "execute_result"
    }
   ],
   "source": [
    "my_query = \"Naredra Modi is the prime minister of India\"\n",
    "query_embed = embeddings.embed_query(my_query)\n",
    "\n",
    "# Cosine similarity between query and documents\n",
    "similarity_scores = cosine_similarity([query_embed], doc_embed)\n",
    "similarity_scores"
   ]
  },
  {
   "cell_type": "code",
   "execution_count": 6,
   "metadata": {},
   "outputs": [
    {
     "data": {
      "text/plain": [
       "array([[1.37856736, 1.23141773, 0.81817257]])"
      ]
     },
     "execution_count": 6,
     "metadata": {},
     "output_type": "execute_result"
    }
   ],
   "source": [
    "# Euclidean distance\n",
    "from sklearn.metrics.pairwise import euclidean_distances\n",
    "euclidean_scores = euclidean_distances([query_embed], doc_embed)\n",
    "euclidean_scores"
   ]
  },
  {
   "cell_type": "markdown",
   "metadata": {
    "vscode": {
     "languageId": "bat"
    }
   },
   "source": [
    "### Vector store using FAISS"
   ]
  },
  {
   "cell_type": "code",
   "execution_count": 14,
   "metadata": {},
   "outputs": [
    {
     "data": {
      "text/plain": [
       "['07f57caf-53b4-4022-a204-6b7c0228a2f7',\n",
       " 'fc662d75-5418-48a3-8d45-13c794852ba3',\n",
       " '6ee5338b-942c-47a0-af85-6c17526cbf51',\n",
       " 'be366424-4f8c-4564-9ed5-fbb59d673ba7']"
      ]
     },
     "execution_count": 14,
     "metadata": {},
     "output_type": "execute_result"
    }
   ],
   "source": [
    "# Create a vectorstore using FAISS\n",
    "import faiss\n",
    "from langchain_community.vectorstores import FAISS\n",
    "from langchain_community.docstore.in_memory import InMemoryDocstore\n",
    "\n",
    "index = faiss.IndexFlatL2(384) # 384 is the dimension of the embedding vector\n",
    "\n",
    "vectorstore = FAISS(embedding_function=embeddings, index=index, docstore=InMemoryDocstore({}), index_to_docstore_id={})\n",
    "# Add documents to the vectorstore\n",
    "vectorstore.add_texts(texts=[\"AI is future\",\"AI is the future of technology\", \"AI is the future of work\", \"Dogs are bark\"])"
   ]
  },
  {
   "cell_type": "code",
   "execution_count": 15,
   "metadata": {},
   "outputs": [
    {
     "data": {
      "text/plain": [
       "[Document(id='fc662d75-5418-48a3-8d45-13c794852ba3', metadata={}, page_content='AI is the future of technology'),\n",
       " Document(id='07f57caf-53b4-4022-a204-6b7c0228a2f7', metadata={}, page_content='AI is future')]"
      ]
     },
     "execution_count": 15,
     "metadata": {},
     "output_type": "execute_result"
    }
   ],
   "source": [
    "vectorstore.similarity_search(\"What is the future of AI?\", k=2)"
   ]
  },
  {
   "cell_type": "code",
   "execution_count": 16,
   "metadata": {},
   "outputs": [],
   "source": [
    "# from uuid import uuid4\n",
    "from langchain_core.documents import Document\n",
    "\n",
    "document_1 = Document(\n",
    "    page_content=\"I had chocolate chip pancakes and scrambled eggs for breakfast this morning.\",\n",
    "    metadata={\"source\": \"tweet\"},\n",
    ")\n",
    "\n",
    "document_2 = Document(\n",
    "    page_content=\"The weather forecast for tomorrow is cloudy and overcast, with a high of 62 degrees.\",\n",
    "    metadata={\"source\": \"news\"},\n",
    ")\n",
    "\n",
    "document_3 = Document(\n",
    "    page_content=\"Building an exciting new project with LangChain - come check it out!\",\n",
    "    metadata={\"source\": \"tweet\"},\n",
    ")\n",
    "\n",
    "document_4 = Document(\n",
    "    page_content=\"Robbers broke into the city bank and stole $1 million in cash.\",\n",
    "    metadata={\"source\": \"news\"},\n",
    ")\n",
    "\n",
    "document_5 = Document(\n",
    "    page_content=\"Wow! That was an amazing movie. I can't wait to see it again.\",\n",
    "    metadata={\"source\": \"tweet\"},\n",
    ")\n",
    "\n",
    "document_6 = Document(\n",
    "    page_content=\"Is the new iPhone worth the price? Read this review to find out.\",\n",
    "    metadata={\"source\": \"website\"},\n",
    ")\n",
    "\n",
    "document_7 = Document(\n",
    "    page_content=\"The top 10 soccer players in the world right now.\",\n",
    "    metadata={\"source\": \"website\"},\n",
    ")\n",
    "\n",
    "document_8 = Document(\n",
    "    page_content=\"LangGraph is the best framework for building stateful, agentic applications!\",\n",
    "    metadata={\"source\": \"tweet\"},\n",
    ")\n",
    "\n",
    "document_9 = Document(\n",
    "    page_content=\"The stock market is down 500 points today due to fears of a recession.\",\n",
    "    metadata={\"source\": \"news\"},\n",
    ")\n",
    "\n",
    "document_10 = Document(\n",
    "    page_content=\"I have a bad feeling I am going to get deleted :(\",\n",
    "    metadata={\"source\": \"tweet\"},\n",
    ")\n",
    "\n",
    "documents = [\n",
    "    document_1,\n",
    "    document_2,\n",
    "    document_3,\n",
    "    document_4,\n",
    "    document_5,\n",
    "    document_6,\n",
    "    document_7,\n",
    "    document_8,\n",
    "    document_9,\n",
    "    document_10,\n",
    "]"
   ]
  },
  {
   "cell_type": "code",
   "execution_count": 17,
   "metadata": {},
   "outputs": [],
   "source": [
    "index=faiss.IndexFlatIP(384) # for cosine similarity, use IndexFlatIP\n",
    "vector_store=FAISS(\n",
    "    embedding_function=embeddings,\n",
    "    index=index,\n",
    "    docstore=InMemoryDocstore(),\n",
    "    index_to_docstore_id={},\n",
    ")"
   ]
  },
  {
   "cell_type": "code",
   "execution_count": 18,
   "metadata": {},
   "outputs": [
    {
     "data": {
      "text/plain": [
       "['f37fe5bd-2326-4d63-ad1c-6d302527b428',\n",
       " 'e46086ff-8f32-4a1c-959e-b6db6b82e6b1',\n",
       " '3ab37bf0-dcdd-460b-ad44-b4263e5d5a81',\n",
       " '20833fb6-a630-47ff-9ed3-66403a5ad4f5',\n",
       " '86312460-bb52-4e20-bc54-6a6f899948a4',\n",
       " '78447514-10a9-4483-b707-c21b86358f8e',\n",
       " 'c5672130-f691-4cbf-bfd6-5cfb2bae6ea7',\n",
       " 'b086a16d-0ebc-4058-9080-f89d8109d588',\n",
       " 'b5cae258-57c6-4a43-9512-1ce30dab2688',\n",
       " '6e51cafa-baa8-4613-b434-1b7f82e16d12']"
      ]
     },
     "execution_count": 18,
     "metadata": {},
     "output_type": "execute_result"
    }
   ],
   "source": [
    "vector_store.add_documents(documents=documents)"
   ]
  },
  {
   "cell_type": "code",
   "execution_count": 19,
   "metadata": {},
   "outputs": [
    {
     "data": {
      "text/plain": [
       "[Document(id='3ab37bf0-dcdd-460b-ad44-b4263e5d5a81', metadata={'source': 'tweet'}, page_content='Building an exciting new project with LangChain - come check it out!'),\n",
       " Document(id='b086a16d-0ebc-4058-9080-f89d8109d588', metadata={'source': 'tweet'}, page_content='LangGraph is the best framework for building stateful, agentic applications!')]"
      ]
     },
     "execution_count": 19,
     "metadata": {},
     "output_type": "execute_result"
    }
   ],
   "source": [
    "vector_store.similarity_search(\"LangChain provides abstractions to make working with LLMs easy\",\n",
    "    k=2 #hyperparameter\n",
    ")"
   ]
  },
  {
   "cell_type": "code",
   "execution_count": 20,
   "metadata": {},
   "outputs": [
    {
     "data": {
      "text/plain": [
       "[Document(id='3ab37bf0-dcdd-460b-ad44-b4263e5d5a81', metadata={'source': 'tweet'}, page_content='Building an exciting new project with LangChain - come check it out!'),\n",
       " Document(id='b086a16d-0ebc-4058-9080-f89d8109d588', metadata={'source': 'tweet'}, page_content='LangGraph is the best framework for building stateful, agentic applications!'),\n",
       " Document(id='6e51cafa-baa8-4613-b434-1b7f82e16d12', metadata={'source': 'tweet'}, page_content='I have a bad feeling I am going to get deleted :('),\n",
       " Document(id='f37fe5bd-2326-4d63-ad1c-6d302527b428', metadata={'source': 'tweet'}, page_content='I had chocolate chip pancakes and scrambled eggs for breakfast this morning.')]"
      ]
     },
     "execution_count": 20,
     "metadata": {},
     "output_type": "execute_result"
    }
   ],
   "source": [
    "vector_store.similarity_search(\n",
    "    \"LangChain provides abstractions to make working with LLMs easy\",\n",
    "    #k=2 #hyperparameter,\n",
    "    filter={\"source\":{\"$eq\": \"tweet\"}}\n",
    ")"
   ]
  },
  {
   "cell_type": "code",
   "execution_count": 21,
   "metadata": {},
   "outputs": [
    {
     "data": {
      "text/plain": [
       "[Document(id='20833fb6-a630-47ff-9ed3-66403a5ad4f5', metadata={'source': 'news'}, page_content='Robbers broke into the city bank and stole $1 million in cash.'),\n",
       " Document(id='e46086ff-8f32-4a1c-959e-b6db6b82e6b1', metadata={'source': 'news'}, page_content='The weather forecast for tomorrow is cloudy and overcast, with a high of 62 degrees.'),\n",
       " Document(id='b5cae258-57c6-4a43-9512-1ce30dab2688', metadata={'source': 'news'}, page_content='The stock market is down 500 points today due to fears of a recession.')]"
      ]
     },
     "execution_count": 21,
     "metadata": {},
     "output_type": "execute_result"
    }
   ],
   "source": [
    "result=vector_store.similarity_search(\n",
    "    \"LangChain provides abstractions to make working with LLMs easy\",\n",
    "    #k=2 #hyperparameter,\n",
    "    filter={\"source\":\"news\"}\n",
    ")\n",
    "result"
   ]
  },
  {
   "cell_type": "code",
   "execution_count": 22,
   "metadata": {},
   "outputs": [
    {
     "name": "stdout",
     "output_type": "stream",
     "text": [
      "Robbers broke into the city bank and stole $1 million in cash.\n"
     ]
    },
    {
     "data": {
      "text/plain": [
       "{'source': 'news'}"
      ]
     },
     "execution_count": 22,
     "metadata": {},
     "output_type": "execute_result"
    }
   ],
   "source": [
    "print(result[0].page_content)\n",
    "result[0].metadata"
   ]
  },
  {
   "cell_type": "markdown",
   "metadata": {},
   "source": [
    "### Vector store as Retriever"
   ]
  },
  {
   "cell_type": "code",
   "execution_count": 23,
   "metadata": {},
   "outputs": [],
   "source": [
    "# retrieve documents using retriever, we can use retriver instead of vector_store in RAG PIPELINE\n",
    "retriver = vector_store.as_retriever(search_kwargs={\"k\":3})"
   ]
  },
  {
   "cell_type": "code",
   "execution_count": 24,
   "metadata": {},
   "outputs": [
    {
     "data": {
      "text/plain": [
       "[Document(id='3ab37bf0-dcdd-460b-ad44-b4263e5d5a81', metadata={'source': 'tweet'}, page_content='Building an exciting new project with LangChain - come check it out!'),\n",
       " Document(id='b086a16d-0ebc-4058-9080-f89d8109d588', metadata={'source': 'tweet'}, page_content='LangGraph is the best framework for building stateful, agentic applications!'),\n",
       " Document(id='6e51cafa-baa8-4613-b434-1b7f82e16d12', metadata={'source': 'tweet'}, page_content='I have a bad feeling I am going to get deleted :(')]"
      ]
     },
     "execution_count": 24,
     "metadata": {},
     "output_type": "execute_result"
    }
   ],
   "source": [
    "retriver.invoke(\"LangChain provides abstractions to make working with LLMs easy\")"
   ]
  },
  {
   "cell_type": "markdown",
   "metadata": {},
   "source": [
    "### Save the Vectore store in local"
   ]
  },
  {
   "cell_type": "code",
   "execution_count": 25,
   "metadata": {},
   "outputs": [],
   "source": [
    "vector_store.save_local(\"todays faiss index\")"
   ]
  },
  {
   "cell_type": "code",
   "execution_count": 26,
   "metadata": {},
   "outputs": [
    {
     "data": {
      "text/plain": [
       "[Document(id='3ab37bf0-dcdd-460b-ad44-b4263e5d5a81', metadata={'source': 'tweet'}, page_content='Building an exciting new project with LangChain - come check it out!'),\n",
       " Document(id='b086a16d-0ebc-4058-9080-f89d8109d588', metadata={'source': 'tweet'}, page_content='LangGraph is the best framework for building stateful, agentic applications!'),\n",
       " Document(id='6e51cafa-baa8-4613-b434-1b7f82e16d12', metadata={'source': 'tweet'}, page_content='I have a bad feeling I am going to get deleted :('),\n",
       " Document(id='20833fb6-a630-47ff-9ed3-66403a5ad4f5', metadata={'source': 'news'}, page_content='Robbers broke into the city bank and stole $1 million in cash.'),\n",
       " Document(id='c5672130-f691-4cbf-bfd6-5cfb2bae6ea7', metadata={'source': 'website'}, page_content='The top 10 soccer players in the world right now.')]"
      ]
     },
     "execution_count": 26,
     "metadata": {},
     "output_type": "execute_result"
    }
   ],
   "source": [
    "new_vector_store = FAISS.load_local(\"todays faiss index\", embeddings, allow_dangerous_deserialization=True)\n",
    "# Verify that the new vector store is loaded correctly\n",
    "new_vector_store.similarity_search(\"LangChain provides abstractions to make working with LLMs easy\", k=5)"
   ]
  }
 ],
 "metadata": {
  "kernelspec": {
   "display_name": ".venv",
   "language": "python",
   "name": "python3"
  },
  "language_info": {
   "codemirror_mode": {
    "name": "ipython",
    "version": 3
   },
   "file_extension": ".py",
   "mimetype": "text/x-python",
   "name": "python",
   "nbconvert_exporter": "python",
   "pygments_lexer": "ipython3",
   "version": "3.11.13"
  }
 },
 "nbformat": 4,
 "nbformat_minor": 2
}
