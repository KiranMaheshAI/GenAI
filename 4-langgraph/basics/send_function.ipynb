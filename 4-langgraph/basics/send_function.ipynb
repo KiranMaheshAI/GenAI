{
 "cells": [
  {
   "cell_type": "markdown",
   "metadata": {},
   "source": [
    "### Send Function in LangGraph\n",
    "The Send function allows you to specify the target node and the message (data or state) to pass along. It’s designed to streamline communication between nodes in a graph. The Send function is essential for orchestrating data flow in LangGraph.\n",
    "\n",
    "The Send function simplifies complex workflows by:\n",
    "* Dynamically routing data between nodes.\n",
    "* Supporting parallel processing for tasks like batch operations.\n",
    "* Keeping your workflow modular and easy to debug.\n",
    "\n",
    "Send(target_node: str, message: dict)\n",
    "* target_node: The name of the node receiving the message.\n",
    "* message: A dictionary containing the state or data to be sent."
   ]
  },
  {
   "cell_type": "code",
   "execution_count": 31,
   "metadata": {},
   "outputs": [],
   "source": [
    "from typing import TypedDict, Annotated\n",
    "import operator\n",
    "\n",
    "class OverallState(TypedDict):\n",
    "    subjects: list[str]\n",
    "    jokes: Annotated[list[str], operator.add]  # Fixed indentation\n"
   ]
  },
  {
   "cell_type": "code",
   "execution_count": 62,
   "metadata": {},
   "outputs": [],
   "source": [
    "import time\n",
    "from langgraph.constants import Send\n",
    "\n",
    "def continue_to_jokes(state: OverallState):\n",
    "    return [Send(\"generate_joke\", {\"subject\": s}) for s in state['subjects']]\n",
    "\n",
    "def generate_joke(state: OverallState):\n",
    "    subject = state['subject']\n",
    "    print(f\"Generating joke for subject: {subject}\")\n",
    "    joke = f\"Why did the {subject} cross the road? To get to the other side!\"\n",
    "    time.sleep(5)\n",
    "    print(f\"Done with time for {subject}\")\n",
    "    return {\"jokes\": [joke]}"
   ]
  },
  {
   "cell_type": "code",
   "execution_count": 63,
   "metadata": {},
   "outputs": [],
   "source": [
    "from langgraph.graph import StateGraph, START, END\n",
    "\n",
    "builder = StateGraph(OverallState)\n",
    "builder.add_node(\"continue_to_jokes\", continue_to_jokes)\n",
    "builder.add_node(\"generate_joke\", generate_joke)\n",
    "builder.add_conditional_edges(START, continue_to_jokes)\n",
    "builder.add_edge(\"generate_joke\", END)\n",
    "app = builder.compile()\n"
   ]
  },
  {
   "cell_type": "code",
   "execution_count": null,
   "metadata": {},
   "outputs": [],
   "source": [
    "from IPython.display import display, Image\n",
    "display(Image(app.get_graph().draw_mermaid_png()))"
   ]
  },
  {
   "cell_type": "code",
   "execution_count": 65,
   "metadata": {},
   "outputs": [
    {
     "name": "stdout",
     "output_type": "stream",
     "text": [
      "Generating joke for subject: chickenGenerating joke for subject: cow\n",
      "\n",
      "Done with time for chickenDone with time for cow\n",
      "\n",
      "{'subjects': ['chicken', 'cow'], 'jokes': ['Why did the chicken cross the road? To get to the other side!', 'Why did the cow cross the road? To get to the other side!']}\n"
     ]
    }
   ],
   "source": [
    "initial_state = {\"subjects\": [\"chicken\", \"cow\"]}\n",
    "result = app.invoke(initial_state)\n",
    "print(result)"
   ]
  },
  {
   "cell_type": "markdown",
   "metadata": {},
   "source": [
    "{'subjects': ['chicken', 'cow'], \n",
    "'jokes': ['Why did the chicken cross the road? To get to the other side!', 'Why did the cow cross the road? To get to the other side!']}"
   ]
  }
 ],
 "metadata": {
  "kernelspec": {
   "display_name": ".venv",
   "language": "python",
   "name": "python3"
  },
  "language_info": {
   "codemirror_mode": {
    "name": "ipython",
    "version": 3
   },
   "file_extension": ".py",
   "mimetype": "text/x-python",
   "name": "python",
   "nbconvert_exporter": "python",
   "pygments_lexer": "ipython3",
   "version": "3.12.7"
  }
 },
 "nbformat": 4,
 "nbformat_minor": 2
}
