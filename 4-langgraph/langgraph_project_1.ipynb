{
 "cells": [
  {
   "cell_type": "markdown",
   "metadata": {},
   "source": [
    "### LangGraph Project"
   ]
  },
  {
   "cell_type": "code",
   "execution_count": 7,
   "metadata": {},
   "outputs": [],
   "source": [
    "# LLM \n",
    "from langchain_groq import ChatGroq\n",
    "\n",
    "def llm(input):\n",
    "    llm_groq = ChatGroq(model=\"qwen-qwq-32b\")\n",
    "    response = llm_groq.invoke(input)\n",
    "    print(f\"LLM response: {response.content}\")\n",
    "    return response.content"
   ]
  },
  {
   "cell_type": "code",
   "execution_count": 2,
   "metadata": {},
   "outputs": [],
   "source": [
    "def token_counter(input):\n",
    "    return len(input.split())"
   ]
  },
  {
   "cell_type": "code",
   "execution_count": 9,
   "metadata": {},
   "outputs": [
    {
     "data": {
      "image/png": "[encoded data removed]",
      "text/plain": [
       "<langgraph.graph.graph.CompiledGraph object at 0x10959fe50>"
      ]
     },
     "execution_count": 9,
     "metadata": {},
     "output_type": "execute_result"
    }
   ],
   "source": [
    "from langgraph.graph import Graph\n",
    "\n",
    "workflow2 = Graph()\n",
    "workflow2.add_node(\"llm\", llm)\n",
    "workflow2.add_node(\"token_counter\", token_counter)\n",
    "workflow2.set_entry_point(\"llm\")\n",
    "workflow2.add_edge(\"llm\", \"token_counter\")\n",
    "workflow2.set_finish_point(\"token_counter\")\n",
    "app2 = workflow2.compile()\n",
    "app2"
   ]
  },
  {
   "cell_type": "code",
   "execution_count": 10,
   "metadata": {},
   "outputs": [
    {
     "name": "stdout",
     "output_type": "stream",
     "text": [
      "LLM response: \n",
      "<think>\n",
      "Okay, so I need to figure out what the capital of France is. Let me start by recalling what I know about France. France is a country in Western Europe, right? I remember from school that many countries have capitals that are well-known cities. For example, the capital of the United States is Washington D.C., and the capital of the UK is London. But France... Hmm.\n",
      "\n",
      "Wait, I think Paris is a major city in France. Isn't Paris known for the Eiffel Tower and the Louvre Museum? That sounds familiar. But is Paris the capital? I should make sure I'm not mixing it up with another city. Let me think of other French cities. There's Marseille, which I believe is a big port city, Lyon maybe? But those don't ring a bell as capitals. Then there's Bordeaux and Toulouse, but again, not capitals.\n",
      "\n",
      "I also recall that in some countries, the capital isn't always the most obvious city. Like in Brazil, the capital is Brasília, not Rio de Janeiro or São Paulo. But France? I think Paris has been the capital for a long time. Let me see if there's any historical context. France has had Paris as its capital for centuries, right? I think even during historical events like the French Revolution, Paris was the center. \n",
      "\n",
      "Wait, but maybe I should confirm if there was a time when the capital was different. For instance, during wartime, sometimes governments move. But post-WWII, Paris remained the capital. Also, the government buildings, like the French Parliament and the President's residence, are in Paris. The President of France lives in the Elysée Palace, which is in Paris. The Prime Minister too. So that would make sense if Paris is the capital.\n",
      "\n",
      "Another way to think about it: in many contexts, when people mention France's cultural and political heart, they refer to Paris. So, combining all these points, I'm pretty confident that Paris is the capital. But let me see if there's any chance I'm wrong. Maybe there's a trick question here? No, I don't think so. The question is straightforward. \n",
      "\n",
      "Alternatively, maybe I can think of other countries and their capitals to cross-verify. For example, Germany's capital is Berlin, Spain's is Madrid, Italy's is Rome. So France's would be Paris. Yeah, that seems right. I can't think of any other city in France that's more prominent as the capital. I think I've got it. The answer is Paris.\n",
      "</think>\n",
      "\n",
      "The capital of France is **Paris**. Known as a global center of art, fashion, and culture, Paris has been the political and administrative heart of France for centuries. It is home to significant landmarks such as the Eiffel Tower, the Louvre Museum, and government institutions like the Élysée Palace, where the President of France resides.\n"
     ]
    },
    {
     "data": {
      "text/plain": [
       "462"
      ]
     },
     "execution_count": 10,
     "metadata": {},
     "output_type": "execute_result"
    }
   ],
   "source": [
    "app2.invoke(\"What is the capital of France?\")"
   ]
  },
  {
   "cell_type": "code",
   "execution_count": 11,
   "metadata": {},
   "outputs": [
    {
     "name": "stdout",
     "output_type": "stream",
     "text": [
      "LLM response: \n",
      "<think>\n",
      "Okay, I need to tell the user about Ratan Tata. Let me start by recalling what I know about him. He's an Indian entrepreneur and business leader, right? I think he's closely associated with the Tata Group. I believe he took over as the chairman of the group at some point, maybe around 2000s. \n",
      "\n",
      "First, I should mention his full name, Ratan Naval Tata, and his birth details. I think he was born in 1937 or 1940s. Wait, I need to confirm his birth year. I recall it's 1937, in Mumbai, India. His father is Naval Tata, so his full name makes sense. His family is part of the Tata family, which is a prominent business family in India.\n",
      "\n",
      "He studied in India, maybe at the Indian Institute of Technology (IIT) in Kharagpur. Then he went to the US for higher education. He studied mechanical engineering, maybe at MIT? I think he earned a degree from MIT. Later, he became involved in the Tata Group, starting in the 1960s. \n",
      "\n",
      "He became the chairman of Tata Sons, which is the holding company of the Tata Group, in 1991, taking over from his father. Under his leadership, the group expanded a lot. They did some significant acquisitions, like Corus Group in the UK, which was a big deal. Also, he was involved in various other sectors like aviation, hotels, and more. \n",
      "\n",
      "He's known for his philanthropy as well. The Tata Trusts, which are part of the group, do a lot of social work. He also initiated projects like the Tata Nano, which was a small, affordable car aimed at the Indian market. However, that project had some challenges, I think. \n",
      "\n",
      "He stepped down as chairman of Tata Sons in 2012, but remained involved in the group. In terms of recognition, he's received several awards and honors, like being knighted by the UK and honored in India with the Padma Bhushan and Padma Vibhushan. \n",
      "\n",
      "Wait, let me check some key points. Birth year: 1937, that's correct. Education: IIT Kharagpur, then MIT. Leadership at Tata Group starting in the 1960s, became chairman in 1991. Major acquisitions: Corus, Tetley Tea, maybe others like Titan Industries. \n",
      "\n",
      "The Tata Nano was launched in 2009 as a low-cost car. It was innovative but faced issues like profit margins and safety concerns. \n",
      "\n",
      "Philanthropy: Tata Trusts are among the oldest and largest in India. They support education, healthcare, and rural development. Ratan Tata's personal contributions to education, maybe through initiatives like the Ratan Tata Fellowships. \n",
      "\n",
      "Leadership style: He's known for his strategic vision and emphasis on innovation. Also, his focus on corporate social responsibility. \n",
      "\n",
      "Honors: Padma Vibhushan is the second-highest civilian award in India. He also was knighted by the UK, I believe, so he's a Knight Bachelor. \n",
      "\n",
      "Post-Tata Group roles: He's on the boards of other companies, maybe even international ones. He's involved with institutions like MIT, maybe as a trustee. \n",
      "\n",
      "Controversies: There were some issues with the Tata Nano's reception, and maybe some internal disputes within the Tata group regarding succession or management decisions. Also, there was a takeover battle with another company, perhaps the acquisition of Corus faced some opposition. \n",
      "\n",
      "Wait, when he stepped down as chairman in 2012, he was succeeded by Cyrus Mistry, but later there was a boardroom dispute, and Mistry was removed in 2016, after which Tata became chairman again until 2017? Or did he retire completely after that? Need to verify.\n",
      "\n",
      "Also, his contributions beyond business: He's involved in aviation through Tata Airlines, which later became Air India. Wait, actually, Tata Sons acquired Air India in 2007, and he was involved in that. \n",
      "\n",
      "Personal life: Married to a woman named Nina, they have children. He has a reputation for being hands-on and accessible. \n",
      "\n",
      "I should structure this information coherently, starting with early life, education, career at Tata Group, key achievements, philanthropy, recognition, and later life. Make sure to highlight major milestones and his impact on Indian industry. Also mention any leadership controversies briefly but accurately. Need to ensure dates are correct, like when he became chairman, when he stepped down, and key acquisitions' timelines. \n",
      "\n",
      "Wait, when did the Corus acquisition happen? I think it was around 2007. Tetley Tea acquisition was a few years earlier, maybe 2003? \n",
      "\n",
      "Also, the Tata Sons chairmanship: he took over in 1991 when his father passed away, continued until 2012, then stepped down to Cyrus Mistry, but then Mistry was ousted in 2016, so Ratan Tata came back briefly? Or did he retire completely? Let me think. After Mistry was removed, the board had a vacant position until Natarajan Chandrasekaran took over in 2017. So Ratan Tata was chairman until 2012, then Mistry until 2016, and then he might have been interim chairman again, but perhaps not. I need to check that part to be accurate. \n",
      "\n",
      "Also, his role in corporate governance issues, like the Tata Sons vs. Ratan Tata case in the UK regarding the Corus acquisition. That might be a point to note. \n",
      "\n",
      "So, to summarize the structure: \n",
      "\n",
      "1. Introduction: Overview of Ratan Tata's role and significance. \n",
      "\n",
      "2. Early Life and Education: Birth, family background, education details. \n",
      "\n",
      "3. Career in Tata Group: Start in 1960s, key roles, becoming chairman in 1991. \n",
      "\n",
      "4. Major Acquisitions and Expansion: Corus, Tetley, Titan Industries, Air India, others. \n",
      "\n",
      "5. Key Innovations: Tata Nano, focus on affordable products. \n",
      "\n",
      "6. Philanthropy and Social Work: Tata Trusts, education initiatives. \n",
      "\n",
      "7. Leadership and Controversies: Succession issues, boardroom disputes, Corus-related legal issues. \n",
      "\n",
      "8. Honors and Recognition: Awards, knighthood. \n",
      "\n",
      "9. Post-Tata Roles: Current involvements, advisory roles. \n",
      "\n",
      "10. Legacy and Impact on Indian Industry: His influence on Tata's growth and corporate culture. \n",
      "\n",
      "I need to ensure all dates and events are correctly placed. Let me verify some key points. \n",
      "\n",
      "Birth: January 28, 1937, in Mumbai. \n",
      "\n",
      "Education: B.E. in mechanical engineering from IIT Kharagpur (1955-1959), then to MIT for graduate studies, where he did a Master's in applied mathematics, but left without completing it to join the family business. \n",
      "\n",
      "Career: Joined Tata Group in 1962, started at Tata Chemicals, then moved through various roles, became CEO of Tata Motors, then chairman of Tata Sons in 1991. \n",
      "\n",
      "Major Acquisitions: \n",
      "\n",
      "- Tetley Tea: Acquired in 2003. \n",
      "\n",
      "- Corus Group (steel): 2007, Tata Steel acquired Corus. \n",
      "\n",
      "- Titan Industries: Maybe part of the Tata group earlier, or an acquisition? Let me think. Titan is a Tata company, but I'm not sure if it was an acquisition or part of the existing portfolio. Need to clarify. \n",
      "\n",
      "Air India: Tata Sons took over Air India from the government in 2007, so he was involved in that. \n",
      "\n",
      "Tata Nano: Launched in 2008 or 2009. \n",
      "\n",
      "Leadership: He led Tata Group through globalization, expanding into international markets. \n",
      "\n",
      "Controversies: The dispute over the Corus acquisition in the UK led to a legal battle with the family, but eventually settled. The succession issue with Mistry leading to his removal after disputes over strategy and performance, which led to his replacement. \n",
      "\n",
      "Awards: Padma Vibhushan in 2008, Knighted by the UK in 2007, maybe? And other accolades like the Legion d'honneur from France. \n",
      "\n",
      "Legacy: Considered one of India's most respected industrialists, credited with transforming Tata into a global conglomerate. \n",
      "\n",
      "I need to make sure all these points are accurate. Also, his personal life: married to Nina, has three daughters. \n",
      "\n",
      "Now, putting it all together in a coherent way, ensuring dates and facts are correct. Need to avoid inaccuracies, especially regarding the timeline of his chairmanship, Mistry's tenure, and the legal cases. \n",
      "\n",
      "Also, mention his role in corporate governance and his emphasis on ethics and social responsibility. \n",
      "\n",
      "I think that's a comprehensive outline. Now, present it in a clear, chronological order, highlighting major achievements and challenges, and his contributions to business and society.\n",
      "</think>\n",
      "\n",
      "**Ratan Naval Tata: A Visionary Leader of the Tata Group**\n",
      "\n",
      "**Early Life and Education**  \n",
      "Ratan Naval Tata was born on January 28, 1937, in Mumbai, India, into the prestigious Tata family, founders of the Tata Group, one of India's oldest and largest conglomerates. His father, Naval Tata, was the chairman of Tata Sons before him. Ratan Tata pursued mechanical engineering, graduating from the Indian Institute of Technology (IIT) in Kharagpur (1955–1959) and later attended MIT in the U.S. for graduate studies in applied mathematics. He left MIT to join the family business in 1962, marking the start of his decades-long leadership journey.\n",
      "\n",
      "**Career and Leadership in the Tata Group**  \n",
      "- **Early Career (1960s–1990s):** Ratan Tata began his career at Tata Chemicals, eventually moving to Tata Motors (formerly Tata Engineering and Locomotive Company or TELCO). By the 1980s, he held key roles in Tata Motors and became its CEO, driving its expansion.  \n",
      "- **Chairman of Tata Sons (1991–2012):** Upon his father’s death in 1991, he assumed the role of chairman of Tata Sons, the holding company of the Tata Group. Under his leadership, the group underwent significant transformation:  \n",
      "  - **Global Expansion:** Pioneered major international acquisitions, including:  \n",
      "    - *Tata Steel’s acquisition of Corus Group (2007), the UK’s largest steelmaker, which made Tata Steel a global player.  \n",
      "    - *Acquisition of Tetley Tea (2003), expanding Tata’s presence in the beverages sector.  \n",
      "    - *Acquisition of Air India (2007), though the airline later faced financial challenges.  \n",
      "  - **Strategic Ventures:** Launched the **Tata Nano** (2009), an affordable car aimed at the Indian market, and entered sectors like IT (TCS), hospitality (Taj Hotels), and healthcare.  \n",
      "  - **Philanthropy:** Strengthened the **Tata Trusts**, India’s oldest and largest philanthropic organization, focusing on education, healthcare, and rural development.  \n",
      "\n",
      "**Controversies and Leadership Challenges**  \n",
      "- **Corus Acquisition Legal Battle:** In 2007, Ratan Tata faced backlash from some Tata family members over the Corus deal, leading to a legal dispute that was eventually settled.  \n",
      "- **Succession Crisis (2016):** After stepping down as chairman in 2012, he was succeeded by Cyrus Mistry. However, tensions arose over strategic differences, and Mistry was ousted in 2016. Ratan Tata temporarily resumed the interim chairmanship until Natarajan Chandrasekaran became chairman in 2017.  \n",
      "\n",
      "**Philanthropy and Social Work**  \n",
      "- The Tata Trusts, under his guidance, fund initiatives like **Sir Dorabji Tata and Allied Trusts**, supporting education (e.g., the **Tata Institute of Fundamental Research**), healthcare (Tata Memorial Hospital), and rural development.  \n",
      "- He personally supported projects like the **Ratan Tata Fellowships** for Indian students pursuing education abroad.  \n",
      "\n",
      "**Achievements and Recognition**  \n",
      "- **Awards:**  \n",
      "  - **Padma Vibhushan (2008)**: India’s second-highest civilian honor.  \n",
      "  - **Knight Bachelor (2008)**: Honored by the UK for contributions to business.  \n",
      "  - **Padma Bhushan (1992)**: India’s third-highest civilian award.  \n",
      "  - **Legion d'Honneur (France)**: Awarded for industrial contributions.  \n",
      "\n",
      "**Philosophy and Legacy**  \n",
      "Ratan Tata emphasized **\"trust, integrity, and innovation\"** in business, believing corporations should balance profit with social responsibility. His leadership transformed the Tata Group into a global conglomerate, making it a symbol of Indian industrial power.  \n",
      "\n",
      "**Personal Life**  \n",
      "He married Nina Mehta in 1962, and they have three daughters. Known for his approachable demeanor, he avoided the limelight despite his towering professional stature.  \n",
      "\n",
      "**Legacy**  \n",
      "Ratan Tata’s tenure (1991–2012) is remembered for turning the Tata Group from an Indian enterprise into a global leader, with operations across over 100 countries. His focus on innovation (e.g., the Tata Nano) and social responsibility defined his legacy, earning him the nickname \"the conscience of Indian industry.\"  \n",
      "\n",
      "**Post-Tata Group Activities**  \n",
      "Since stepping down, he has served on boards of organizations like **MIT** and remained an advisor to Tata ventures. He continues advocating for education and sustainable development.  \n",
      "\n",
      "Ratan Tata’s contributions have left an indelible mark on Indian industry, blending business acumen with a commitment to societal welfare, cementing his place as one of India’s most respected leaders.\n",
      "Output: {'llm': '\\n<think>\\nOkay, I need to tell the user about Ratan Tata. Let me start by recalling what I know about him. He\\'s an Indian entrepreneur and business leader, right? I think he\\'s closely associated with the Tata Group. I believe he took over as the chairman of the group at some point, maybe around 2000s. \\n\\nFirst, I should mention his full name, Ratan Naval Tata, and his birth details. I think he was born in 1937 or 1940s. Wait, I need to confirm his birth year. I recall it\\'s 1937, in Mumbai, India. His father is Naval Tata, so his full name makes sense. His family is part of the Tata family, which is a prominent business family in India.\\n\\nHe studied in India, maybe at the Indian Institute of Technology (IIT) in Kharagpur. Then he went to the US for higher education. He studied mechanical engineering, maybe at MIT? I think he earned a degree from MIT. Later, he became involved in the Tata Group, starting in the 1960s. \\n\\nHe became the chairman of Tata Sons, which is the holding company of the Tata Group, in 1991, taking over from his father. Under his leadership, the group expanded a lot. They did some significant acquisitions, like Corus Group in the UK, which was a big deal. Also, he was involved in various other sectors like aviation, hotels, and more. \\n\\nHe\\'s known for his philanthropy as well. The Tata Trusts, which are part of the group, do a lot of social work. He also initiated projects like the Tata Nano, which was a small, affordable car aimed at the Indian market. However, that project had some challenges, I think. \\n\\nHe stepped down as chairman of Tata Sons in 2012, but remained involved in the group. In terms of recognition, he\\'s received several awards and honors, like being knighted by the UK and honored in India with the Padma Bhushan and Padma Vibhushan. \\n\\nWait, let me check some key points. Birth year: 1937, that\\'s correct. Education: IIT Kharagpur, then MIT. Leadership at Tata Group starting in the 1960s, became chairman in 1991. Major acquisitions: Corus, Tetley Tea, maybe others like Titan Industries. \\n\\nThe Tata Nano was launched in 2009 as a low-cost car. It was innovative but faced issues like profit margins and safety concerns. \\n\\nPhilanthropy: Tata Trusts are among the oldest and largest in India. They support education, healthcare, and rural development. Ratan Tata\\'s personal contributions to education, maybe through initiatives like the Ratan Tata Fellowships. \\n\\nLeadership style: He\\'s known for his strategic vision and emphasis on innovation. Also, his focus on corporate social responsibility. \\n\\nHonors: Padma Vibhushan is the second-highest civilian award in India. He also was knighted by the UK, I believe, so he\\'s a Knight Bachelor. \\n\\nPost-Tata Group roles: He\\'s on the boards of other companies, maybe even international ones. He\\'s involved with institutions like MIT, maybe as a trustee. \\n\\nControversies: There were some issues with the Tata Nano\\'s reception, and maybe some internal disputes within the Tata group regarding succession or management decisions. Also, there was a takeover battle with another company, perhaps the acquisition of Corus faced some opposition. \\n\\nWait, when he stepped down as chairman in 2012, he was succeeded by Cyrus Mistry, but later there was a boardroom dispute, and Mistry was removed in 2016, after which Tata became chairman again until 2017? Or did he retire completely after that? Need to verify.\\n\\nAlso, his contributions beyond business: He\\'s involved in aviation through Tata Airlines, which later became Air India. Wait, actually, Tata Sons acquired Air India in 2007, and he was involved in that. \\n\\nPersonal life: Married to a woman named Nina, they have children. He has a reputation for being hands-on and accessible. \\n\\nI should structure this information coherently, starting with early life, education, career at Tata Group, key achievements, philanthropy, recognition, and later life. Make sure to highlight major milestones and his impact on Indian industry. Also mention any leadership controversies briefly but accurately. Need to ensure dates are correct, like when he became chairman, when he stepped down, and key acquisitions\\' timelines. \\n\\nWait, when did the Corus acquisition happen? I think it was around 2007. Tetley Tea acquisition was a few years earlier, maybe 2003? \\n\\nAlso, the Tata Sons chairmanship: he took over in 1991 when his father passed away, continued until 2012, then stepped down to Cyrus Mistry, but then Mistry was ousted in 2016, so Ratan Tata came back briefly? Or did he retire completely? Let me think. After Mistry was removed, the board had a vacant position until Natarajan Chandrasekaran took over in 2017. So Ratan Tata was chairman until 2012, then Mistry until 2016, and then he might have been interim chairman again, but perhaps not. I need to check that part to be accurate. \\n\\nAlso, his role in corporate governance issues, like the Tata Sons vs. Ratan Tata case in the UK regarding the Corus acquisition. That might be a point to note. \\n\\nSo, to summarize the structure: \\n\\n1. Introduction: Overview of Ratan Tata\\'s role and significance. \\n\\n2. Early Life and Education: Birth, family background, education details. \\n\\n3. Career in Tata Group: Start in 1960s, key roles, becoming chairman in 1991. \\n\\n4. Major Acquisitions and Expansion: Corus, Tetley, Titan Industries, Air India, others. \\n\\n5. Key Innovations: Tata Nano, focus on affordable products. \\n\\n6. Philanthropy and Social Work: Tata Trusts, education initiatives. \\n\\n7. Leadership and Controversies: Succession issues, boardroom disputes, Corus-related legal issues. \\n\\n8. Honors and Recognition: Awards, knighthood. \\n\\n9. Post-Tata Roles: Current involvements, advisory roles. \\n\\n10. Legacy and Impact on Indian Industry: His influence on Tata\\'s growth and corporate culture. \\n\\nI need to ensure all dates and events are correctly placed. Let me verify some key points. \\n\\nBirth: January 28, 1937, in Mumbai. \\n\\nEducation: B.E. in mechanical engineering from IIT Kharagpur (1955-1959), then to MIT for graduate studies, where he did a Master\\'s in applied mathematics, but left without completing it to join the family business. \\n\\nCareer: Joined Tata Group in 1962, started at Tata Chemicals, then moved through various roles, became CEO of Tata Motors, then chairman of Tata Sons in 1991. \\n\\nMajor Acquisitions: \\n\\n- Tetley Tea: Acquired in 2003. \\n\\n- Corus Group (steel): 2007, Tata Steel acquired Corus. \\n\\n- Titan Industries: Maybe part of the Tata group earlier, or an acquisition? Let me think. Titan is a Tata company, but I\\'m not sure if it was an acquisition or part of the existing portfolio. Need to clarify. \\n\\nAir India: Tata Sons took over Air India from the government in 2007, so he was involved in that. \\n\\nTata Nano: Launched in 2008 or 2009. \\n\\nLeadership: He led Tata Group through globalization, expanding into international markets. \\n\\nControversies: The dispute over the Corus acquisition in the UK led to a legal battle with the family, but eventually settled. The succession issue with Mistry leading to his removal after disputes over strategy and performance, which led to his replacement. \\n\\nAwards: Padma Vibhushan in 2008, Knighted by the UK in 2007, maybe? And other accolades like the Legion d\\'honneur from France. \\n\\nLegacy: Considered one of India\\'s most respected industrialists, credited with transforming Tata into a global conglomerate. \\n\\nI need to make sure all these points are accurate. Also, his personal life: married to Nina, has three daughters. \\n\\nNow, putting it all together in a coherent way, ensuring dates and facts are correct. Need to avoid inaccuracies, especially regarding the timeline of his chairmanship, Mistry\\'s tenure, and the legal cases. \\n\\nAlso, mention his role in corporate governance and his emphasis on ethics and social responsibility. \\n\\nI think that\\'s a comprehensive outline. Now, present it in a clear, chronological order, highlighting major achievements and challenges, and his contributions to business and society.\\n</think>\\n\\n**Ratan Naval Tata: A Visionary Leader of the Tata Group**\\n\\n**Early Life and Education**  \\nRatan Naval Tata was born on January 28, 1937, in Mumbai, India, into the prestigious Tata family, founders of the Tata Group, one of India\\'s oldest and largest conglomerates. His father, Naval Tata, was the chairman of Tata Sons before him. Ratan Tata pursued mechanical engineering, graduating from the Indian Institute of Technology (IIT) in Kharagpur (1955–1959) and later attended MIT in the U.S. for graduate studies in applied mathematics. He left MIT to join the family business in 1962, marking the start of his decades-long leadership journey.\\n\\n**Career and Leadership in the Tata Group**  \\n- **Early Career (1960s–1990s):** Ratan Tata began his career at Tata Chemicals, eventually moving to Tata Motors (formerly Tata Engineering and Locomotive Company or TELCO). By the 1980s, he held key roles in Tata Motors and became its CEO, driving its expansion.  \\n- **Chairman of Tata Sons (1991–2012):** Upon his father’s death in 1991, he assumed the role of chairman of Tata Sons, the holding company of the Tata Group. Under his leadership, the group underwent significant transformation:  \\n  - **Global Expansion:** Pioneered major international acquisitions, including:  \\n    - *Tata Steel’s acquisition of Corus Group (2007), the UK’s largest steelmaker, which made Tata Steel a global player.  \\n    - *Acquisition of Tetley Tea (2003), expanding Tata’s presence in the beverages sector.  \\n    - *Acquisition of Air India (2007), though the airline later faced financial challenges.  \\n  - **Strategic Ventures:** Launched the **Tata Nano** (2009), an affordable car aimed at the Indian market, and entered sectors like IT (TCS), hospitality (Taj Hotels), and healthcare.  \\n  - **Philanthropy:** Strengthened the **Tata Trusts**, India’s oldest and largest philanthropic organization, focusing on education, healthcare, and rural development.  \\n\\n**Controversies and Leadership Challenges**  \\n- **Corus Acquisition Legal Battle:** In 2007, Ratan Tata faced backlash from some Tata family members over the Corus deal, leading to a legal dispute that was eventually settled.  \\n- **Succession Crisis (2016):** After stepping down as chairman in 2012, he was succeeded by Cyrus Mistry. However, tensions arose over strategic differences, and Mistry was ousted in 2016. Ratan Tata temporarily resumed the interim chairmanship until Natarajan Chandrasekaran became chairman in 2017.  \\n\\n**Philanthropy and Social Work**  \\n- The Tata Trusts, under his guidance, fund initiatives like **Sir Dorabji Tata and Allied Trusts**, supporting education (e.g., the **Tata Institute of Fundamental Research**), healthcare (Tata Memorial Hospital), and rural development.  \\n- He personally supported projects like the **Ratan Tata Fellowships** for Indian students pursuing education abroad.  \\n\\n**Achievements and Recognition**  \\n- **Awards:**  \\n  - **Padma Vibhushan (2008)**: India’s second-highest civilian honor.  \\n  - **Knight Bachelor (2008)**: Honored by the UK for contributions to business.  \\n  - **Padma Bhushan (1992)**: India’s third-highest civilian award.  \\n  - **Legion d\\'Honneur (France)**: Awarded for industrial contributions.  \\n\\n**Philosophy and Legacy**  \\nRatan Tata emphasized **\"trust, integrity, and innovation\"** in business, believing corporations should balance profit with social responsibility. His leadership transformed the Tata Group into a global conglomerate, making it a symbol of Indian industrial power.  \\n\\n**Personal Life**  \\nHe married Nina Mehta in 1962, and they have three daughters. Known for his approachable demeanor, he avoided the limelight despite his towering professional stature.  \\n\\n**Legacy**  \\nRatan Tata’s tenure (1991–2012) is remembered for turning the Tata Group from an Indian enterprise into a global leader, with operations across over 100 countries. His focus on innovation (e.g., the Tata Nano) and social responsibility defined his legacy, earning him the nickname \"the conscience of Indian industry.\"  \\n\\n**Post-Tata Group Activities**  \\nSince stepping down, he has served on boards of organizations like **MIT** and remained an advisor to Tata ventures. He continues advocating for education and sustainable development.  \\n\\nRatan Tata’s contributions have left an indelible mark on Indian industry, blending business acumen with a commitment to societal welfare, cementing his place as one of India’s most respected leaders.'}\n",
      "Output: {'token_counter': 1913}\n"
     ]
    }
   ],
   "source": [
    "for output in app2.stream(\"tell me about RATAN TATA\"):\n",
    "    print(\"Output:\", output)"
   ]
  }
 ],
 "metadata": {
  "kernelspec": {
   "display_name": ".venv",
   "language": "python",
   "name": "python3"
  },
  "language_info": {
   "codemirror_mode": {
    "name": "ipython",
    "version": 3
   },
   "file_extension": ".py",
   "mimetype": "text/x-python",
   "name": "python",
   "nbconvert_exporter": "python",
   "pygments_lexer": "ipython3",
   "version": "3.11.13"
  }
 },
 "nbformat": 4,
 "nbformat_minor": 2
}
