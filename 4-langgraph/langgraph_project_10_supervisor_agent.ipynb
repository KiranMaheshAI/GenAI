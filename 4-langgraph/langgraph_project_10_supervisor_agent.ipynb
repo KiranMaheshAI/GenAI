{
 "cells": [
  {
   "cell_type": "markdown",
   "metadata": {},
   "source": [
    "### Supervisor Agent maintaining two Agents: One is Finance Agent and Other is Web search agent."
   ]
  },
  {
   "cell_type": "code",
   "execution_count": 1,
   "metadata": {},
   "outputs": [],
   "source": [
    "# LLM\n",
    "from langchain_openai import ChatOpenAI\n",
    "\n",
    "llm = ChatOpenAI(model=\"gpt-4o\")"
   ]
  },
  {
   "cell_type": "code",
   "execution_count": 5,
   "metadata": {},
   "outputs": [
    {
     "name": "stdout",
     "output_type": "stream",
     "text": [
      "Collecting ddgs\n",
      "  Downloading ddgs-9.0.1-py3-none-any.whl.metadata (16 kB)\n",
      "Requirement already satisfied: click>=8.1.8 in /Users/I572648/Library/CloudStorage/OneDrive-SAPSE/Desktop/Git/GenAI/.venv/lib/python3.11/site-packages (from ddgs) (8.2.1)\n",
      "Requirement already satisfied: primp>=0.15.0 in /Users/I572648/Library/CloudStorage/OneDrive-SAPSE/Desktop/Git/GenAI/.venv/lib/python3.11/site-packages (from ddgs) (0.15.0)\n",
      "Requirement already satisfied: lxml>=5.3.0 in /Users/I572648/Library/CloudStorage/OneDrive-SAPSE/Desktop/Git/GenAI/.venv/lib/python3.11/site-packages (from ddgs) (5.4.0)\n",
      "Downloading ddgs-9.0.1-py3-none-any.whl (23 kB)\n",
      "Installing collected packages: ddgs\n",
      "Successfully installed ddgs-9.0.1\n"
     ]
    }
   ],
   "source": [
    "!pip3 install ddgs"
   ]
  },
  {
   "cell_type": "code",
   "execution_count": 6,
   "metadata": {},
   "outputs": [
    {
     "name": "stderr",
     "output_type": "stream",
     "text": [
      "/Users/I572648/Library/CloudStorage/OneDrive-SAPSE/Desktop/Git/GenAI/.venv/lib/python3.11/site-packages/langchain_community/utilities/duckduckgo_search.py:63: RuntimeWarning: This package (`duckduckgo_search`) has been renamed to `ddgs`! Use `pip install ddgs` instead.\n",
      "  with DDGS() as ddgs:\n"
     ]
    },
    {
     "data": {
      "text/plain": [
       "'Jun 29, 2025 · Paris, the capital of France, is located in the north-central portion of the country. It constitutes one of the départements of the Île-de-France administrative region and is France\\'s … 1 day ago · Paris is the capital of France (French Republic), situated in the Western Europe subregion of Europe. In Paris, the currency used is Euro (€), which is the official currency used … Nov 26, 2024 · Answer: Explanation: The capital of France is Paris, and there are no other official capitals. However, there are several other major cities in France that are important, such as: … May 30, 2025 · DO YOU KNOW WHAT IS THE CAPITAL OF FRANCE? World-famous for its art, fashion, food, and history. Learn everything about Paris, the capital city of France, and why it\\'s called the \"City of... May 4, 2025 · So France’s capital would logically be a major city. Paris seems to fit here. But just to make sure, maybe there’s a common misconception. For example, someone might confuse …'"
      ]
     },
     "execution_count": 6,
     "metadata": {},
     "output_type": "execute_result"
    }
   ],
   "source": [
    "# Web search Tool\n",
    "from langchain_community.tools import DuckDuckGoSearchRun\n",
    "\n",
    "ddg_tool = DuckDuckGoSearchRun()\n",
    "ddg_tool.invoke(\"What is the capital of France?\")"
   ]
  },
  {
   "cell_type": "code",
   "execution_count": 103,
   "metadata": {},
   "outputs": [
    {
     "name": "stdout",
     "output_type": "stream",
     "text": [
      "Fetching stock price for ticker: AAPL\n"
     ]
    },
    {
     "data": {
      "text/plain": [
       "'The last closing price of AAPL is $212.41.'"
      ]
     },
     "execution_count": 103,
     "metadata": {},
     "output_type": "execute_result"
    }
   ],
   "source": [
    "import yfinance as yf\n",
    "from langchain.tools import tool\n",
    "from typing import TypedDict\n",
    "\n",
    "@tool\n",
    "def get_stock_price(ticker: str) -> str:\n",
    "    \"\"\"Gets the current stock price of a given ticker symbol.\"\"\"\n",
    "    print(f\"Fetching stock price for ticker: {ticker}\")\n",
    "    try: \n",
    "        stock = yf.Ticker(ticker)\n",
    "        price = stock.info.get(\"previousClose\")\n",
    "        if price is None:\n",
    "            return f\"Could not fetch price for ticker {ticker}.\"\n",
    "        return f\"The last closing price of {ticker} is ${price:.2f}.\"\n",
    "    except Exception as e:\n",
    "        return f\"An error occurred while fetching the stock price: {str(e)}\"\n",
    "\n",
    "get_stock_price.invoke(\"AAPL\")"
   ]
  },
  {
   "cell_type": "code",
   "execution_count": 9,
   "metadata": {},
   "outputs": [],
   "source": [
    "finance_tools = [get_stock_price, ddg_tool]"
   ]
  },
  {
   "cell_type": "code",
   "execution_count": 10,
   "metadata": {},
   "outputs": [],
   "source": [
    "llm_with_finance_tools = llm.bind_tools(finance_tools)"
   ]
  },
  {
   "cell_type": "code",
   "execution_count": 122,
   "metadata": {},
   "outputs": [],
   "source": [
    "# memory \n",
    "memory = MemorySaver()"
   ]
  },
  {
   "cell_type": "code",
   "execution_count": 104,
   "metadata": {},
   "outputs": [],
   "source": [
    "from langgraph.graph import MessagesState\n",
    "\n",
    "SYSTEM_PROMPT = \"You are a helpful assistant tasked with using yahoo finance tools to answer user questions about stock prices.\"\n",
    "def llm_with_finance_call(state: MessagesState):\n",
    "    print(\"=======Finance App===========\")\n",
    "    user_question = state[\"messages\"]\n",
    "    input_question = [SYSTEM_PROMPT]+user_question\n",
    "    response = llm_with_finance_tools.invoke(input_question)\n",
    "    return {\"messages\":[response]}"
   ]
  },
  {
   "cell_type": "code",
   "execution_count": 132,
   "metadata": {},
   "outputs": [
    {
     "data": {
      "image/png": "[encoded data removed]",
      "text/plain": [
       "<langgraph.graph.state.CompiledStateGraph object at 0x322c12150>"
      ]
     },
     "execution_count": 132,
     "metadata": {},
     "output_type": "execute_result"
    }
   ],
   "source": [
    "# Create a langGraph LLM with tools\n",
    "from langchain_core.messages import HumanMessage\n",
    "from langgraph.checkpoint.memory import MemorySaver\n",
    "from langgraph.graph import MessagesState, StateGraph, START, END\n",
    "from langgraph.prebuilt import ToolNode, tools_condition\n",
    "\n",
    "# memory = MemorySaver()\n",
    "builder = StateGraph(MessagesState)\n",
    "builder.add_node(\"llm_with_decision\", llm_with_finance_call)\n",
    "builder.add_node(\"tools\", ToolNode(finance_tools))\n",
    "builder.add_edge(START, \"llm_with_decision\")\n",
    "builder.add_conditional_edges(\"llm_with_decision\", tools_condition)\n",
    "builder.add_edge(\"tools\", \"llm_with_decision\")\n",
    "builder.add_edge(\"llm_with_decision\", END)\n",
    "finance_app = builder.compile(checkpointer=True)\n",
    "finance_app"
   ]
  },
  {
   "cell_type": "code",
   "execution_count": null,
   "metadata": {},
   "outputs": [],
   "source": [
    "finance_app.invoke({\"messages\": \"Get the stock price of APPLE\"})"
   ]
  },
  {
   "cell_type": "code",
   "execution_count": 21,
   "metadata": {},
   "outputs": [
    {
     "name": "stdout",
     "output_type": "stream",
     "text": [
      "youtube_search\n",
      "search for youtube videos associated with a person. the input to this tool should be a comma separated list, the first part contains a person name and the second a number that is the maximum number of video results to return aka num_results. the second part is optional\n"
     ]
    }
   ],
   "source": [
    "from langchain_community.tools import YouTubeSearchTool\n",
    "\n",
    "youtube_tool = YouTubeSearchTool()\n",
    "\n",
    "print(youtube_tool.name)\n",
    "print(youtube_tool.description)"
   ]
  },
  {
   "cell_type": "code",
   "execution_count": 22,
   "metadata": {},
   "outputs": [],
   "source": [
    "video_tools = [youtube_tool]"
   ]
  },
  {
   "cell_type": "code",
   "execution_count": 23,
   "metadata": {},
   "outputs": [],
   "source": [
    "llm_with_youtube_tools = llm.bind_tools(video_tools)"
   ]
  },
  {
   "cell_type": "code",
   "execution_count": 24,
   "metadata": {},
   "outputs": [],
   "source": [
    "from langgraph.graph import MessagesState\n",
    "\n",
    "SYSTEM_PROMPT = \"You are a helpful assistant tasked with getting the latest YouTube videos based on user queries.\"\n",
    "def llm_with_youtube_call(state: MessagesState):\n",
    "    user_question = state[\"messages\"]\n",
    "    input_question = [SYSTEM_PROMPT]+user_question\n",
    "    response = llm_with_youtube_tools.invoke(input_question)\n",
    "    return {\"messages\":[response]}"
   ]
  },
  {
   "cell_type": "code",
   "execution_count": 133,
   "metadata": {},
   "outputs": [
    {
     "data": {
      "image/png": "[encoded data removed]",
      "text/plain": [
       "<langgraph.graph.state.CompiledStateGraph object at 0x322c75f10>"
      ]
     },
     "execution_count": 133,
     "metadata": {},
     "output_type": "execute_result"
    }
   ],
   "source": [
    "# Create a langGraph LLM with tools\n",
    "from langchain_core.messages import HumanMessage\n",
    "from langgraph.checkpoint.memory import MemorySaver\n",
    "from langgraph.graph import MessagesState, StateGraph, START, END\n",
    "from langgraph.prebuilt import ToolNode, tools_condition\n",
    "\n",
    "# memory = MemorySaver()\n",
    "builder = StateGraph(MessagesState)\n",
    "builder.add_node(\"llm_with_decision\", llm_with_youtube_call)\n",
    "builder.add_node(\"tools\", ToolNode(video_tools))\n",
    "builder.add_edge(START, \"llm_with_decision\")\n",
    "builder.add_conditional_edges(\"llm_with_decision\", tools_condition)\n",
    "builder.add_edge(\"tools\", \"llm_with_decision\")\n",
    "builder.add_edge(\"llm_with_decision\", END)\n",
    "video_app = builder.compile(checkpointer=True)\n",
    "video_app"
   ]
  },
  {
   "cell_type": "code",
   "execution_count": 28,
   "metadata": {},
   "outputs": [],
   "source": [
    "members = [\"finance app\", \"video app\"]"
   ]
  },
  {
   "cell_type": "code",
   "execution_count": 137,
   "metadata": {},
   "outputs": [],
   "source": [
    "system_prompt = f\"\"\"\"\n",
    "You are a supervisor, tasked with managing a conversation between the following workers: {members}. \n",
    "Always Use the memory for the conversation.\n",
    "When finished, respond with FINISH.\n",
    "\"\"\""
   ]
  },
  {
   "cell_type": "code",
   "execution_count": 42,
   "metadata": {},
   "outputs": [],
   "source": [
    "from typing import Literal\n",
    "from typing_extensions import TypedDict\n",
    "from langgraph.types import Command"
   ]
  },
  {
   "cell_type": "code",
   "execution_count": 43,
   "metadata": {},
   "outputs": [],
   "source": [
    "class Router(TypedDict):\n",
    "    next: Literal['finance_app', 'video_app', 'FINISH']"
   ]
  },
  {
   "cell_type": "code",
   "execution_count": 138,
   "metadata": {},
   "outputs": [],
   "source": [
    "\n",
    "def supervisor_agent(state:MessagesState)->Command[Literal['finance_app', 'video_app', '__end__']]:\n",
    "    \n",
    "    messages = [{\"role\": \"system\", \"content\": system_prompt},] + state[\"messages\"]\n",
    "    \n",
    "    llm_with_structure_output=llm.with_structured_output(Router)\n",
    "    \n",
    "    response=llm_with_structure_output.invoke(messages)\n",
    "    \n",
    "    #this is my response {'next': 'researcher'}\n",
    "    \n",
    "    #this is my next worker agent\n",
    "    goto=response[\"next\"]\n",
    "    \n",
    "    print(\"**********BELOW IS MY GOTO***************\")\n",
    "    \n",
    "    print(goto)\n",
    "    \n",
    "    if goto == \"FINISH\":\n",
    "        goto=END\n",
    "    \n",
    "    # class State(MessagesState):\n",
    "    #   next:str\n",
    "    # output of the state: state={\"messages\": [\"hi\"], \"next\": \"researcher\"}\n",
    "    \n",
    "    return Command(goto=goto, update={\"next\":goto})\n"
   ]
  },
  {
   "cell_type": "code",
   "execution_count": 139,
   "metadata": {},
   "outputs": [
    {
     "data": {
      "image/png": "[encoded data removed]",
      "text/plain": [
       "<langgraph.graph.state.CompiledStateGraph object at 0x315073c90>"
      ]
     },
     "execution_count": 139,
     "metadata": {},
     "output_type": "execute_result"
    }
   ],
   "source": [
    "#supervisor \n",
    "\n",
    "workflow = StateGraph(MessagesState)\n",
    "workflow.add_node(\"supervisor\", supervisor_agent)\n",
    "workflow.add_node(\"finance_app\", finance_app)\n",
    "workflow.add_node(\"video_app\", video_app)\n",
    "workflow.add_edge(START, \"supervisor\")\n",
    "supervisor_app = workflow.compile(checkpointer=memory)\n",
    "supervisor_app"
   ]
  },
  {
   "cell_type": "code",
   "execution_count": 183,
   "metadata": {},
   "outputs": [
    {
     "name": "stdout",
     "output_type": "stream",
     "text": [
      "**********BELOW IS MY GOTO***************\n",
      "finance_app\n",
      "=======Finance App===========\n"
     ]
    },
    {
     "data": {
      "text/plain": [
       "{'messages': [HumanMessage(content='what is the last closing price of AAPL ', additional_kwargs={}, response_metadata={}, id='680bb96e-fd90-48ec-b650-e0aeaf74081b'),\n",
       "  AIMessage(content='', additional_kwargs={'tool_calls': [{'id': 'call_s3kM7C9kWaS8gAi94OxwB0oy', 'function': {'arguments': '{\"ticker\":\"AAPL\"}', 'name': 'get_stock_price'}, 'type': 'function'}], 'refusal': None}, response_metadata={'token_usage': {'completion_tokens': 16, 'prompt_tokens': 132, 'total_tokens': 148, 'completion_tokens_details': {'accepted_prediction_tokens': 0, 'audio_tokens': 0, 'reasoning_tokens': 0, 'rejected_prediction_tokens': 0}, 'prompt_tokens_details': {'audio_tokens': 0, 'cached_tokens': 0}}, 'model_name': 'gpt-4o-2024-08-06', 'system_fingerprint': 'fp_07871e2ad8', 'id': 'chatcmpl-Bs96Ap8b92bbEoIR8RWadtScl4OTf', 'service_tier': 'default', 'finish_reason': 'tool_calls', 'logprobs': None}, id='run--87838c89-f71a-4218-b390-5525494a7bff-0', tool_calls=[{'name': 'get_stock_price', 'args': {'ticker': 'AAPL'}, 'id': 'call_s3kM7C9kWaS8gAi94OxwB0oy', 'type': 'tool_call'}], usage_metadata={'input_tokens': 132, 'output_tokens': 16, 'total_tokens': 148, 'input_token_details': {'audio': 0, 'cache_read': 0}, 'output_token_details': {'audio': 0, 'reasoning': 0}}),\n",
       "  ToolMessage(content='The last closing price of AAPL is $212.41.', name='get_stock_price', id='0d14993c-b58a-469c-bf1d-6f6581a7329b', tool_call_id='call_s3kM7C9kWaS8gAi94OxwB0oy'),\n",
       "  AIMessage(content='The last closing price of AAPL (Apple Inc.) is $212.41.', additional_kwargs={'refusal': None}, response_metadata={'token_usage': {'completion_tokens': 18, 'prompt_tokens': 170, 'total_tokens': 188, 'completion_tokens_details': {'accepted_prediction_tokens': 0, 'audio_tokens': 0, 'reasoning_tokens': 0, 'rejected_prediction_tokens': 0}, 'prompt_tokens_details': {'audio_tokens': 0, 'cached_tokens': 0}}, 'model_name': 'gpt-4o-2024-08-06', 'system_fingerprint': 'fp_07871e2ad8', 'id': 'chatcmpl-Bs96CBsViIwn4xwAytrGSFoXHwB7X', 'service_tier': 'default', 'finish_reason': 'stop', 'logprobs': None}, id='run--ae0ed19b-611d-4d94-997b-f3b3e2d5df77-0', usage_metadata={'input_tokens': 170, 'output_tokens': 18, 'total_tokens': 188, 'input_token_details': {'audio': 0, 'cache_read': 0}, 'output_token_details': {'audio': 0, 'reasoning': 0}}),\n",
       "  HumanMessage(content='what is the last closing price of AAPL as in the conversation', additional_kwargs={}, response_metadata={}, id='732abea1-0993-41cb-b86f-32f75c0ca5ba'),\n",
       "  AIMessage(content='The last closing price of AAPL mentioned in our conversation is $212.41.', additional_kwargs={'refusal': None}, response_metadata={'token_usage': {'completion_tokens': 18, 'prompt_tokens': 208, 'total_tokens': 226, 'completion_tokens_details': {'accepted_prediction_tokens': 0, 'audio_tokens': 0, 'reasoning_tokens': 0, 'rejected_prediction_tokens': 0}, 'prompt_tokens_details': {'audio_tokens': 0, 'cached_tokens': 0}}, 'model_name': 'gpt-4o-2024-08-06', 'system_fingerprint': 'fp_07871e2ad8', 'id': 'chatcmpl-Bs96NUN6oGtkjglpyvqCq15husn4L', 'service_tier': 'default', 'finish_reason': 'stop', 'logprobs': None}, id='run--db9702b1-513c-411e-9e1e-dbfac6646c19-0', usage_metadata={'input_tokens': 208, 'output_tokens': 18, 'total_tokens': 226, 'input_token_details': {'audio': 0, 'cache_read': 0}, 'output_token_details': {'audio': 0, 'reasoning': 0}}),\n",
       "  HumanMessage(content='what is the stock price of AAPL as in the conversation', additional_kwargs={}, response_metadata={}, id='6b789449-217a-4616-b175-fff43403ffce'),\n",
       "  AIMessage(content='The stock price of AAPL (Apple Inc.) mentioned earlier in our conversation is $212.41.', additional_kwargs={'refusal': None}, response_metadata={'token_usage': {'completion_tokens': 22, 'prompt_tokens': 245, 'total_tokens': 267, 'completion_tokens_details': {'accepted_prediction_tokens': 0, 'audio_tokens': 0, 'reasoning_tokens': 0, 'rejected_prediction_tokens': 0}, 'prompt_tokens_details': {'audio_tokens': 0, 'cached_tokens': 0}}, 'model_name': 'gpt-4o-2024-08-06', 'system_fingerprint': 'fp_07871e2ad8', 'id': 'chatcmpl-Bs96adItjbTGYFGLAQYCgHpnLhUdK', 'service_tier': 'default', 'finish_reason': 'stop', 'logprobs': None}, id='run--275c1d49-4467-4f77-ad20-a4042398a149-0', usage_metadata={'input_tokens': 245, 'output_tokens': 22, 'total_tokens': 267, 'input_token_details': {'audio': 0, 'cache_read': 0}, 'output_token_details': {'audio': 0, 'reasoning': 0}}),\n",
       "  HumanMessage(content='what is the stock price of GOOGLE as in the conversation', additional_kwargs={}, response_metadata={}, id='16b1d995-5e48-452d-be86-9df80078cdf4'),\n",
       "  AIMessage(content='The stock price of GOOGLE was not discussed in our conversation. Would you like me to find the current stock price for Google?', additional_kwargs={'refusal': None}, response_metadata={'token_usage': {'completion_tokens': 26, 'prompt_tokens': 285, 'total_tokens': 311, 'completion_tokens_details': {'accepted_prediction_tokens': 0, 'audio_tokens': 0, 'reasoning_tokens': 0, 'rejected_prediction_tokens': 0}, 'prompt_tokens_details': {'audio_tokens': 0, 'cached_tokens': 0}}, 'model_name': 'gpt-4o-2024-08-06', 'system_fingerprint': 'fp_07871e2ad8', 'id': 'chatcmpl-Bs96jSMAA0pD9XGjHgJq4RIDGYKQ8', 'service_tier': 'default', 'finish_reason': 'stop', 'logprobs': None}, id='run--ba8162de-e46f-4e11-bfdc-64699a800ec8-0', usage_metadata={'input_tokens': 285, 'output_tokens': 26, 'total_tokens': 311, 'input_token_details': {'audio': 0, 'cache_read': 0}, 'output_token_details': {'audio': 0, 'reasoning': 0}}),\n",
       "  HumanMessage(content='check in google', additional_kwargs={}, response_metadata={}, id='09b5355f-65e2-4a44-b565-c9e91706daed'),\n",
       "  AIMessage(content='', additional_kwargs={'tool_calls': [{'id': 'call_p2k11a4wem2w0WOQkWXBk33q', 'function': {'arguments': '{\"query\":\"current stock price of Google\"}', 'name': 'duckduckgo_search'}, 'type': 'function'}], 'refusal': None}, response_metadata={'token_usage': {'completion_tokens': 21, 'prompt_tokens': 321, 'total_tokens': 342, 'completion_tokens_details': {'accepted_prediction_tokens': 0, 'audio_tokens': 0, 'reasoning_tokens': 0, 'rejected_prediction_tokens': 0}, 'prompt_tokens_details': {'audio_tokens': 0, 'cached_tokens': 0}}, 'model_name': 'gpt-4o-2024-08-06', 'system_fingerprint': 'fp_07871e2ad8', 'id': 'chatcmpl-Bs97FgHnqvFeWVMKnj11dZoje167Z', 'service_tier': 'default', 'finish_reason': 'tool_calls', 'logprobs': None}, id='run--fa9d51f5-4c59-42c3-9a5a-d21163d8ed1b-0', tool_calls=[{'name': 'duckduckgo_search', 'args': {'query': 'current stock price of Google'}, 'id': 'call_p2k11a4wem2w0WOQkWXBk33q', 'type': 'tool_call'}], usage_metadata={'input_tokens': 321, 'output_tokens': 21, 'total_tokens': 342, 'input_token_details': {'audio': 0, 'cache_read': 0}, 'output_token_details': {'audio': 0, 'reasoning': 0}}),\n",
       "  ToolMessage(content=\"In order to qualify and enroll in the Fee-Free Overdraft feature, you must receive a minimum of $200 or more in Eligible Direct Deposits into your Current Account over the preceding 35-day … No matter what your title or how long you've worked here, at Current everyone is integral to making our mission possible. Here, no task is beneath us. We keep an open mind, because … Current is a mobile app that empowers people to make smart financial decisions. With a Current account, you can get a debit card or the Build Card to safely build credit, all while having … Tools and Features Get in touch Still have questions? If you didn't find what you need, you can send an inquiry through our contact form, emailing support@current.com, or chatting with us in … Learn more about our Personal Checking accounts and the benefits of using Current\", name='duckduckgo_search', id='f8ce139f-a6a2-4eaa-8597-631770d37eab', tool_call_id='call_p2k11a4wem2w0WOQkWXBk33q'),\n",
       "  AIMessage(content='It seems there was an issue retrieving the current stock price for Google using the proxy search. Would you like me to try using a different method or source to find this information?', additional_kwargs={'refusal': None}, response_metadata={'token_usage': {'completion_tokens': 36, 'prompt_tokens': 522, 'total_tokens': 558, 'completion_tokens_details': {'accepted_prediction_tokens': 0, 'audio_tokens': 0, 'reasoning_tokens': 0, 'rejected_prediction_tokens': 0}, 'prompt_tokens_details': {'audio_tokens': 0, 'cached_tokens': 0}}, 'model_name': 'gpt-4o-2024-08-06', 'system_fingerprint': 'fp_07871e2ad8', 'id': 'chatcmpl-Bs97HPGPrXE2FwWWjKU1SjIlbYF0f', 'service_tier': 'default', 'finish_reason': 'stop', 'logprobs': None}, id='run--58bcf8cd-40be-4533-a604-14b5c5cc3159-0', usage_metadata={'input_tokens': 522, 'output_tokens': 36, 'total_tokens': 558, 'input_token_details': {'audio': 0, 'cache_read': 0}, 'output_token_details': {'audio': 0, 'reasoning': 0}}),\n",
       "  HumanMessage(content='check in finance app', additional_kwargs={}, response_metadata={}, id='89deeb49-e684-4576-9c71-1281b3d819dd'),\n",
       "  AIMessage(content='', additional_kwargs={'tool_calls': [{'id': 'call_9Pf7uusiDydzmsf3BZmL5pMb', 'function': {'arguments': '{\"ticker\":\"GOOGL\"}', 'name': 'get_stock_price'}, 'type': 'function'}], 'refusal': None}, response_metadata={'token_usage': {'completion_tokens': 17, 'prompt_tokens': 569, 'total_tokens': 586, 'completion_tokens_details': {'accepted_prediction_tokens': 0, 'audio_tokens': 0, 'reasoning_tokens': 0, 'rejected_prediction_tokens': 0}, 'prompt_tokens_details': {'audio_tokens': 0, 'cached_tokens': 0}}, 'model_name': 'gpt-4o-2024-08-06', 'system_fingerprint': 'fp_07871e2ad8', 'id': 'chatcmpl-Bs97wTeBvuu6hhyvEiK1TPMir6D5r', 'service_tier': 'default', 'finish_reason': 'tool_calls', 'logprobs': None}, id='run--706acebd-9417-4b9f-abb2-4b7c436c462c-0', tool_calls=[{'name': 'get_stock_price', 'args': {'ticker': 'GOOGL'}, 'id': 'call_9Pf7uusiDydzmsf3BZmL5pMb', 'type': 'tool_call'}], usage_metadata={'input_tokens': 569, 'output_tokens': 17, 'total_tokens': 586, 'input_token_details': {'audio': 0, 'cache_read': 0}, 'output_token_details': {'audio': 0, 'reasoning': 0}}),\n",
       "  ToolMessage(content='The last closing price of GOOGL is $177.62.', name='get_stock_price', id='8b35ccfa-11cb-4c5e-8d5b-1814c30fd422', tool_call_id='call_9Pf7uusiDydzmsf3BZmL5pMb'),\n",
       "  AIMessage(content='The last closing price of GOOGL (Alphabet Inc.) is $177.62.', additional_kwargs={'refusal': None}, response_metadata={'token_usage': {'completion_tokens': 19, 'prompt_tokens': 609, 'total_tokens': 628, 'completion_tokens_details': {'accepted_prediction_tokens': 0, 'audio_tokens': 0, 'reasoning_tokens': 0, 'rejected_prediction_tokens': 0}, 'prompt_tokens_details': {'audio_tokens': 0, 'cached_tokens': 0}}, 'model_name': 'gpt-4o-2024-08-06', 'system_fingerprint': 'fp_07871e2ad8', 'id': 'chatcmpl-Bs97yFzzSqJ2t1vA3TJOK1bXTCJJq', 'service_tier': 'default', 'finish_reason': 'stop', 'logprobs': None}, id='run--e2b1f443-b986-4978-8f1f-6d285b3ec9e9-0', usage_metadata={'input_tokens': 609, 'output_tokens': 19, 'total_tokens': 628, 'input_token_details': {'audio': 0, 'cache_read': 0}, 'output_token_details': {'audio': 0, 'reasoning': 0}}),\n",
       "  HumanMessage(content='what is the stock price of GOOGLE as in the conversation', additional_kwargs={}, response_metadata={}, id='645aede2-259f-47c7-8519-798452258730'),\n",
       "  HumanMessage(content='what is the stock price of GOOGLE as in the conversation', additional_kwargs={}, response_metadata={}, id='1c312400-6707-414d-9f20-28dcb656c196'),\n",
       "  AIMessage(content='The stock price of GOOGLE (GOOGL) mentioned in our conversation is $177.62.', additional_kwargs={'refusal': None}, response_metadata={'token_usage': {'completion_tokens': 21, 'prompt_tokens': 661, 'total_tokens': 682, 'completion_tokens_details': {'accepted_prediction_tokens': 0, 'audio_tokens': 0, 'reasoning_tokens': 0, 'rejected_prediction_tokens': 0}, 'prompt_tokens_details': {'audio_tokens': 0, 'cached_tokens': 0}}, 'model_name': 'gpt-4o-2024-08-06', 'system_fingerprint': 'fp_07871e2ad8', 'id': 'chatcmpl-Bs98XVzttyRmBvWhnGFSBwVelf06c', 'service_tier': 'default', 'finish_reason': 'stop', 'logprobs': None}, id='run--f51280de-5e45-4fa6-ae8b-eaa82eb71543-0', usage_metadata={'input_tokens': 661, 'output_tokens': 21, 'total_tokens': 682, 'input_token_details': {'audio': 0, 'cache_read': 0}, 'output_token_details': {'audio': 0, 'reasoning': 0}}),\n",
       "  HumanMessage(content='what is the stock price of last two companies I have mentioned', additional_kwargs={}, response_metadata={}, id='6f39808f-768f-4be1-a786-8ad6410fcf0a'),\n",
       "  AIMessage(content='The stock prices for the last two companies you mentioned are:\\n\\n- AAPL (Apple Inc.): $212.41\\n- GOOGL (Alphabet Inc.): $177.62', additional_kwargs={'refusal': None}, response_metadata={'token_usage': {'completion_tokens': 37, 'prompt_tokens': 701, 'total_tokens': 738, 'completion_tokens_details': {'accepted_prediction_tokens': 0, 'audio_tokens': 0, 'reasoning_tokens': 0, 'rejected_prediction_tokens': 0}, 'prompt_tokens_details': {'audio_tokens': 0, 'cached_tokens': 0}}, 'model_name': 'gpt-4o-2024-08-06', 'system_fingerprint': 'fp_07871e2ad8', 'id': 'chatcmpl-Bs99MNFjCrt4TkRYaTxhgNcynq4xe', 'service_tier': 'default', 'finish_reason': 'stop', 'logprobs': None}, id='run--5c2c723e-6e16-49f6-8d97-38c250e9a392-0', usage_metadata={'input_tokens': 701, 'output_tokens': 37, 'total_tokens': 738, 'input_token_details': {'audio': 0, 'cache_read': 0}, 'output_token_details': {'audio': 0, 'reasoning': 0}})]}"
      ]
     },
     "execution_count": 183,
     "metadata": {},
     "output_type": "execute_result"
    }
   ],
   "source": [
    "config={\"configurable\": {\"thread_id\": \"3\"}}\n",
    "supervisor_app.invoke({\"messages\": [{\"role\": \"user\", \"content\": \"what is the stock price of last two companies I have mentioned\"}]}, config=config)"
   ]
  },
  {
   "cell_type": "code",
   "execution_count": 151,
   "metadata": {},
   "outputs": [
    {
     "name": "stdout",
     "output_type": "stream",
     "text": [
      "**********BELOW IS MY GOTO***************\n",
      "finance_app\n",
      "((), {'supervisor': None})\n",
      "=======Finance App===========\n",
      "(('finance_app',), {'llm_with_decision': {'messages': [AIMessage(content='', additional_kwargs={'tool_calls': [{'id': 'call_BI6orlk8wtIj8NsbAJUlRzhv', 'function': {'arguments': '{\"ticker\":\"AAPL\"}', 'name': 'get_stock_price'}, 'type': 'function'}], 'refusal': None}, response_metadata={'token_usage': {'completion_tokens': 16, 'prompt_tokens': 1514, 'total_tokens': 1530, 'completion_tokens_details': {'accepted_prediction_tokens': 0, 'audio_tokens': 0, 'reasoning_tokens': 0, 'rejected_prediction_tokens': 0}, 'prompt_tokens_details': {'audio_tokens': 0, 'cached_tokens': 1408}}, 'model_name': 'gpt-4o-2024-08-06', 'system_fingerprint': 'fp_07871e2ad8', 'id': 'chatcmpl-Bs8uRqiUYunZK4xK6zPtqDPqI0Oap', 'service_tier': 'default', 'finish_reason': 'tool_calls', 'logprobs': None}, id='run--e9456c78-8259-44ce-8a26-ca090fc4bc02-0', tool_calls=[{'name': 'get_stock_price', 'args': {'ticker': 'AAPL'}, 'id': 'call_BI6orlk8wtIj8NsbAJUlRzhv', 'type': 'tool_call'}], usage_metadata={'input_tokens': 1514, 'output_tokens': 16, 'total_tokens': 1530, 'input_token_details': {'audio': 0, 'cache_read': 1408}, 'output_token_details': {'audio': 0, 'reasoning': 0}})]}})\n",
      "=======Finance App===========\n",
      "(('finance_app',), {'tools': {'messages': [ToolMessage(content='The last closing price of AAPL is $212.41.', name='get_stock_price', id='c5e73fcb-5638-4608-8c80-3ee9bafffcea', tool_call_id='call_BI6orlk8wtIj8NsbAJUlRzhv')]}})\n",
      "(('finance_app',), {'llm_with_decision': {'messages': [AIMessage(content=\"The last closing price of Apple's stock (AAPL) is $212.41.\", additional_kwargs={'refusal': None}, response_metadata={'token_usage': {'completion_tokens': 18, 'prompt_tokens': 1552, 'total_tokens': 1570, 'completion_tokens_details': {'accepted_prediction_tokens': 0, 'audio_tokens': 0, 'reasoning_tokens': 0, 'rejected_prediction_tokens': 0}, 'prompt_tokens_details': {'audio_tokens': 0, 'cached_tokens': 1408}}, 'model_name': 'gpt-4o-2024-08-06', 'system_fingerprint': 'fp_07871e2ad8', 'id': 'chatcmpl-Bs8uSUbjAEFwsRdLv6OZZ90jUmFMu', 'service_tier': 'default', 'finish_reason': 'stop', 'logprobs': None}, id='run--e31f158b-130d-4d76-af96-9f7cf04551ad-0', usage_metadata={'input_tokens': 1552, 'output_tokens': 18, 'total_tokens': 1570, 'input_token_details': {'audio': 0, 'cache_read': 1408}, 'output_token_details': {'audio': 0, 'reasoning': 0}})]}})\n",
      "((), {'finance_app': {'messages': [HumanMessage(content='What is the stock price of GOOGLE ?', additional_kwargs={}, response_metadata={}, id='7d203cb8-672b-4216-b110-133546eccd0c'), AIMessage(content='', additional_kwargs={'tool_calls': [{'id': 'call_PdHDvVvyS5uyq6MRwEa25gkb', 'function': {'arguments': '{\"ticker\":\"GOOGL\"}', 'name': 'get_stock_price'}, 'type': 'function'}], 'refusal': None}, response_metadata={'token_usage': {'completion_tokens': 17, 'prompt_tokens': 130, 'total_tokens': 147, 'completion_tokens_details': {'accepted_prediction_tokens': 0, 'audio_tokens': 0, 'reasoning_tokens': 0, 'rejected_prediction_tokens': 0}, 'prompt_tokens_details': {'audio_tokens': 0, 'cached_tokens': 0}}, 'model_name': 'gpt-4o-2024-08-06', 'system_fingerprint': 'fp_07871e2ad8', 'id': 'chatcmpl-Bs8lcTBygyhrHlZdwxVGR7ukOMSUw', 'service_tier': 'default', 'finish_reason': 'tool_calls', 'logprobs': None}, id='run--ac0fb7bf-a6b8-4c6c-81b7-c2470387ffbd-0', tool_calls=[{'name': 'get_stock_price', 'args': {'ticker': 'GOOGL'}, 'id': 'call_PdHDvVvyS5uyq6MRwEa25gkb', 'type': 'tool_call'}], usage_metadata={'input_tokens': 130, 'output_tokens': 17, 'total_tokens': 147, 'input_token_details': {'audio': 0, 'cache_read': 0}, 'output_token_details': {'audio': 0, 'reasoning': 0}}), ToolMessage(content='The last closing price of GOOGL is $177.62.', name='get_stock_price', id='8b5eeba1-f784-4172-98aa-ea7dad0dfcf4', tool_call_id='call_PdHDvVvyS5uyq6MRwEa25gkb'), AIMessage(content=\"The last closing price of Google's stock (GOOGL) is $177.62.\", additional_kwargs={'refusal': None}, response_metadata={'token_usage': {'completion_tokens': 19, 'prompt_tokens': 170, 'total_tokens': 189, 'completion_tokens_details': {'accepted_prediction_tokens': 0, 'audio_tokens': 0, 'reasoning_tokens': 0, 'rejected_prediction_tokens': 0}, 'prompt_tokens_details': {'audio_tokens': 0, 'cached_tokens': 0}}, 'model_name': 'gpt-4o-2024-08-06', 'system_fingerprint': 'fp_07871e2ad8', 'id': 'chatcmpl-Bs8ldoFqbiwO4gPyVGLNPu24G7hMD', 'service_tier': 'default', 'finish_reason': 'stop', 'logprobs': None}, id='run--5af20582-74bd-4e5c-a782-f4e083694694-0', usage_metadata={'input_tokens': 170, 'output_tokens': 19, 'total_tokens': 189, 'input_token_details': {'audio': 0, 'cache_read': 0}, 'output_token_details': {'audio': 0, 'reasoning': 0}}), HumanMessage(content='What is the stock price of GOOGLE ?', additional_kwargs={}, response_metadata={}, id='1b1ea9c0-6994-485e-a454-ec2672fe5fe3'), AIMessage(content='', additional_kwargs={'tool_calls': [{'id': 'call_mWZzp1DGryQTtcWzG8PVQ1Rz', 'function': {'arguments': '{\"ticker\":\"GOOGL\"}', 'name': 'get_stock_price'}, 'type': 'function'}], 'refusal': None}, response_metadata={'token_usage': {'completion_tokens': 17, 'prompt_tokens': 204, 'total_tokens': 221, 'completion_tokens_details': {'accepted_prediction_tokens': 0, 'audio_tokens': 0, 'reasoning_tokens': 0, 'rejected_prediction_tokens': 0}, 'prompt_tokens_details': {'audio_tokens': 0, 'cached_tokens': 0}}, 'model_name': 'gpt-4o-2024-08-06', 'system_fingerprint': 'fp_07871e2ad8', 'id': 'chatcmpl-Bs8ljYgDYidLzi9SjUaQe0YLRveUD', 'service_tier': 'default', 'finish_reason': 'tool_calls', 'logprobs': None}, id='run--46ea274c-6cd6-4c41-b6a4-a3cc767ffd7f-0', tool_calls=[{'name': 'get_stock_price', 'args': {'ticker': 'GOOGL'}, 'id': 'call_mWZzp1DGryQTtcWzG8PVQ1Rz', 'type': 'tool_call'}], usage_metadata={'input_tokens': 204, 'output_tokens': 17, 'total_tokens': 221, 'input_token_details': {'audio': 0, 'cache_read': 0}, 'output_token_details': {'audio': 0, 'reasoning': 0}}), ToolMessage(content='The last closing price of GOOGL is $177.62.', name='get_stock_price', id='5cf40192-e5d8-4bdf-ae44-74a667856b08', tool_call_id='call_mWZzp1DGryQTtcWzG8PVQ1Rz'), AIMessage(content=\"The last closing price of Google's stock (GOOGL) is $177.62.\", additional_kwargs={'refusal': None}, response_metadata={'token_usage': {'completion_tokens': 19, 'prompt_tokens': 244, 'total_tokens': 263, 'completion_tokens_details': {'accepted_prediction_tokens': 0, 'audio_tokens': 0, 'reasoning_tokens': 0, 'rejected_prediction_tokens': 0}, 'prompt_tokens_details': {'audio_tokens': 0, 'cached_tokens': 0}}, 'model_name': 'gpt-4o-2024-08-06', 'system_fingerprint': 'fp_07871e2ad8', 'id': 'chatcmpl-Bs8llrCSGhF60lWrbH1mBqufVcIa4', 'service_tier': 'default', 'finish_reason': 'stop', 'logprobs': None}, id='run--b53e538e-9595-4874-b800-a25813495fef-0', usage_metadata={'input_tokens': 244, 'output_tokens': 19, 'total_tokens': 263, 'input_token_details': {'audio': 0, 'cache_read': 0}, 'output_token_details': {'audio': 0, 'reasoning': 0}}), HumanMessage(content='can you provide videos on langgraph?', additional_kwargs={}, response_metadata={}, id='14bc9860-a9d0-46e3-94de-146b7fd6ef68'), AIMessage(content='', additional_kwargs={'tool_calls': [{'id': 'call_lgTBUqq0SWKbPSBNc16wsRT1', 'function': {'arguments': '{\"query\":\"Langgraph\"}', 'name': 'youtube_search'}, 'type': 'function'}], 'refusal': None}, response_metadata={'token_usage': {'completion_tokens': 15, 'prompt_tokens': 269, 'total_tokens': 284, 'completion_tokens_details': {'accepted_prediction_tokens': 0, 'audio_tokens': 0, 'reasoning_tokens': 0, 'rejected_prediction_tokens': 0}, 'prompt_tokens_details': {'audio_tokens': 0, 'cached_tokens': 0}}, 'model_name': 'gpt-4o-2024-08-06', 'system_fingerprint': None, 'id': 'chatcmpl-Bs8lxNCmvko7YHubY2ujkEtWVY7p0', 'service_tier': 'default', 'finish_reason': 'tool_calls', 'logprobs': None}, id='run--f0115c06-45d1-4dd9-a02d-fa848e2ac06a-0', tool_calls=[{'name': 'youtube_search', 'args': {'query': 'Langgraph'}, 'id': 'call_lgTBUqq0SWKbPSBNc16wsRT1', 'type': 'tool_call'}], usage_metadata={'input_tokens': 269, 'output_tokens': 15, 'total_tokens': 284, 'input_token_details': {'audio': 0, 'cache_read': 0}, 'output_token_details': {'audio': 0, 'reasoning': 0}}), ToolMessage(content=\"['https://www.youtube.com/watch?v=CnXdddeZ4tQ&pp=ygUJTGFuZ2dyYXBo', 'https://www.youtube.com/watch?v=jGg_1h0qzaM&pp=ygUJTGFuZ2dyYXBo']\", name='youtube_search', id='8c050603-5c84-4683-9855-7a162b10c60b', tool_call_id='call_lgTBUqq0SWKbPSBNc16wsRT1'), AIMessage(content='Here are some YouTube videos on Langgraph:\\n\\n1. [Video 1](https://www.youtube.com/watch?v=CnXdddeZ4tQ&pp=ygUJTGFuZ2dyYXBo)\\n2. [Video 2](https://www.youtube.com/watch?v=jGg_1h0qzaM&pp=ygUJTGFuZ2dyYXBo)', additional_kwargs={'refusal': None}, response_metadata={'token_usage': {'completion_tokens': 86, 'prompt_tokens': 355, 'total_tokens': 441, 'completion_tokens_details': {'accepted_prediction_tokens': 0, 'audio_tokens': 0, 'reasoning_tokens': 0, 'rejected_prediction_tokens': 0}, 'prompt_tokens_details': {'audio_tokens': 0, 'cached_tokens': 0}}, 'model_name': 'gpt-4o-2024-08-06', 'system_fingerprint': None, 'id': 'chatcmpl-Bs8lz1kYqfDU0j3HtAmmEzflSXoYn', 'service_tier': 'default', 'finish_reason': 'stop', 'logprobs': None}, id='run--549cca40-ad90-4c0b-a90f-a1cf5f21d699-0', usage_metadata={'input_tokens': 355, 'output_tokens': 86, 'total_tokens': 441, 'input_token_details': {'audio': 0, 'cache_read': 0}, 'output_token_details': {'audio': 0, 'reasoning': 0}}), HumanMessage(content='can you provide videos on langgraph?', additional_kwargs={}, response_metadata={}, id='a79fd434-23b4-4e3b-8201-3ef57e5dcda2'), AIMessage(content='', additional_kwargs={'tool_calls': [{'id': 'call_pjSnLL0TedCpPk6qh9dZMWkW', 'function': {'arguments': '{\"query\":\"Langgraph\"}', 'name': 'youtube_search'}, 'type': 'function'}], 'refusal': None}, response_metadata={'token_usage': {'completion_tokens': 15, 'prompt_tokens': 456, 'total_tokens': 471, 'completion_tokens_details': {'accepted_prediction_tokens': 0, 'audio_tokens': 0, 'reasoning_tokens': 0, 'rejected_prediction_tokens': 0}, 'prompt_tokens_details': {'audio_tokens': 0, 'cached_tokens': 0}}, 'model_name': 'gpt-4o-2024-08-06', 'system_fingerprint': None, 'id': 'chatcmpl-Bs8m4fjY7TQtvQqNfashCI58Ceszz', 'service_tier': 'default', 'finish_reason': 'tool_calls', 'logprobs': None}, id='run--2d470bd0-2b1b-44e9-b242-121541fac994-0', tool_calls=[{'name': 'youtube_search', 'args': {'query': 'Langgraph'}, 'id': 'call_pjSnLL0TedCpPk6qh9dZMWkW', 'type': 'tool_call'}], usage_metadata={'input_tokens': 456, 'output_tokens': 15, 'total_tokens': 471, 'input_token_details': {'audio': 0, 'cache_read': 0}, 'output_token_details': {'audio': 0, 'reasoning': 0}}), ToolMessage(content=\"['https://www.youtube.com/watch?v=jGg_1h0qzaM&pp=ygUJTGFuZ2dyYXBo', 'https://www.youtube.com/watch?v=CnXdddeZ4tQ&pp=ygUJTGFuZ2dyYXBo']\", name='youtube_search', id='51e416b9-5e6d-495e-81d8-59c30cadd370', tool_call_id='call_pjSnLL0TedCpPk6qh9dZMWkW'), AIMessage(content='Here are some YouTube videos on Langgraph:\\n\\n1. [Video 1](https://www.youtube.com/watch?v=jGg_1h0qzaM&pp=ygUJTGFuZ2dyYXBo)\\n2. [Video 2](https://www.youtube.com/watch?v=CnXdddeZ4tQ&pp=ygUJTGFuZ2dyYXBo)', additional_kwargs={'refusal': None}, response_metadata={'token_usage': {'completion_tokens': 86, 'prompt_tokens': 542, 'total_tokens': 628, 'completion_tokens_details': {'accepted_prediction_tokens': 0, 'audio_tokens': 0, 'reasoning_tokens': 0, 'rejected_prediction_tokens': 0}, 'prompt_tokens_details': {'audio_tokens': 0, 'cached_tokens': 0}}, 'model_name': 'gpt-4o-2024-08-06', 'system_fingerprint': None, 'id': 'chatcmpl-Bs8m6eiUVo2sKNuWOhHfxbjSPFFxa', 'service_tier': 'default', 'finish_reason': 'stop', 'logprobs': None}, id='run--f830f33f-d9db-498c-a52a-969fe614135f-0', usage_metadata={'input_tokens': 542, 'output_tokens': 86, 'total_tokens': 628, 'input_token_details': {'audio': 0, 'cache_read': 0}, 'output_token_details': {'audio': 0, 'reasoning': 0}}), HumanMessage(content='can you provide videos on langgraph?', additional_kwargs={}, response_metadata={}, id='5ddf8fc0-1033-462f-96de-9c9d03a9a784'), AIMessage(content='', additional_kwargs={'tool_calls': [{'id': 'call_upODKRFEOqaqUYO7LvDgvsyd', 'function': {'arguments': '{\"query\":\"Langgraph\"}', 'name': 'youtube_search'}, 'type': 'function'}], 'refusal': None}, response_metadata={'token_usage': {'completion_tokens': 15, 'prompt_tokens': 643, 'total_tokens': 658, 'completion_tokens_details': {'accepted_prediction_tokens': 0, 'audio_tokens': 0, 'reasoning_tokens': 0, 'rejected_prediction_tokens': 0}, 'prompt_tokens_details': {'audio_tokens': 0, 'cached_tokens': 0}}, 'model_name': 'gpt-4o-2024-08-06', 'system_fingerprint': None, 'id': 'chatcmpl-Bs8n0yOueJanFtIDqBRivZBbOkrxb', 'service_tier': 'default', 'finish_reason': 'tool_calls', 'logprobs': None}, id='run--8ffb0a15-32c1-4802-95f5-60bde8c7393c-0', tool_calls=[{'name': 'youtube_search', 'args': {'query': 'Langgraph'}, 'id': 'call_upODKRFEOqaqUYO7LvDgvsyd', 'type': 'tool_call'}], usage_metadata={'input_tokens': 643, 'output_tokens': 15, 'total_tokens': 658, 'input_token_details': {'audio': 0, 'cache_read': 0}, 'output_token_details': {'audio': 0, 'reasoning': 0}}), ToolMessage(content=\"['https://www.youtube.com/watch?v=jGg_1h0qzaM&pp=ygUJTGFuZ2dyYXBo', 'https://www.youtube.com/watch?v=CnXdddeZ4tQ&pp=ygUJTGFuZ2dyYXBo']\", name='youtube_search', id='deb11bad-152e-48d6-88a3-e258620b4e96', tool_call_id='call_upODKRFEOqaqUYO7LvDgvsyd'), AIMessage(content='Here are some YouTube videos on Langgraph:\\n\\n1. [Video 1](https://www.youtube.com/watch?v=jGg_1h0qzaM&pp=ygUJTGFuZ2dyYXBo)\\n2. [Video 2](https://www.youtube.com/watch?v=CnXdddeZ4tQ&pp=ygUJTGFuZ2dyYXBo)', additional_kwargs={'refusal': None}, response_metadata={'token_usage': {'completion_tokens': 86, 'prompt_tokens': 729, 'total_tokens': 815, 'completion_tokens_details': {'accepted_prediction_tokens': 0, 'audio_tokens': 0, 'reasoning_tokens': 0, 'rejected_prediction_tokens': 0}, 'prompt_tokens_details': {'audio_tokens': 0, 'cached_tokens': 0}}, 'model_name': 'gpt-4o-2024-08-06', 'system_fingerprint': None, 'id': 'chatcmpl-Bs8n2DLErzfSVIiRYl1OmEUNldPlB', 'service_tier': 'default', 'finish_reason': 'stop', 'logprobs': None}, id='run--166585ea-217b-45a1-af2a-283707f23406-0', usage_metadata={'input_tokens': 729, 'output_tokens': 86, 'total_tokens': 815, 'input_token_details': {'audio': 0, 'cache_read': 0}, 'output_token_details': {'audio': 0, 'reasoning': 0}}), HumanMessage(content='What is the stock price of GOOGLE ?', additional_kwargs={}, response_metadata={}, id='e7cf048a-4d21-4fc6-bbf5-7810b4c2d79f'), AIMessage(content='', additional_kwargs={'tool_calls': [{'id': 'call_ZS3xc8pl3R6vIu50ca6lpXxW', 'function': {'arguments': '{\"ticker\":\"GOOGL\"}', 'name': 'get_stock_price'}, 'type': 'function'}], 'refusal': None}, response_metadata={'token_usage': {'completion_tokens': 17, 'prompt_tokens': 839, 'total_tokens': 856, 'completion_tokens_details': {'accepted_prediction_tokens': 0, 'audio_tokens': 0, 'reasoning_tokens': 0, 'rejected_prediction_tokens': 0}, 'prompt_tokens_details': {'audio_tokens': 0, 'cached_tokens': 0}}, 'model_name': 'gpt-4o-2024-08-06', 'system_fingerprint': 'fp_07871e2ad8', 'id': 'chatcmpl-Bs8qJRixFInYgxUEJmtuJDwvqL6RQ', 'service_tier': 'default', 'finish_reason': 'tool_calls', 'logprobs': None}, id='run--3f178ed8-a5f0-4024-936f-e8cb2d5bf814-0', tool_calls=[{'name': 'get_stock_price', 'args': {'ticker': 'GOOGL'}, 'id': 'call_ZS3xc8pl3R6vIu50ca6lpXxW', 'type': 'tool_call'}], usage_metadata={'input_tokens': 839, 'output_tokens': 17, 'total_tokens': 856, 'input_token_details': {'audio': 0, 'cache_read': 0}, 'output_token_details': {'audio': 0, 'reasoning': 0}}), ToolMessage(content='The last closing price of GOOGL is $177.62.', name='get_stock_price', id='9d65a53a-7b9a-4aa2-a352-9cdbd0bdec3a', tool_call_id='call_ZS3xc8pl3R6vIu50ca6lpXxW'), AIMessage(content=\"The last closing price of Google's stock (GOOGL) is $177.62.\", additional_kwargs={'refusal': None}, response_metadata={'token_usage': {'completion_tokens': 19, 'prompt_tokens': 879, 'total_tokens': 898, 'completion_tokens_details': {'accepted_prediction_tokens': 0, 'audio_tokens': 0, 'reasoning_tokens': 0, 'rejected_prediction_tokens': 0}, 'prompt_tokens_details': {'audio_tokens': 0, 'cached_tokens': 0}}, 'model_name': 'gpt-4o-2024-08-06', 'system_fingerprint': 'fp_07871e2ad8', 'id': 'chatcmpl-Bs8qL2y4SutDZKNkgDa9pa7AEysst', 'service_tier': 'default', 'finish_reason': 'stop', 'logprobs': None}, id='run--896dea5f-5352-4db1-95fd-31c1522e677b-0', usage_metadata={'input_tokens': 879, 'output_tokens': 19, 'total_tokens': 898, 'input_token_details': {'audio': 0, 'cache_read': 0}, 'output_token_details': {'audio': 0, 'reasoning': 0}}), HumanMessage(content='can you provide videos on langgraph?', additional_kwargs={}, response_metadata={}, id='8d466c7e-f196-4621-bafa-b1dfea8e5938'), AIMessage(content='', additional_kwargs={'tool_calls': [{'id': 'call_Xs34cnKFozYFSBG6X2bp9nTO', 'function': {'arguments': '{\"query\":\"Langgraph\"}', 'name': 'youtube_search'}, 'type': 'function'}], 'refusal': None}, response_metadata={'token_usage': {'completion_tokens': 15, 'prompt_tokens': 904, 'total_tokens': 919, 'completion_tokens_details': {'accepted_prediction_tokens': 0, 'audio_tokens': 0, 'reasoning_tokens': 0, 'rejected_prediction_tokens': 0}, 'prompt_tokens_details': {'audio_tokens': 0, 'cached_tokens': 0}}, 'model_name': 'gpt-4o-2024-08-06', 'system_fingerprint': None, 'id': 'chatcmpl-Bs8qkzPW5Hwgj58c9Uzt2A6Fg9Xi2', 'service_tier': 'default', 'finish_reason': 'tool_calls', 'logprobs': None}, id='run--10131759-1269-496d-af47-8b95b1e260c1-0', tool_calls=[{'name': 'youtube_search', 'args': {'query': 'Langgraph'}, 'id': 'call_Xs34cnKFozYFSBG6X2bp9nTO', 'type': 'tool_call'}], usage_metadata={'input_tokens': 904, 'output_tokens': 15, 'total_tokens': 919, 'input_token_details': {'audio': 0, 'cache_read': 0}, 'output_token_details': {'audio': 0, 'reasoning': 0}}), ToolMessage(content=\"['https://www.youtube.com/watch?v=jGg_1h0qzaM&pp=ygUJTGFuZ2dyYXBo', 'https://www.youtube.com/watch?v=CnXdddeZ4tQ&pp=ygUJTGFuZ2dyYXBo']\", name='youtube_search', id='b2529f6c-8887-4cad-a8ea-dbe8986da365', tool_call_id='call_Xs34cnKFozYFSBG6X2bp9nTO'), AIMessage(content='Here are some YouTube videos on Langgraph:\\n\\n1. [Video 1](https://www.youtube.com/watch?v=jGg_1h0qzaM&pp=ygUJTGFuZ2dyYXBo)\\n2. [Video 2](https://www.youtube.com/watch?v=CnXdddeZ4tQ&pp=ygUJTGFuZ2dyYXBo)', additional_kwargs={'refusal': None}, response_metadata={'token_usage': {'completion_tokens': 86, 'prompt_tokens': 990, 'total_tokens': 1076, 'completion_tokens_details': {'accepted_prediction_tokens': 0, 'audio_tokens': 0, 'reasoning_tokens': 0, 'rejected_prediction_tokens': 0}, 'prompt_tokens_details': {'audio_tokens': 0, 'cached_tokens': 0}}, 'model_name': 'gpt-4o-2024-08-06', 'system_fingerprint': None, 'id': 'chatcmpl-Bs8qmW5NWKTdQzSGwIGE8kMp6aAbl', 'service_tier': 'default', 'finish_reason': 'stop', 'logprobs': None}, id='run--3e74e014-37ab-4703-9db4-13ba5a5e5f2a-0', usage_metadata={'input_tokens': 990, 'output_tokens': 86, 'total_tokens': 1076, 'input_token_details': {'audio': 0, 'cache_read': 0}, 'output_token_details': {'audio': 0, 'reasoning': 0}}), HumanMessage(content='can you provide videos on langgraph?', additional_kwargs={}, response_metadata={}, id='59d9188c-f935-4a27-bb26-e4f0e9c4cea2'), AIMessage(content='', additional_kwargs={'tool_calls': [{'id': 'call_6atVMpTPBCLYkt4lTGnu9Y8a', 'function': {'arguments': '{\"query\":\"Langgraph\"}', 'name': 'youtube_search'}, 'type': 'function'}], 'refusal': None}, response_metadata={'token_usage': {'completion_tokens': 15, 'prompt_tokens': 1091, 'total_tokens': 1106, 'completion_tokens_details': {'accepted_prediction_tokens': 0, 'audio_tokens': 0, 'reasoning_tokens': 0, 'rejected_prediction_tokens': 0}, 'prompt_tokens_details': {'audio_tokens': 0, 'cached_tokens': 1024}}, 'model_name': 'gpt-4o-2024-08-06', 'system_fingerprint': None, 'id': 'chatcmpl-Bs8rBRTILsCiq7T4U1IxIeLg1pDIQ', 'service_tier': 'default', 'finish_reason': 'tool_calls', 'logprobs': None}, id='run--a2f95f2c-61c3-44b0-ac44-9576b69f8afd-0', tool_calls=[{'name': 'youtube_search', 'args': {'query': 'Langgraph'}, 'id': 'call_6atVMpTPBCLYkt4lTGnu9Y8a', 'type': 'tool_call'}], usage_metadata={'input_tokens': 1091, 'output_tokens': 15, 'total_tokens': 1106, 'input_token_details': {'audio': 0, 'cache_read': 1024}, 'output_token_details': {'audio': 0, 'reasoning': 0}}), ToolMessage(content=\"['https://www.youtube.com/watch?v=CnXdddeZ4tQ&pp=ygUJTGFuZ2dyYXBo', 'https://www.youtube.com/watch?v=jGg_1h0qzaM&pp=ygUJTGFuZ2dyYXBo']\", name='youtube_search', id='8d7773b2-88ed-427c-b53e-8f2162f8b929', tool_call_id='call_6atVMpTPBCLYkt4lTGnu9Y8a'), AIMessage(content='Here are some YouTube videos on Langgraph:\\n\\n1. [Langgraph Video 1](https://www.youtube.com/watch?v=CnXdddeZ4tQ&pp=ygUJTGFuZ2dyYXBo)\\n2. [Langgraph Video 2](https://www.youtube.com/watch?v=jGg_1h0qzaM&pp=ygUJTGFuZ2dyYXBo)', additional_kwargs={'refusal': None}, response_metadata={'token_usage': {'completion_tokens': 90, 'prompt_tokens': 1177, 'total_tokens': 1267, 'completion_tokens_details': {'accepted_prediction_tokens': 0, 'audio_tokens': 0, 'reasoning_tokens': 0, 'rejected_prediction_tokens': 0}, 'prompt_tokens_details': {'audio_tokens': 0, 'cached_tokens': 1024}}, 'model_name': 'gpt-4o-2024-08-06', 'system_fingerprint': None, 'id': 'chatcmpl-Bs8rDPSTw946g0ZHieDsOkqnOVG2p', 'service_tier': 'default', 'finish_reason': 'stop', 'logprobs': None}, id='run--5262ffcd-a715-4539-99fa-dec84d2eb74c-0', usage_metadata={'input_tokens': 1177, 'output_tokens': 90, 'total_tokens': 1267, 'input_token_details': {'audio': 0, 'cache_read': 1024}, 'output_token_details': {'audio': 0, 'reasoning': 0}}), HumanMessage(content='What is the stock price of GOOGLE ?', additional_kwargs={}, response_metadata={}, id='880d309e-632c-428f-8b4d-f549449f4a99'), AIMessage(content='', additional_kwargs={'tool_calls': [{'id': 'call_UJhruBTvDCC2IsA0iMYResI8', 'function': {'arguments': '{\"ticker\":\"GOOGL\"}', 'name': 'get_stock_price'}, 'type': 'function'}], 'refusal': None}, response_metadata={'token_usage': {'completion_tokens': 17, 'prompt_tokens': 1291, 'total_tokens': 1308, 'completion_tokens_details': {'accepted_prediction_tokens': 0, 'audio_tokens': 0, 'reasoning_tokens': 0, 'rejected_prediction_tokens': 0}, 'prompt_tokens_details': {'audio_tokens': 0, 'cached_tokens': 0}}, 'model_name': 'gpt-4o-2024-08-06', 'system_fingerprint': 'fp_07871e2ad8', 'id': 'chatcmpl-Bs8s5PQsb8MhbwDI0GIdE8Vcvlcr7', 'service_tier': 'default', 'finish_reason': 'tool_calls', 'logprobs': None}, id='run--8f09929e-0916-4e5a-b62c-531b77001cf3-0', tool_calls=[{'name': 'get_stock_price', 'args': {'ticker': 'GOOGL'}, 'id': 'call_UJhruBTvDCC2IsA0iMYResI8', 'type': 'tool_call'}], usage_metadata={'input_tokens': 1291, 'output_tokens': 17, 'total_tokens': 1308, 'input_token_details': {'audio': 0, 'cache_read': 0}, 'output_token_details': {'audio': 0, 'reasoning': 0}}), ToolMessage(content='The last closing price of GOOGL is $177.62.', name='get_stock_price', id='55513e32-17e6-4fda-bd6b-0f8096350f26', tool_call_id='call_UJhruBTvDCC2IsA0iMYResI8'), AIMessage(content=\"The last closing price of Google's stock (GOOGL) is $177.62.\", additional_kwargs={'refusal': None}, response_metadata={'token_usage': {'completion_tokens': 19, 'prompt_tokens': 1331, 'total_tokens': 1350, 'completion_tokens_details': {'accepted_prediction_tokens': 0, 'audio_tokens': 0, 'reasoning_tokens': 0, 'rejected_prediction_tokens': 0}, 'prompt_tokens_details': {'audio_tokens': 0, 'cached_tokens': 0}}, 'model_name': 'gpt-4o-2024-08-06', 'system_fingerprint': 'fp_07871e2ad8', 'id': 'chatcmpl-Bs8s7GAi7sMxTyyJd80T9E1eP3nVd', 'service_tier': 'default', 'finish_reason': 'stop', 'logprobs': None}, id='run--b3f79d5d-87d1-4726-9329-9389f3219c97-0', usage_metadata={'input_tokens': 1331, 'output_tokens': 19, 'total_tokens': 1350, 'input_token_details': {'audio': 0, 'cache_read': 0}, 'output_token_details': {'audio': 0, 'reasoning': 0}}), HumanMessage(content='What is the stock price of GOOGLE ?', additional_kwargs={}, response_metadata={}, id='3e4d3f38-89df-4b8a-a35d-3640a8da0444'), AIMessage(content='', additional_kwargs={'tool_calls': [{'id': 'call_1ewOCZ2hr1UVmbISUR2xnSQc', 'function': {'arguments': '{\"ticker\":\"GOOGL\"}', 'name': 'get_stock_price'}, 'type': 'function'}], 'refusal': None}, response_metadata={'token_usage': {'completion_tokens': 17, 'prompt_tokens': 1365, 'total_tokens': 1382, 'completion_tokens_details': {'accepted_prediction_tokens': 0, 'audio_tokens': 0, 'reasoning_tokens': 0, 'rejected_prediction_tokens': 0}, 'prompt_tokens_details': {'audio_tokens': 0, 'cached_tokens': 1280}}, 'model_name': 'gpt-4o-2024-08-06', 'system_fingerprint': 'fp_07871e2ad8', 'id': 'chatcmpl-Bs8sLPcvt3oLwyrmup8HFb2Gj217p', 'service_tier': 'default', 'finish_reason': 'tool_calls', 'logprobs': None}, id='run--719ac9fc-6d77-4e32-9c9b-4cc9194b50b5-0', tool_calls=[{'name': 'get_stock_price', 'args': {'ticker': 'GOOGL'}, 'id': 'call_1ewOCZ2hr1UVmbISUR2xnSQc', 'type': 'tool_call'}], usage_metadata={'input_tokens': 1365, 'output_tokens': 17, 'total_tokens': 1382, 'input_token_details': {'audio': 0, 'cache_read': 1280}, 'output_token_details': {'audio': 0, 'reasoning': 0}}), ToolMessage(content='The last closing price of GOOGL is $177.62.', name='get_stock_price', id='5f0aeb22-5618-4c7d-a851-e901d1ae82cc', tool_call_id='call_1ewOCZ2hr1UVmbISUR2xnSQc'), AIMessage(content=\"The last closing price of Google's stock (GOOGL) is $177.62.\", additional_kwargs={'refusal': None}, response_metadata={'token_usage': {'completion_tokens': 19, 'prompt_tokens': 1405, 'total_tokens': 1424, 'completion_tokens_details': {'accepted_prediction_tokens': 0, 'audio_tokens': 0, 'reasoning_tokens': 0, 'rejected_prediction_tokens': 0}, 'prompt_tokens_details': {'audio_tokens': 0, 'cached_tokens': 1280}}, 'model_name': 'gpt-4o-2024-08-06', 'system_fingerprint': 'fp_07871e2ad8', 'id': 'chatcmpl-Bs8sNCzgdKK596s98kjfDLK7AKzqt', 'service_tier': 'default', 'finish_reason': 'stop', 'logprobs': None}, id='run--bd7e266a-7bd9-4e40-9271-911f1fba8e35-0', usage_metadata={'input_tokens': 1405, 'output_tokens': 19, 'total_tokens': 1424, 'input_token_details': {'audio': 0, 'cache_read': 1280}, 'output_token_details': {'audio': 0, 'reasoning': 0}}), HumanMessage(content='what is the stcok price of APPLE', additional_kwargs={}, response_metadata={}, id='d311c7a8-f924-4679-9024-6d7184c9bf2f'), AIMessage(content='', additional_kwargs={'tool_calls': [{'id': 'call_ekYh0M2utXmQwtIRw7JM2fZQ', 'function': {'arguments': '{\"ticker\":\"AAPL\"}', 'name': 'get_stock_price'}, 'type': 'function'}], 'refusal': None}, response_metadata={'token_usage': {'completion_tokens': 16, 'prompt_tokens': 1441, 'total_tokens': 1457, 'completion_tokens_details': {'accepted_prediction_tokens': 0, 'audio_tokens': 0, 'reasoning_tokens': 0, 'rejected_prediction_tokens': 0}, 'prompt_tokens_details': {'audio_tokens': 0, 'cached_tokens': 1408}}, 'model_name': 'gpt-4o-2024-08-06', 'system_fingerprint': 'fp_07871e2ad8', 'id': 'chatcmpl-Bs8uFdusSSSuCLdee2yoS6FGQGoRe', 'service_tier': 'default', 'finish_reason': 'tool_calls', 'logprobs': None}, id='run--5d5b0e9c-7c52-4250-b05c-851dc3da6714-0', tool_calls=[{'name': 'get_stock_price', 'args': {'ticker': 'AAPL'}, 'id': 'call_ekYh0M2utXmQwtIRw7JM2fZQ', 'type': 'tool_call'}], usage_metadata={'input_tokens': 1441, 'output_tokens': 16, 'total_tokens': 1457, 'input_token_details': {'audio': 0, 'cache_read': 1408}, 'output_token_details': {'audio': 0, 'reasoning': 0}}), ToolMessage(content='The last closing price of AAPL is $212.41.', name='get_stock_price', id='823d0f8d-0226-468f-ba08-4f295eb71aec', tool_call_id='call_ekYh0M2utXmQwtIRw7JM2fZQ'), AIMessage(content=\"The last closing price of Apple's stock (AAPL) is $212.41.\", additional_kwargs={'refusal': None}, response_metadata={'token_usage': {'completion_tokens': 18, 'prompt_tokens': 1479, 'total_tokens': 1497, 'completion_tokens_details': {'accepted_prediction_tokens': 0, 'audio_tokens': 0, 'reasoning_tokens': 0, 'rejected_prediction_tokens': 0}, 'prompt_tokens_details': {'audio_tokens': 0, 'cached_tokens': 1280}}, 'model_name': 'gpt-4o-2024-08-06', 'system_fingerprint': 'fp_07871e2ad8', 'id': 'chatcmpl-Bs8uIyJwGQYpOO3rS8NAJAahYaFHi', 'service_tier': 'default', 'finish_reason': 'stop', 'logprobs': None}, id='run--87fbe14f-8167-4c24-abd0-5cfd98f6beeb-0', usage_metadata={'input_tokens': 1479, 'output_tokens': 18, 'total_tokens': 1497, 'input_token_details': {'audio': 0, 'cache_read': 1280}, 'output_token_details': {'audio': 0, 'reasoning': 0}}), HumanMessage(content='what is the stcok price of APPLE', additional_kwargs={}, response_metadata={}, id='a9fd1c15-f652-4ece-a283-45dc4fb9ff49'), AIMessage(content='', additional_kwargs={'tool_calls': [{'id': 'call_BI6orlk8wtIj8NsbAJUlRzhv', 'function': {'arguments': '{\"ticker\":\"AAPL\"}', 'name': 'get_stock_price'}, 'type': 'function'}], 'refusal': None}, response_metadata={'token_usage': {'completion_tokens': 16, 'prompt_tokens': 1514, 'total_tokens': 1530, 'completion_tokens_details': {'accepted_prediction_tokens': 0, 'audio_tokens': 0, 'reasoning_tokens': 0, 'rejected_prediction_tokens': 0}, 'prompt_tokens_details': {'audio_tokens': 0, 'cached_tokens': 1408}}, 'model_name': 'gpt-4o-2024-08-06', 'system_fingerprint': 'fp_07871e2ad8', 'id': 'chatcmpl-Bs8uRqiUYunZK4xK6zPtqDPqI0Oap', 'service_tier': 'default', 'finish_reason': 'tool_calls', 'logprobs': None}, id='run--e9456c78-8259-44ce-8a26-ca090fc4bc02-0', tool_calls=[{'name': 'get_stock_price', 'args': {'ticker': 'AAPL'}, 'id': 'call_BI6orlk8wtIj8NsbAJUlRzhv', 'type': 'tool_call'}], usage_metadata={'input_tokens': 1514, 'output_tokens': 16, 'total_tokens': 1530, 'input_token_details': {'audio': 0, 'cache_read': 1408}, 'output_token_details': {'audio': 0, 'reasoning': 0}}), ToolMessage(content='The last closing price of AAPL is $212.41.', name='get_stock_price', id='c5e73fcb-5638-4608-8c80-3ee9bafffcea', tool_call_id='call_BI6orlk8wtIj8NsbAJUlRzhv'), AIMessage(content=\"The last closing price of Apple's stock (AAPL) is $212.41.\", additional_kwargs={'refusal': None}, response_metadata={'token_usage': {'completion_tokens': 18, 'prompt_tokens': 1552, 'total_tokens': 1570, 'completion_tokens_details': {'accepted_prediction_tokens': 0, 'audio_tokens': 0, 'reasoning_tokens': 0, 'rejected_prediction_tokens': 0}, 'prompt_tokens_details': {'audio_tokens': 0, 'cached_tokens': 1408}}, 'model_name': 'gpt-4o-2024-08-06', 'system_fingerprint': 'fp_07871e2ad8', 'id': 'chatcmpl-Bs8uSUbjAEFwsRdLv6OZZ90jUmFMu', 'service_tier': 'default', 'finish_reason': 'stop', 'logprobs': None}, id='run--e31f158b-130d-4d76-af96-9f7cf04551ad-0', usage_metadata={'input_tokens': 1552, 'output_tokens': 18, 'total_tokens': 1570, 'input_token_details': {'audio': 0, 'cache_read': 1408}, 'output_token_details': {'audio': 0, 'reasoning': 0}})]}})\n"
     ]
    }
   ],
   "source": [
    "config={\"configurable\": {\"thread_id\": \"1\"}}\n",
    "for s in supervisor_app.stream({\"messages\": [(\"user\", \"what is the stcok price of APPLE\")]}, subgraphs=True, config=config):\n",
    "    print(s)"
   ]
  },
  {
   "cell_type": "code",
   "execution_count": 148,
   "metadata": {},
   "outputs": [
    {
     "name": "stdout",
     "output_type": "stream",
     "text": [
      "================================\u001b[1m Human Message \u001b[0m=================================\n",
      "\n",
      "What is the stock price of GOOGLE ?\n",
      "**********BELOW IS MY GOTO***************\n",
      "finance_app\n",
      "=======Finance App===========\n",
      "=======Finance App===========\n",
      "==================================\u001b[1m Ai Message \u001b[0m==================================\n",
      "\n",
      "The last closing price of Google's stock (GOOGL) is $177.62.\n"
     ]
    }
   ],
   "source": [
    "message = [HumanMessage(content = \"What is the stock price of GOOGLE ?\")]\n",
    "for event in supervisor_app.stream({\"messages\": message}, stream_mode=\"values\", config=config):\n",
    "    event[\"messages\"][-1].pretty_print()"
   ]
  },
  {
   "cell_type": "code",
   "execution_count": 142,
   "metadata": {},
   "outputs": [
    {
     "name": "stdout",
     "output_type": "stream",
     "text": [
      "================================\u001b[1m Human Message \u001b[0m=================================\n",
      "\n",
      "can you provide videos on langgraph?\n",
      "**********BELOW IS MY GOTO***************\n",
      "video_app\n",
      "==================================\u001b[1m Ai Message \u001b[0m==================================\n",
      "\n",
      "Here are some YouTube videos on Langgraph:\n",
      "\n",
      "1. [Video 1](https://www.youtube.com/watch?v=jGg_1h0qzaM&pp=ygUJTGFuZ2dyYXBo)\n",
      "2. [Video 2](https://www.youtube.com/watch?v=CnXdddeZ4tQ&pp=ygUJTGFuZ2dyYXBo)\n"
     ]
    }
   ],
   "source": [
    "message = [HumanMessage(content = \"can you provide videos on langgraph?\")]\n",
    "for event in supervisor_app.stream({\"messages\": message}, stream_mode=\"values\", config=config):\n",
    "    event[\"messages\"][-1].pretty_print()"
   ]
  },
  {
   "cell_type": "code",
   "execution_count": null,
   "metadata": {},
   "outputs": [],
   "source": []
  },
  {
   "cell_type": "code",
   "execution_count": 144,
   "metadata": {},
   "outputs": [
    {
     "name": "stdout",
     "output_type": "stream",
     "text": [
      "================================\u001b[1m Human Message \u001b[0m=================================\n",
      "\n",
      "can you provide videos on langgraph?\n",
      "**********BELOW IS MY GOTO***************\n",
      "video_app\n",
      "==================================\u001b[1m Ai Message \u001b[0m==================================\n",
      "\n",
      "Here are some YouTube videos on Langgraph:\n",
      "\n",
      "1. [Langgraph Video 1](https://www.youtube.com/watch?v=CnXdddeZ4tQ&pp=ygUJTGFuZ2dyYXBo)\n",
      "2. [Langgraph Video 2](https://www.youtube.com/watch?v=jGg_1h0qzaM&pp=ygUJTGFuZ2dyYXBo)\n"
     ]
    }
   ],
   "source": [
    "message = [HumanMessage(content = \"can you provide videos on langgraph?\")]\n",
    "for event in supervisor_app.stream({\"messages\": message}, stream_mode=\"values\", config=config):\n",
    "    event[\"messages\"][-1].pretty_print()"
   ]
  },
  {
   "cell_type": "code",
   "execution_count": 184,
   "metadata": {},
   "outputs": [
    {
     "data": {
      "text/plain": [
       "{'v': 3,\n",
       " 'ts': '2025-07-11T14:36:25.680890+00:00',\n",
       " 'id': '1f05e646-c656-6028-8021-5bb27313e7f7',\n",
       " 'channel_versions': {'__start__': '00000000000000000000000000000033.0.9048217029851195',\n",
       "  'messages': '00000000000000000000000000000035.0.44716613528803006',\n",
       "  'branch:to:supervisor': '00000000000000000000000000000034.0.650682182148515',\n",
       "  'branch:to:finance_app': '00000000000000000000000000000035.0.5498329661399651'},\n",
       " 'versions_seen': {'__input__': {},\n",
       "  '__start__': {'__start__': '00000000000000000000000000000032.0.4039465597028985'},\n",
       "  'supervisor': {'branch:to:supervisor': '00000000000000000000000000000033.0.6339437656869115'},\n",
       "  'finance_app': {'branch:to:finance_app': '00000000000000000000000000000034.0.421539907016511'}},\n",
       " 'pending_sends': [],\n",
       " 'channel_values': {'messages': [HumanMessage(content='what is the last closing price of AAPL ', additional_kwargs={}, response_metadata={}, id='680bb96e-fd90-48ec-b650-e0aeaf74081b'),\n",
       "   AIMessage(content='', additional_kwargs={'tool_calls': [{'id': 'call_s3kM7C9kWaS8gAi94OxwB0oy', 'function': {'arguments': '{\"ticker\":\"AAPL\"}', 'name': 'get_stock_price'}, 'type': 'function'}], 'refusal': None}, response_metadata={'token_usage': {'completion_tokens': 16, 'prompt_tokens': 132, 'total_tokens': 148, 'completion_tokens_details': {'accepted_prediction_tokens': 0, 'audio_tokens': 0, 'reasoning_tokens': 0, 'rejected_prediction_tokens': 0}, 'prompt_tokens_details': {'audio_tokens': 0, 'cached_tokens': 0}}, 'model_name': 'gpt-4o-2024-08-06', 'system_fingerprint': 'fp_07871e2ad8', 'id': 'chatcmpl-Bs96Ap8b92bbEoIR8RWadtScl4OTf', 'service_tier': 'default', 'finish_reason': 'tool_calls', 'logprobs': None}, id='run--87838c89-f71a-4218-b390-5525494a7bff-0', tool_calls=[{'name': 'get_stock_price', 'args': {'ticker': 'AAPL'}, 'id': 'call_s3kM7C9kWaS8gAi94OxwB0oy', 'type': 'tool_call'}], usage_metadata={'input_tokens': 132, 'output_tokens': 16, 'total_tokens': 148, 'input_token_details': {'audio': 0, 'cache_read': 0}, 'output_token_details': {'audio': 0, 'reasoning': 0}}),\n",
       "   ToolMessage(content='The last closing price of AAPL is $212.41.', name='get_stock_price', id='0d14993c-b58a-469c-bf1d-6f6581a7329b', tool_call_id='call_s3kM7C9kWaS8gAi94OxwB0oy'),\n",
       "   AIMessage(content='The last closing price of AAPL (Apple Inc.) is $212.41.', additional_kwargs={'refusal': None}, response_metadata={'token_usage': {'completion_tokens': 18, 'prompt_tokens': 170, 'total_tokens': 188, 'completion_tokens_details': {'accepted_prediction_tokens': 0, 'audio_tokens': 0, 'reasoning_tokens': 0, 'rejected_prediction_tokens': 0}, 'prompt_tokens_details': {'audio_tokens': 0, 'cached_tokens': 0}}, 'model_name': 'gpt-4o-2024-08-06', 'system_fingerprint': 'fp_07871e2ad8', 'id': 'chatcmpl-Bs96CBsViIwn4xwAytrGSFoXHwB7X', 'service_tier': 'default', 'finish_reason': 'stop', 'logprobs': None}, id='run--ae0ed19b-611d-4d94-997b-f3b3e2d5df77-0', usage_metadata={'input_tokens': 170, 'output_tokens': 18, 'total_tokens': 188, 'input_token_details': {'audio': 0, 'cache_read': 0}, 'output_token_details': {'audio': 0, 'reasoning': 0}}),\n",
       "   HumanMessage(content='what is the last closing price of AAPL as in the conversation', additional_kwargs={}, response_metadata={}, id='732abea1-0993-41cb-b86f-32f75c0ca5ba'),\n",
       "   AIMessage(content='The last closing price of AAPL mentioned in our conversation is $212.41.', additional_kwargs={'refusal': None}, response_metadata={'token_usage': {'completion_tokens': 18, 'prompt_tokens': 208, 'total_tokens': 226, 'completion_tokens_details': {'accepted_prediction_tokens': 0, 'audio_tokens': 0, 'reasoning_tokens': 0, 'rejected_prediction_tokens': 0}, 'prompt_tokens_details': {'audio_tokens': 0, 'cached_tokens': 0}}, 'model_name': 'gpt-4o-2024-08-06', 'system_fingerprint': 'fp_07871e2ad8', 'id': 'chatcmpl-Bs96NUN6oGtkjglpyvqCq15husn4L', 'service_tier': 'default', 'finish_reason': 'stop', 'logprobs': None}, id='run--db9702b1-513c-411e-9e1e-dbfac6646c19-0', usage_metadata={'input_tokens': 208, 'output_tokens': 18, 'total_tokens': 226, 'input_token_details': {'audio': 0, 'cache_read': 0}, 'output_token_details': {'audio': 0, 'reasoning': 0}}),\n",
       "   HumanMessage(content='what is the stock price of AAPL as in the conversation', additional_kwargs={}, response_metadata={}, id='6b789449-217a-4616-b175-fff43403ffce'),\n",
       "   AIMessage(content='The stock price of AAPL (Apple Inc.) mentioned earlier in our conversation is $212.41.', additional_kwargs={'refusal': None}, response_metadata={'token_usage': {'completion_tokens': 22, 'prompt_tokens': 245, 'total_tokens': 267, 'completion_tokens_details': {'accepted_prediction_tokens': 0, 'audio_tokens': 0, 'reasoning_tokens': 0, 'rejected_prediction_tokens': 0}, 'prompt_tokens_details': {'audio_tokens': 0, 'cached_tokens': 0}}, 'model_name': 'gpt-4o-2024-08-06', 'system_fingerprint': 'fp_07871e2ad8', 'id': 'chatcmpl-Bs96adItjbTGYFGLAQYCgHpnLhUdK', 'service_tier': 'default', 'finish_reason': 'stop', 'logprobs': None}, id='run--275c1d49-4467-4f77-ad20-a4042398a149-0', usage_metadata={'input_tokens': 245, 'output_tokens': 22, 'total_tokens': 267, 'input_token_details': {'audio': 0, 'cache_read': 0}, 'output_token_details': {'audio': 0, 'reasoning': 0}}),\n",
       "   HumanMessage(content='what is the stock price of GOOGLE as in the conversation', additional_kwargs={}, response_metadata={}, id='16b1d995-5e48-452d-be86-9df80078cdf4'),\n",
       "   AIMessage(content='The stock price of GOOGLE was not discussed in our conversation. Would you like me to find the current stock price for Google?', additional_kwargs={'refusal': None}, response_metadata={'token_usage': {'completion_tokens': 26, 'prompt_tokens': 285, 'total_tokens': 311, 'completion_tokens_details': {'accepted_prediction_tokens': 0, 'audio_tokens': 0, 'reasoning_tokens': 0, 'rejected_prediction_tokens': 0}, 'prompt_tokens_details': {'audio_tokens': 0, 'cached_tokens': 0}}, 'model_name': 'gpt-4o-2024-08-06', 'system_fingerprint': 'fp_07871e2ad8', 'id': 'chatcmpl-Bs96jSMAA0pD9XGjHgJq4RIDGYKQ8', 'service_tier': 'default', 'finish_reason': 'stop', 'logprobs': None}, id='run--ba8162de-e46f-4e11-bfdc-64699a800ec8-0', usage_metadata={'input_tokens': 285, 'output_tokens': 26, 'total_tokens': 311, 'input_token_details': {'audio': 0, 'cache_read': 0}, 'output_token_details': {'audio': 0, 'reasoning': 0}}),\n",
       "   HumanMessage(content='check in google', additional_kwargs={}, response_metadata={}, id='09b5355f-65e2-4a44-b565-c9e91706daed'),\n",
       "   AIMessage(content='', additional_kwargs={'tool_calls': [{'id': 'call_p2k11a4wem2w0WOQkWXBk33q', 'function': {'arguments': '{\"query\":\"current stock price of Google\"}', 'name': 'duckduckgo_search'}, 'type': 'function'}], 'refusal': None}, response_metadata={'token_usage': {'completion_tokens': 21, 'prompt_tokens': 321, 'total_tokens': 342, 'completion_tokens_details': {'accepted_prediction_tokens': 0, 'audio_tokens': 0, 'reasoning_tokens': 0, 'rejected_prediction_tokens': 0}, 'prompt_tokens_details': {'audio_tokens': 0, 'cached_tokens': 0}}, 'model_name': 'gpt-4o-2024-08-06', 'system_fingerprint': 'fp_07871e2ad8', 'id': 'chatcmpl-Bs97FgHnqvFeWVMKnj11dZoje167Z', 'service_tier': 'default', 'finish_reason': 'tool_calls', 'logprobs': None}, id='run--fa9d51f5-4c59-42c3-9a5a-d21163d8ed1b-0', tool_calls=[{'name': 'duckduckgo_search', 'args': {'query': 'current stock price of Google'}, 'id': 'call_p2k11a4wem2w0WOQkWXBk33q', 'type': 'tool_call'}], usage_metadata={'input_tokens': 321, 'output_tokens': 21, 'total_tokens': 342, 'input_token_details': {'audio': 0, 'cache_read': 0}, 'output_token_details': {'audio': 0, 'reasoning': 0}}),\n",
       "   ToolMessage(content=\"In order to qualify and enroll in the Fee-Free Overdraft feature, you must receive a minimum of $200 or more in Eligible Direct Deposits into your Current Account over the preceding 35-day … No matter what your title or how long you've worked here, at Current everyone is integral to making our mission possible. Here, no task is beneath us. We keep an open mind, because … Current is a mobile app that empowers people to make smart financial decisions. With a Current account, you can get a debit card or the Build Card to safely build credit, all while having … Tools and Features Get in touch Still have questions? If you didn't find what you need, you can send an inquiry through our contact form, emailing support@current.com, or chatting with us in … Learn more about our Personal Checking accounts and the benefits of using Current\", name='duckduckgo_search', id='f8ce139f-a6a2-4eaa-8597-631770d37eab', tool_call_id='call_p2k11a4wem2w0WOQkWXBk33q'),\n",
       "   AIMessage(content='It seems there was an issue retrieving the current stock price for Google using the proxy search. Would you like me to try using a different method or source to find this information?', additional_kwargs={'refusal': None}, response_metadata={'token_usage': {'completion_tokens': 36, 'prompt_tokens': 522, 'total_tokens': 558, 'completion_tokens_details': {'accepted_prediction_tokens': 0, 'audio_tokens': 0, 'reasoning_tokens': 0, 'rejected_prediction_tokens': 0}, 'prompt_tokens_details': {'audio_tokens': 0, 'cached_tokens': 0}}, 'model_name': 'gpt-4o-2024-08-06', 'system_fingerprint': 'fp_07871e2ad8', 'id': 'chatcmpl-Bs97HPGPrXE2FwWWjKU1SjIlbYF0f', 'service_tier': 'default', 'finish_reason': 'stop', 'logprobs': None}, id='run--58bcf8cd-40be-4533-a604-14b5c5cc3159-0', usage_metadata={'input_tokens': 522, 'output_tokens': 36, 'total_tokens': 558, 'input_token_details': {'audio': 0, 'cache_read': 0}, 'output_token_details': {'audio': 0, 'reasoning': 0}}),\n",
       "   HumanMessage(content='check in finance app', additional_kwargs={}, response_metadata={}, id='89deeb49-e684-4576-9c71-1281b3d819dd'),\n",
       "   AIMessage(content='', additional_kwargs={'tool_calls': [{'id': 'call_9Pf7uusiDydzmsf3BZmL5pMb', 'function': {'arguments': '{\"ticker\":\"GOOGL\"}', 'name': 'get_stock_price'}, 'type': 'function'}], 'refusal': None}, response_metadata={'token_usage': {'completion_tokens': 17, 'prompt_tokens': 569, 'total_tokens': 586, 'completion_tokens_details': {'accepted_prediction_tokens': 0, 'audio_tokens': 0, 'reasoning_tokens': 0, 'rejected_prediction_tokens': 0}, 'prompt_tokens_details': {'audio_tokens': 0, 'cached_tokens': 0}}, 'model_name': 'gpt-4o-2024-08-06', 'system_fingerprint': 'fp_07871e2ad8', 'id': 'chatcmpl-Bs97wTeBvuu6hhyvEiK1TPMir6D5r', 'service_tier': 'default', 'finish_reason': 'tool_calls', 'logprobs': None}, id='run--706acebd-9417-4b9f-abb2-4b7c436c462c-0', tool_calls=[{'name': 'get_stock_price', 'args': {'ticker': 'GOOGL'}, 'id': 'call_9Pf7uusiDydzmsf3BZmL5pMb', 'type': 'tool_call'}], usage_metadata={'input_tokens': 569, 'output_tokens': 17, 'total_tokens': 586, 'input_token_details': {'audio': 0, 'cache_read': 0}, 'output_token_details': {'audio': 0, 'reasoning': 0}}),\n",
       "   ToolMessage(content='The last closing price of GOOGL is $177.62.', name='get_stock_price', id='8b35ccfa-11cb-4c5e-8d5b-1814c30fd422', tool_call_id='call_9Pf7uusiDydzmsf3BZmL5pMb'),\n",
       "   AIMessage(content='The last closing price of GOOGL (Alphabet Inc.) is $177.62.', additional_kwargs={'refusal': None}, response_metadata={'token_usage': {'completion_tokens': 19, 'prompt_tokens': 609, 'total_tokens': 628, 'completion_tokens_details': {'accepted_prediction_tokens': 0, 'audio_tokens': 0, 'reasoning_tokens': 0, 'rejected_prediction_tokens': 0}, 'prompt_tokens_details': {'audio_tokens': 0, 'cached_tokens': 0}}, 'model_name': 'gpt-4o-2024-08-06', 'system_fingerprint': 'fp_07871e2ad8', 'id': 'chatcmpl-Bs97yFzzSqJ2t1vA3TJOK1bXTCJJq', 'service_tier': 'default', 'finish_reason': 'stop', 'logprobs': None}, id='run--e2b1f443-b986-4978-8f1f-6d285b3ec9e9-0', usage_metadata={'input_tokens': 609, 'output_tokens': 19, 'total_tokens': 628, 'input_token_details': {'audio': 0, 'cache_read': 0}, 'output_token_details': {'audio': 0, 'reasoning': 0}}),\n",
       "   HumanMessage(content='what is the stock price of GOOGLE as in the conversation', additional_kwargs={}, response_metadata={}, id='645aede2-259f-47c7-8519-798452258730'),\n",
       "   HumanMessage(content='what is the stock price of GOOGLE as in the conversation', additional_kwargs={}, response_metadata={}, id='1c312400-6707-414d-9f20-28dcb656c196'),\n",
       "   AIMessage(content='The stock price of GOOGLE (GOOGL) mentioned in our conversation is $177.62.', additional_kwargs={'refusal': None}, response_metadata={'token_usage': {'completion_tokens': 21, 'prompt_tokens': 661, 'total_tokens': 682, 'completion_tokens_details': {'accepted_prediction_tokens': 0, 'audio_tokens': 0, 'reasoning_tokens': 0, 'rejected_prediction_tokens': 0}, 'prompt_tokens_details': {'audio_tokens': 0, 'cached_tokens': 0}}, 'model_name': 'gpt-4o-2024-08-06', 'system_fingerprint': 'fp_07871e2ad8', 'id': 'chatcmpl-Bs98XVzttyRmBvWhnGFSBwVelf06c', 'service_tier': 'default', 'finish_reason': 'stop', 'logprobs': None}, id='run--f51280de-5e45-4fa6-ae8b-eaa82eb71543-0', usage_metadata={'input_tokens': 661, 'output_tokens': 21, 'total_tokens': 682, 'input_token_details': {'audio': 0, 'cache_read': 0}, 'output_token_details': {'audio': 0, 'reasoning': 0}}),\n",
       "   HumanMessage(content='what is the stock price of last two companies I have mentioned', additional_kwargs={}, response_metadata={}, id='6f39808f-768f-4be1-a786-8ad6410fcf0a'),\n",
       "   AIMessage(content='The stock prices for the last two companies you mentioned are:\\n\\n- AAPL (Apple Inc.): $212.41\\n- GOOGL (Alphabet Inc.): $177.62', additional_kwargs={'refusal': None}, response_metadata={'token_usage': {'completion_tokens': 37, 'prompt_tokens': 701, 'total_tokens': 738, 'completion_tokens_details': {'accepted_prediction_tokens': 0, 'audio_tokens': 0, 'reasoning_tokens': 0, 'rejected_prediction_tokens': 0}, 'prompt_tokens_details': {'audio_tokens': 0, 'cached_tokens': 0}}, 'model_name': 'gpt-4o-2024-08-06', 'system_fingerprint': 'fp_07871e2ad8', 'id': 'chatcmpl-Bs99MNFjCrt4TkRYaTxhgNcynq4xe', 'service_tier': 'default', 'finish_reason': 'stop', 'logprobs': None}, id='run--5c2c723e-6e16-49f6-8d97-38c250e9a392-0', usage_metadata={'input_tokens': 701, 'output_tokens': 37, 'total_tokens': 738, 'input_token_details': {'audio': 0, 'cache_read': 0}, 'output_token_details': {'audio': 0, 'reasoning': 0}})]}}"
      ]
     },
     "execution_count": 184,
     "metadata": {},
     "output_type": "execute_result"
    }
   ],
   "source": [
    "memory.get(config=config)"
   ]
  }
 ],
 "metadata": {
  "kernelspec": {
   "display_name": ".venv",
   "language": "python",
   "name": "python3"
  },
  "language_info": {
   "codemirror_mode": {
    "name": "ipython",
    "version": 3
   },
   "file_extension": ".py",
   "mimetype": "text/x-python",
   "name": "python",
   "nbconvert_exporter": "python",
   "pygments_lexer": "ipython3",
   "version": "3.11.13"
  }
 },
 "nbformat": 4,
 "nbformat_minor": 2
}
