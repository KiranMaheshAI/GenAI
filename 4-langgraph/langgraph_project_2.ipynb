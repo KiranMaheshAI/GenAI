{
 "cells": [
  {
   "cell_type": "markdown",
   "metadata": {},
   "source": [
    "### SuperVisor Agent with RAG Call and LLM Call\n",
    "\n",
    "Supervisor function deciding whether to make RAG call to LLM call"
   ]
  },
  {
   "cell_type": "code",
   "execution_count": 1,
   "metadata": {},
   "outputs": [
    {
     "name": "stdout",
     "output_type": "stream",
     "text": [
      "\n",
      "<think>\n",
      "Okay, the user said \"hi\". I should respond in a friendly way. Maybe say hello back and ask how I can help them. Keep it simple and open-ended so they feel comfortable to ask anything. Let me check if there's anything else I need to consider. No, just a standard greeting. Alright, ready to respond.\n",
      "</think>\n",
      "\n",
      "Hi! 😊 How can I assist you today?\n"
     ]
    }
   ],
   "source": [
    "# LLM\n",
    "from langchain_groq import ChatGroq\n",
    "\n",
    "llm_groq = ChatGroq(model=\"qwen-qwq-32b\")\n",
    "response = llm_groq.invoke(\"hi\")\n",
    "print(response.content)"
   ]
  },
  {
   "cell_type": "code",
   "execution_count": 2,
   "metadata": {},
   "outputs": [
    {
     "name": "stderr",
     "output_type": "stream",
     "text": [
      "/Users/I572648/Library/CloudStorage/OneDrive-SAPSE/Desktop/Git/GenAI/.venv/lib/python3.11/site-packages/tqdm/auto.py:21: TqdmWarning: IProgress not found. Please update jupyter and ipywidgets. See https://ipywidgets.readthedocs.io/en/stable/user_install.html\n",
      "  from .autonotebook import tqdm as notebook_tqdm\n"
     ]
    },
    {
     "data": {
      "text/plain": [
       "384"
      ]
     },
     "execution_count": 2,
     "metadata": {},
     "output_type": "execute_result"
    }
   ],
   "source": [
    "# Embeddings\n",
    "from langchain_huggingface import HuggingFaceEmbeddings\n",
    "embeddings = HuggingFaceEmbeddings(model_name=\"sentence-transformers/all-MiniLM-L6-v2\")\n",
    "len(embeddings.embed_query(\"This is a test sentence.\"))"
   ]
  },
  {
   "cell_type": "code",
   "execution_count": 6,
   "metadata": {},
   "outputs": [
    {
     "name": "stdout",
     "output_type": "stream",
     "text": [
      "🇺🇸 Overview of the U.S. Economy\n",
      "The United States of America possesses the largest economy in the world in terms of nominal GDP, making it the most powerful economic force globally. It operates under a capitalist mixed economy, where the private sector dominates, but the government plays a significant regulatory and fiscal role. With a population of over 335 million people and a high level of technological advancement, the U.S. economy thrives on a foundation of consumer spending, innovation, global trade, and financial services. It has a highly diversified structure with strong sectors in technology, healthcare, finance, real estate, defense, and agriculture.\n",
      "--------------------\n",
      "U.S. GDP – Size, Composition, and Global Share\n",
      "As of 2024, the United States’ nominal GDP is estimated to be around $28 trillion USD, accounting for approximately 25% of the global economy. It ranks #1 in the world by nominal GDP, far ahead of China (which ranks 2nd). The U.S. GDP per capita is also among the highest, hovering around $83,000, which indicates a high standard of living and productivity. In terms of Purchasing Power Parity (PPP), the U.S. ranks second, but nominal GDP is considered more reflective of actual economic size and financial influence.\n",
      "--------------------\n",
      "The GDP is predominantly driven by the services sector, which contributes more than 77% to the total GDP. This includes industries such as finance, insurance, real estate, healthcare, education, and information technology. The industrial sector (manufacturing, construction, mining) makes up around 19%, while agriculture, although technologically advanced and export-oriented, contributes only about 1%. Despite its small share in GDP, U.S. agriculture is globally significant in terms of productivity and exports.\n"
     ]
    }
   ],
   "source": [
    "# Documnent Loaders\n",
    "from langchain_community.document_loaders import TextLoader, DirectoryLoader\n",
    "from langchain.text_splitter import RecursiveCharacterTextSplitter\n",
    "\n",
    "loader = DirectoryLoader(\"../data\", glob=\"./*.txt\", loader_cls=TextLoader)\n",
    "docs=loader.load()  # Load the documents\n",
    "\n",
    "new_docs = RecursiveCharacterTextSplitter(chunk_size=1000, chunk_overlap=200).split_documents(docs)  # Split the documents into chunks\n",
    "print(new_docs[0].page_content)  # Access the content of the first chunk\n",
    "print(\"-\"*20)\n",
    "print(new_docs[1].page_content)  # Access the content of the second chunk\n",
    "print(\"-\"*20)\n",
    "print(new_docs[2].page_content)  # Access the content of the third chunk\n"
   ]
  },
  {
   "cell_type": "code",
   "execution_count": 7,
   "metadata": {},
   "outputs": [
    {
     "data": {
      "text/plain": [
       "[Document(metadata={'source': '../data/usa.txt'}, page_content='Final Summary\\nThe U.S. economy remains the engine of global growth, backed by unmatched innovation, financial dominance, and a strong institutional framework. Its $28 trillion GDP and influence over global finance, trade, and technology make it the centerpiece of the modern economic system. Yet, rising debt, inequality, political gridlock, and competition from emerging powers demand careful policy navigation. If successfully addressed, the U.S. will continue to dominate the global economy well into the future.'),\n",
       " Document(metadata={'source': '../data/usa.txt'}, page_content='The GDP is predominantly driven by the services sector, which contributes more than 77% to the total GDP. This includes industries such as finance, insurance, real estate, healthcare, education, and information technology. The industrial sector (manufacturing, construction, mining) makes up around 19%, while agriculture, although technologically advanced and export-oriented, contributes only about 1%. Despite its small share in GDP, U.S. agriculture is globally significant in terms of productivity and exports.'),\n",
       " Document(metadata={'source': '../data/usa.txt'}, page_content='🇺🇸 Overview of the U.S. Economy\\nThe United States of America possesses the largest economy in the world in terms of nominal GDP, making it the most powerful economic force globally. It operates under a capitalist mixed economy, where the private sector dominates, but the government plays a significant regulatory and fiscal role. With a population of over 335 million people and a high level of technological advancement, the U.S. economy thrives on a foundation of consumer spending, innovation, global trade, and financial services. It has a highly diversified structure with strong sectors in technology, healthcare, finance, real estate, defense, and agriculture.')]"
      ]
     },
     "execution_count": 7,
     "metadata": {},
     "output_type": "execute_result"
    }
   ],
   "source": [
    "# Chroma Vector Store\n",
    "from langchain_community.vectorstores import Chroma\n",
    "\n",
    "db = Chroma.from_documents(documents=new_docs, embedding=embeddings)  # Create a vector store from the chunks\n",
    "retriever = db.as_retriever(search_kwargs={\"k\": 3})  # Create a retriever with k=3\n",
    "retriever.invoke(\"Industrial growth of USA?\")"
   ]
  },
  {
   "cell_type": "code",
   "execution_count": 8,
   "metadata": {},
   "outputs": [],
   "source": [
    "# Topic Selection Model\n",
    "from pydantic import BaseModel, Field\n",
    "\n",
    "# Creation of pydantic class\n",
    "class TopicSelectionModel(BaseModel):\n",
    "    Topic: str=Field(description=\"Selected topic\")\n",
    "    Reasoning: str=Field(description=\"Reasoning behind topic selection\")"
   ]
  },
  {
   "cell_type": "code",
   "execution_count": 9,
   "metadata": {},
   "outputs": [
    {
     "data": {
      "text/plain": [
       "'The output should be formatted as a JSON instance that conforms to the JSON schema below.\\n\\nAs an example, for the schema {\"properties\": {\"foo\": {\"title\": \"Foo\", \"description\": \"a list of strings\", \"type\": \"array\", \"items\": {\"type\": \"string\"}}}, \"required\": [\"foo\"]}\\nthe object {\"foo\": [\"bar\", \"baz\"]} is a well-formatted instance of the schema. The object {\"properties\": {\"foo\": [\"bar\", \"baz\"]}} is not well-formatted.\\n\\nHere is the output schema:\\n```\\n{\"properties\": {\"Topic\": {\"description\": \"Selected topic\", \"title\": \"Topic\", \"type\": \"string\"}, \"Reasoning\": {\"description\": \"Reasoning behind topic selection\", \"title\": \"Reasoning\", \"type\": \"string\"}}, \"required\": [\"Topic\", \"Reasoning\"]}\\n```'"
      ]
     },
     "execution_count": 9,
     "metadata": {},
     "output_type": "execute_result"
    }
   ],
   "source": [
    "# Pydantic Output Parser\n",
    "from langchain.output_parsers import PydanticOutputParser\n",
    "\n",
    "parser = PydanticOutputParser(pydantic_object=TopicSelectionModel)\n",
    "parser.get_format_instructions()"
   ]
  },
  {
   "cell_type": "code",
   "execution_count": 13,
   "metadata": {},
   "outputs": [
    {
     "data": {
      "text/plain": [
       "{'message': []}"
      ]
     },
     "execution_count": 13,
     "metadata": {},
     "output_type": "execute_result"
    }
   ],
   "source": [
    "# Agent State with TypedDict\n",
    "from typing import TypedDict, Annotated, Sequence\n",
    "from langchain_core.messages import BaseMessage\n",
    "import operator\n",
    "\n",
    "class AgentState(TypedDict):\n",
    "    message: Annotated[Sequence[BaseMessage], operator.add]\n",
    "\n",
    "agent_state = AgentState(message=[])\n",
    "agent_state"
   ]
  },
  {
   "cell_type": "code",
   "execution_count": 14,
   "metadata": {},
   "outputs": [],
   "source": [
    "# Supervisor Agent\n",
    "from langchain_core.prompts import PromptTemplate\n",
    "\n",
    "def supervisor(state: AgentState):\n",
    "    question=state[\"message\"][-1]\n",
    "    print(\"Question:\", question)\n",
    "\n",
    "    template= \"\"\"\n",
    "    Your task is to classify the given user query into the following categories: [USA,Not Related].\n",
    "    Only respond with the category name and nothing else.\n",
    "\n",
    "    User query: {question}\n",
    "    {format_instructions}\n",
    "    \"\"\"\n",
    "\n",
    "    prompt = PromptTemplate(\n",
    "        template=template,\n",
    "        input_variables=[\"question\"],\n",
    "        partial_variables={\"format_instructions\": parser.get_format_instructions()}\n",
    "    )\n",
    "    chain = prompt | llm_groq | parser\n",
    "    response = chain.invoke({\"question\": question})\n",
    "    print(\"Response:\", response)\n",
    "    return {\"message\": [response.Topic]}"
   ]
  },
  {
   "cell_type": "code",
   "execution_count": 15,
   "metadata": {},
   "outputs": [
    {
     "name": "stdout",
     "output_type": "stream",
     "text": [
      "Question: What is todays weather in USA\n",
      "Response: Topic='USA' Reasoning=\"The query explicitly mentions 'USA' and asks about the weather within that country, making it directly related to the USA category.\"\n"
     ]
    },
    {
     "data": {
      "text/plain": [
       "{'message': ['USA']}"
      ]
     },
     "execution_count": 15,
     "metadata": {},
     "output_type": "execute_result"
    }
   ],
   "source": [
    "state = {\"message\": [\"What is todays weather in USA\"]}\n",
    "supervisor(state)"
   ]
  },
  {
   "cell_type": "code",
   "execution_count": 16,
   "metadata": {},
   "outputs": [],
   "source": [
    "def router(state:AgentState):\n",
    "    print(\" -> ROUTER -> \")\n",
    "    last_message = state[\"message\"][-1]\n",
    "    print(\"Message:\", last_message)\n",
    "\n",
    "    if \"USA\" in last_message:\n",
    "        print(\"USA detected, routing to function1\")\n",
    "        return \"RAG CALL\"\n",
    "    else:\n",
    "        print(\"No USA detected, returning empty response\")\n",
    "        return \"LLM CALL\""
   ]
  },
  {
   "cell_type": "code",
   "execution_count": 18,
   "metadata": {},
   "outputs": [],
   "source": [
    "# RAG call\n",
    "from langchain_core.output_parsers import StrOutputParser\n",
    "from langchain_core.runnables import RunnablePassthrough\n",
    "\n",
    "def format_docs(docs):\n",
    "    return \"\\n\\n\".join(doc.page_content for doc in docs)\n",
    "\n",
    "def rag_call(state: AgentState):\n",
    "    print(\" -> RAG CALL -> \")\n",
    "    question = state[\"message\"][0]\n",
    "    print(\"Question:\", question)\n",
    "    prompt = PromptTemplate(\n",
    "        template=\"\"\"\n",
    "        You are an assistant for question-answering tasks. Use the following pieces of retrieved context to answer the question.\n",
    "        If you don't know the answer, just say that you don't know. Use three sentences maximum and keep the answer concise.\n",
    "        Question: {question} \n",
    "        context: {context}\n",
    "        Answer: \"\"\",        \n",
    "        input_variables=[\"context\", \"question\"]\n",
    "    )\n",
    "\n",
    "    rag_chain = (\n",
    "        {\"context\": retriever | format_docs, \"question\": RunnablePassthrough()}\n",
    "        | prompt \n",
    "        | llm_groq\n",
    "        | StrOutputParser()\n",
    "    )\n",
    "    result = rag_chain.invoke(question)\n",
    "    return {\"message\": [result]}"
   ]
  },
  {
   "cell_type": "code",
   "execution_count": 19,
   "metadata": {},
   "outputs": [
    {
     "name": "stdout",
     "output_type": "stream",
     "text": [
      " -> RAG CALL -> \n",
      "Question: What is todays weather in USA\n"
     ]
    },
    {
     "data": {
      "text/plain": [
       "{'message': [\"\\n<think>\\nOkay, the user is asking about today's weather in the USA. Let me check the provided context. Hmm, looking through the information given, it's all about the U.S. economy, structural issues, GDP, global role, etc. There's no mention of weather at all. The contexts are from 2024 but focus on economic data, not current weather conditions. Since the question is about today's weather and the contexts don't provide any relevant info, I can't answer that. I should inform the user that I don't have access to real-time weather data.\\n</think>\\n\\nI don't have access to real-time weather data. The provided context only discusses the U.S. economy, structural challenges, and global economic standing, not current weather conditions. Please check a weather service or app for up-to-date information.\"]}"
      ]
     },
     "execution_count": 19,
     "metadata": {},
     "output_type": "execute_result"
    }
   ],
   "source": [
    "state = {\"message\": [\"What is todays weather in USA\"]}\n",
    "rag_call(state)"
   ]
  },
  {
   "cell_type": "code",
   "execution_count": 20,
   "metadata": {},
   "outputs": [],
   "source": [
    "# LLM call\n",
    "def llm_call(state: AgentState):\n",
    "    print(\" -> LLM CALL -> \")\n",
    "    question = state[\"message\"][0]\n",
    "    print(\"Question:\", question)\n",
    "    # Normal LLM call\n",
    "    complete_query = \"Answer the follow question with your knowledge of the real world. Followings is the user question: \" + question\n",
    "    response = llm_groq.invoke(complete_query)\n",
    "    return {\"message\": [response.content]}"
   ]
  },
  {
   "cell_type": "code",
   "execution_count": 21,
   "metadata": {},
   "outputs": [
    {
     "name": "stdout",
     "output_type": "stream",
     "text": [
      " -> LLM CALL -> \n",
      "Question: what is blackhole?\n"
     ]
    },
    {
     "data": {
      "text/plain": [
       "{'message': ['\\n<think>\\nOkay, so the user is asking, \"What is a black hole?\" I need to explain this clearly and simply. Let me start by recalling what I know about black holes. \\n\\nFirst, black holes are regions in space where gravity is so strong that nothing can escape, not even light. That\\'s why they\\'re called \"black\" because they don\\'t emit light. But how do they form? I think they come from the remnants of massive stars after a supernova explosion. When a huge star dies, its core collapses under gravity, and if it\\'s massive enough, it becomes a black hole.\\n\\nWait, there\\'s also something about the event horizon. That\\'s the boundary around a black hole beyond which nothing can escape. The point at the center is the singularity, which is a point of infinite density. But maybe I should mention that the density is so high because all the mass is compressed into an incredibly small space.\\n\\nHmm, maybe I should mention different types of black holes. Like stellar-mass black holes from stars, and then supermassive ones at the centers of galaxies. Oh, and there\\'s also intermediate-mass ones, but maybe that\\'s too detailed. The user might be looking for the basics.\\n\\nWhat about the effects around a black hole? Like how they affect nearby matter, causing accretion disks and jets. Also, the concept of spaghettification if something gets too close. But maybe that\\'s getting a bit too technical.\\n\\nGravitational pull is key here. The stronger the mass and the smaller the radius, the stronger the gravity. The escape velocity exceeds the speed of light at the event horizon. Oh, and event horizon is the point of no return.\\n\\nI should also mention that even though black holes can\\'t be seen directly, we detect them through their effects on surrounding stars and gas, like how objects orbit around something invisible, or the X-rays emitted from infalling material.\\n\\nWait, what about Hawking radiation? That\\'s quantum effects allowing black holes to emit radiation and slowly evaporate. But maybe that\\'s a more advanced topic. The user might not need that unless they ask further.\\n\\nSo putting it all together: a black hole is a region in space with extreme gravity from a massive object compressed to a point, surrounded by an event horizon. They form from collapsing stars, and we detect them via their gravitational effects and radiation from nearby material.\\n\\nI should check if there are any common misconceptions to address. Like, they don\\'t \"suck\" things in like a vacuum, but objects can orbit them until they get too close. Also, they aren\\'t cosmic vacuum cleaners. Their gravity is strong, but only if you get within the event horizon.\\n\\nMaybe mention the first image of a black hole\\'s event horizon from the Event Horizon Telescope, like the one in M87. That\\'s a recent example of evidence.\\n\\nOkay, I think that covers the main points: definition, formation, components (event horizon, singularity), types, detection methods, and maybe a bit about their effects on surroundings. Let me structure this in a clear, concise way without getting too technical.\\n</think>\\n\\nA black hole is a region in space where the gravitational pull is so strong that nothing, not even light, can escape once it crosses a boundary called the **event horizon**. Here\\'s a detailed breakdown:\\n\\n### Key Features:\\n1. **Formation**: \\n   - **Stellar black holes** form when massive stars (typically over 20 times the Sun’s mass) collapse under their own gravity after exhausting their nuclear fuel, leading to a supernova explosion.\\n   - **Supermassive black holes** (millions to billions of solar masses) reside at the centers of most galaxies, including the Milky Way. Their origins are still studied, but they likely form from merging smaller black holes or dense gas clouds in the early universe.\\n\\n2. **Structure**:\\n   - **Event Horizon**: The \"point of no return.\" Once anything (matter, light) crosses this boundary, it cannot escape the black hole’s gravity.\\n   - **Singularity**: At the center, all the mass is crushed into an infinitely dense point of zero volume, where known physics breaks down.\\n\\n3. **Gravity**:\\n   - The extreme gravity arises because a massive object is compressed into an extremely small space. The escape velocity at the event horizon exceeds the speed of light.\\n\\n4. **Detection**:\\n   - Black holes themselves are invisible, but we observe them through:\\n     - **Gravitational effects**: Stars orbiting an invisible massive object (e.g., Sagittarius A*, the supermassive black hole at the Milky Way’s center).\\n     - **Accretion disks**: Infalling gas heats up to millions of degrees, emitting X-rays and visible light.\\n     - **Jets and radiation**: High-energy particles accelerated near the black hole create visible jets.\\n     - **Imaging**: The Event Horizon Telescope captured the first image of a black hole’s shadow (M87* in 2019), confirming the existence of event horizons.\\n\\n5. **Misconceptions**:\\n   - Black holes don’t \"suck\" things in like a vacuum cleaner. Objects can orbit safely far away but are torn apart if they cross the event horizon (a process called **spaghettification** due to extreme tidal forces).\\n   - They don’t \"grow\" indiscriminately; their mass depends on the material they capture.\\n\\n### Types:\\n- **Stellar-mass black holes** (10–100 solar masses): From collapsing stars.\\n- **Intermediate-mass black holes** (100–100,000 solar masses): Rare and less understood.\\n- **Supermassive black holes**: Found at galactic centers.\\n\\nBlack holes play a critical role in galaxy evolution, influencing star formation and cosmic structure, despite their exotic nature.']}"
      ]
     },
     "execution_count": 21,
     "metadata": {},
     "output_type": "execute_result"
    }
   ],
   "source": [
    "state = {\"message\": [\"what is blackhole?\"]}\n",
    "llm_call(state)"
   ]
  },
  {
   "cell_type": "code",
   "execution_count": 23,
   "metadata": {},
   "outputs": [
    {
     "data": {
      "image/png": "[encoded data removed]",
      "text/plain": [
       "<langgraph.graph.state.CompiledStateGraph object at 0x39347a090>"
      ]
     },
     "execution_count": 23,
     "metadata": {},
     "output_type": "execute_result"
    }
   ],
   "source": [
    "from langgraph.graph import StateGraph, START, END\n",
    "\n",
    "workflow = StateGraph(AgentState)\n",
    "workflow.add_node(\"Supervisor\", supervisor)\n",
    "workflow.add_node(\"RAG\", rag_call)\n",
    "workflow.add_node(\"LLM\", llm_call)\n",
    "\n",
    "workflow.set_entry_point(\"Supervisor\")\n",
    "workflow.add_conditional_edges(\"Supervisor\", \n",
    "                               router, \n",
    "                               {\n",
    "                                   \"RAG CALL\": \"RAG\",\n",
    "                                   \"LLM CALL\": \"LLM\"\n",
    "                               }\n",
    "                               )\n",
    "workflow.add_edge(\"LLM\", END)\n",
    "workflow.add_edge(\"RAG\", END)\n",
    "app = workflow.compile()\n",
    "app.get_graph()\n",
    "app"
   ]
  },
  {
   "cell_type": "code",
   "execution_count": 24,
   "metadata": {},
   "outputs": [
    {
     "name": "stdout",
     "output_type": "stream",
     "text": [
      "Question: can you tell me about india\n",
      "Response: Topic='Not Related' Reasoning=\"The user query specifically mentions 'India', which is a different country from the USA, hence not related.\"\n",
      " -> ROUTER -> \n",
      "Message: Not Related\n",
      "No USA detected, returning empty response\n",
      " -> LLM CALL -> \n",
      "Question: can you tell me about india\n"
     ]
    },
    {
     "data": {
      "text/plain": [
       "'\\n<think>\\nOkay, the user is asking me to tell them about India. I need to cover various aspects to give a comprehensive overview. Let me start by thinking about India\\'s key points. \\n\\nFirst, the basic facts: India is a country in South Asia, the seventh-largest by area and second-most populous. It\\'s the world\\'s most populous democracy. I should mention its name in Hindi, Bharat, and other regional languages. \\n\\nGeography: The country has diverse landscapes like the Himalayas in the north, the Thar Desert, the Ganges river system, and the Indian Ocean coastline. Maybe touch on the different climate zones, like tropical monsoon, which brings the monsoons.\\n\\nCulture and history: Ancient civilizations like the Indus Valley, Vedic period, Mughal era, British colonial period, and independence in 1947. The cultural diversity with numerous languages, religions, festivals like Diwali and Holi, and traditional practices.\\n\\nGovernment and politics: It\\'s a federal parliamentary democratic republic with a president as the head of state and a prime minister as the head of government. The Constitution is the longest written one. Recent political developments or current leaders might be relevant, but maybe keep it general unless the user asks for specifics.\\n\\nEconomy: Emerging market, large workforce, IT and outsourcing sectors, agricultural base, and growing industries like automotive and pharmaceuticals. Economic reforms since the 1990s. Current economic situation or challenges like poverty and inequality could be mentioned.\\n\\nDemographics: Over 1.4 billion people, official languages Hindi and English, many other regional languages. Major religions include Hinduism, Islam, Christianity, Sikhism, Buddhism, and others. Diversity in cuisine, which is also a notable aspect.\\n\\nSociety and culture: Highlight festivals, traditional clothing like sarees and kurtas, Bollywood cinema, cricket as a popular sport. Maybe mention yoga and its international recognition.\\n\\nEnvironmental issues: Pollution in cities like Delhi, deforestation, conservation efforts like the tiger reserves. Climate change impacts on agriculture.\\n\\nContemporary issues: Recent events, social issues like caste system, gender equality, technological advancements in IT and space, like the Chandrayaan mission.\\n\\nI should structure this information into sections so it\\'s organized. Make sure to present it in a clear, concise manner without overwhelming details. Check for any inaccuracies, like exact population numbers, but since the user didn\\'t ask for the most recent stats, approximate figures should be okay.\\n\\nLet me also think about what a user might be interested in learning. They might want to know about the cultural aspects, the size and diversity, maybe some historical highlights, and current socio-economic conditions. Avoid overly technical terms to keep it accessible. Need to ensure that the information is up-to-date, but since I can\\'t browse the internet, rely on existing knowledge as of 2023.\\n\\nWait, when mentioning religions, I should note that Hinduism is the majority but emphasize the secular constitution. Also, mention the concept of unity in diversity. Maybe mention that India is the birthplace of religions like Buddhism and Jainism.\\n\\nPolitical structure: The structure with states and union territories. Mention the Supreme Court and the judiciary. Maybe note the recent political developments, but since the user didn\\'t ask for the latest updates, perhaps avoid anything too time-sensitive unless it\\'s a major event.\\n\\nEconomy: GDP growth, challenges like poverty, urban-rural divide. Maybe mention the startup ecosystem and IT industry\\'s role in the economy.\\n\\nEducation: The education system, institutions like IITs and IIMs, literacy rate.\\n\\nI should also think about any misconceptions to clarify, like India\\'s current political status (not a colony anymore), its nuclear capabilities, or its role in international organizations.\\n\\nAlright, putting it all together in a coherent way. Start with an introduction, then geography, history, government, economy, demographics, culture, and modern context. Keep each section brief but informative. Make sure to highlight key points and not get too bogged down in details unless necessary.\\n</think>\\n\\nIndia, officially the Republic of India, is a country in South Asia that occupies much of the Indian subcontinent. Here\\'s an overview of its key aspects:\\n\\n### **Geography**\\n- **Location & Size**: It is the seventh-largest country by area (3.28 million km²) and the second-most populous with over 1.4 billion people (2023 estimates). \\n- **Diverse Landscapes**: Ranges from the Himalayas in the north, the Thar Desert in the west, the Deccan Plateau in the south, and the Ganges-Brahmaputra plains in the east. The Indian Ocean borders its southern coast.\\n- **Climate**: Predominantly tropical monsoon climate with distinct seasons: hot summers, rainy monsoons, and mild winters.\\n\\n### **History**\\n- **Ancient Civilizations**: Home to the Indus Valley Civilization (3300–1300 BCE) and the Vedic period, which laid the foundations of Hinduism. The Maurya Empire (322–185 BCE) and the Mughal Empire (1526–1857) were pivotal.\\n- **Colonial & Independence**: British colonial rule lasted from the 18th–20th centuries. India gained independence on August 15, 1947, after a non-violent freedom struggle led by figures like Mahatma Gandhi. It became a republic on January 26, 1950.\\n\\n### **Government & Politics**\\n- **Political System**: A federal parliamentary democratic republic with the President as the ceremonial head of state and the Prime Minister as the head of government. The legislature is bicameral (Lok Sabha and Rajya Sabha).\\n- **Constitution**: The world\\'s longest written constitution (1950), emphasizing secularism, democracy, and social justice. India has 28 states and 8 union territories.\\n\\n### **Economy**\\n- **Economic Overview**: The sixth-largest economy by nominal GDP and third-largest by purchasing power parity (PPP). It’s a fast-growing emerging market (over 7% annual growth rate).\\n- **Key Sectors**: Agriculture (employs ~42% of the workforce), IT and outsourcing (a global leader), manufacturing (automobiles, pharmaceuticals), and a growing service sector. The \"Make in India\" initiative promotes manufacturing competitiveness.\\n- **Challenges**: Poverty, income inequality, and infrastructure gaps, though progress has been made in recent years.\\n\\n### **Demographics**\\n- **Languages**: Over 1,600 languages/dialects, with Hindi and English as official languages. Recognized major languages include Bengali, Telugu, Tamil, Urdu, and others.\\n- **Religions**: A secular state with religious diversity: Hindu majority (79.8%), plus Muslims (14.2%), Christians (2.3%), Sikhs (1.7%), Buddhists, Jains, and others. It is the birthplace of Hinduism, Buddhism, Jainism, and Sikhism.\\n- **Cultural Diversity**: Celebrates festivals like Diwali, Holi, Eid, and Christmas. Diverse cuisines, music, dance (e.g., Kathak, Bharatanatyam), and art reflect its multicultural heritage.\\n\\n### **Culture & Society**\\n- **Unity in Diversity**: The national motto, \"Unity in Diversity,\" encapsulates its blend of traditions. Traditional attire includes sarees, lehengas, and dhotis for women, and kurta-pajama or sherwani for men.\\n- **Media & Arts**: Bollywood (Hindi cinema) is globally influential. Classical music (Hindustani/Carnatic) and regional films (Tamil, Bengali, etc.) thrive. Yoga, recognized as part of its cultural heritage, is practiced worldwide.\\n\\n### **Modern Context**\\n- **Technology & Space**: A leader in IT, with cities like Bangalore as tech hubs. The Indian Space Research Organisation (ISRO) has achieved missions like Chandrayaan (moon exploration) and cost-effective satellite launches.\\n- **Social Issues**: Ongoing efforts to address caste discrimination, gender inequality, and environmental challenges (e.g., air pollution in Delhi, deforestation).\\n- **Sports**: Cricket is the most popular sport, but field hockey is the national game. India has athletes in Olympics, and the Kho Kho and Kabaddi are traditional games.\\n\\n### **Environmental Concerns**\\n- **Challenges**: Urban pollution, deforestation, and biodiversity loss. Initiatives like the \"Clean India Mission\" (Swachh Bharat) and wildlife conservation efforts (e.g., Project Tiger) are underway.\\n\\n### **International Relations**\\n- **Global Role**: A nuclear-armed state (since 1974), and a member of the UN Security Council (non-permanent). Part of G20 and BRICS, it plays a key role in regional organizations like SAARC.\\n\\nIndia’s blend of ancient traditions and modern development, combined with its vibrant democracy and cultural richness, makes it a complex yet fascinating nation. Its journey of balancing progress with its diverse heritage continues to shape its global identity.'"
      ]
     },
     "execution_count": 24,
     "metadata": {},
     "output_type": "execute_result"
    }
   ],
   "source": [
    "state = {\"message\": [\"can you tell me about india\"]}\n",
    "result = app.invoke(state)\n",
    "result[\"message\"][-1]"
   ]
  },
  {
   "cell_type": "code",
   "execution_count": 27,
   "metadata": {},
   "outputs": [
    {
     "name": "stdout",
     "output_type": "stream",
     "text": [
      "Question: can you tell me about india\n",
      "Response: Topic='Not Related' Reasoning='The user query asks about India, which is not the USA. Therefore, it is unrelated to the USA category.'\n",
      " -> ROUTER -> \n",
      "Message: Not Related\n",
      "No USA detected, returning empty response\n",
      "Output: {'Supervisor': {'message': ['Not Related']}}\n",
      " -> LLM CALL -> \n",
      "Question: can you tell me about india\n",
      "Output: {'LLM': {'message': ['\\n<think>\\nOkay, the user is asking me to tell them about India. I need to provide a comprehensive overview, but not too detailed. Let me start by thinking about the main aspects of India. Geography, history, culture, economy, maybe some key facts.\\n\\nFirst, India\\'s full name is the Republic of India. It\\'s located in South Asia. I should mention its neighboring countries: Pakistan, China, Nepal, Bhutan, Bangladesh, Afghanistan maybe? Wait, Afghanistan is a bit farther north, maybe not directly bordering. Let me confirm that. Yes, India\\'s borders are with Pakistan to the west, China, Nepal, Bhutan in the north, and Bangladesh and Myanmar in the east. The Indian Ocean is to the south. Its capital is New Delhi. The population is over 1.4 billion, making it the second-most populous country after China.\\n\\nGeographically, India has diverse landscapes. The Himalayas in the north, the Thar Desert in the west, the Indo-Gangetic Plain, the Deccan Plateau, and the Western and Eastern Ghats mountain ranges. Major rivers like the Ganges, Yamuna, Godavari, and Brahmaputra are important for agriculture and culture.\\n\\nHistory-wise, India has an ancient civilization, the Indus Valley, around 3300–1300 BCE. Then came the Vedic period, followed by various dynasties like the Maurya (Ashoka), Mughals, and the British colonial period starting in the 18th century. India gained independence on August 15, 1947, after a long struggle led by Mahatma Gandhi and others. The partition from Pakistan was a significant event with much migration and violence.\\n\\nGovernment: It\\'s a federal parliamentary democratic republic with 28 states and 8 union territories. The President is the head of state, and the Prime Minister is the head of government. The constitution was adopted in 1950, making it the world\\'s longest written constitution.\\n\\nCulture: Diverse languages, religions, and traditions. Hindi is the official language, but there are many others like Bengali, Tamil, Urdu. English is widely used in government and education. Over 22 official languages. Religiously, Hinduism is the majority, but there\\'s Islam, Christianity, Sikhism, Buddhism, Jainism. Festivals like Diwali, Holi, Eid, and others.\\n\\nEconomy: The 5th or 6th largest by nominal GDP, and 3rd by purchasing power parity. It\\'s a developing country with a large agricultural sector, but also a growing IT sector, automotive industry, and services. The stock exchange in Mumbai is significant. India is the largest democracy, so that\\'s a key point.\\n\\nMilitary: One of the largest militaries, with the Indian Armed Forces. They have nuclear weapons since the 1974 test, and conducted a nuclear test in 1998.\\n\\nDemographics: High population density, which leads to urbanization issues in cities like Mumbai, Delhi, Bangalore. The caste system still influences society, though it\\'s officially abolished. Issues like poverty, gender inequality, and social stratification persist.\\n\\nCuisine: Diverse, varies regionally. Spices are important, dishes like curry, biryani, dosa, and chai. Varieties of vegetarian and non-vegetarian dishes. Street food is popular.\\n\\nScience and technology: ISRO, the space agency, has done notable work like the Mars Orbiter Mission on a budget. IT industry is booming, with companies like Tata Consultancy Services, Infosys. Education system includes prestigious institutions like IITs and IIMs.\\n\\nSports: Cricket is the most popular, followed by hockey (national sport), and others like badminton, field hockey, and kabaddi. The Indian Premier League (IPL) is a major cricket event.\\n\\nTourism: Places like Taj Mahal, Himalayas, backwaters of Kerala, historical sites like Ajanta and Ellora caves, and modern cities. Tourism is a growing industry.\\n\\nEnvironmental issues: Air pollution, especially in cities, deforestation, and climate change impacts. Initiatives like the Clean India Mission (Swachh Bharat) and renewable energy projects.\\n\\nPolitical structure: Federal system with states and union territories. The judiciary includes the Supreme Court. Political parties include the BJP, Congress, and others.\\n\\nI should structure this into sections for clarity. Make sure to highlight key points without getting too bogged down in details. Also, mention recent developments, like India\\'s space missions or economic progress. Maybe touch on cultural aspects to give a well-rounded view. Need to check if all the info is up to date, like current GDP rankings. Also, clarify that India is a secular country despite being home to many religions.\\n\\nWait, the user is asking for an overview, so maybe start with location, size, population, history, government, culture, economy, and key facts. Avoid inaccuracies, like the exact dates of independence. August 15, 1947. Partition with Pakistan. Also, mention the diversity in languages and religions to emphasize cultural richness.\\n\\nI should also mention that English is an associate official language. National emblem, the Ashoka Chakra, the national animal (tiger), bird (peacock), etc. Maybe touch on some achievements in IT and outsourcing.\\n\\nCheck if there\\'s anything else important. Maybe the recent economic reforms, like the Goods and Services Tax (GST) implementation. Also, the population growth, maybe current stats as of 2023? The 2023 population estimate is around 1.42 billion. The literacy rate is around 74%, but varies by region. Literacy initiatives like Saakshar Bharat.\\n\\nAlso, maybe mention some famous Indian leaders besides Gandhi, like Jawaharlal Nehru, Indira Gandhi, current Prime Minister Narendra Modi. But since the question is general, maybe just a mention of political structure.\\n\\nEnvironment: Biodiversity, wildlife sanctuaries, national parks like Kaziranga for rhinos, Sunderbans for tigers. Environmental concerns like pollution, but also conservation efforts.\\n\\nCultural aspects like cinema (Bollywood), classical music and dances (Bharatanatyam, Kathak), traditional festivals. The concept of unity in diversity is a key theme.\\n\\nNeed to present this in a coherent way without making it too list-like. Use paragraphs to cover each section. Make sure the information is accurate and not outdated. Also, check if any regions or states have changed, but the current count is 28 states and 8 UTs.\\n\\nEconomy: Agriculture, services, and manufacturing. IT services are a major export. Also, automotive manufacturing, like Maruti, Tata Motors. The textile industry is significant too.\\n\\nSocial issues: Caste system\\'s lingering effects, women\\'s empowerment, education challenges. Infrastructure development, like the Delhi Metro, high-speed trains, etc.\\n\\nPolitical parties: Major ones, maybe mention coalition governments. The role of the Supreme Court in the judiciary.\\n\\nI should structure it into sections under headings, but since the user wants a paragraph, maybe summarize each section concisely. Need to be concise yet informative. Avoid jargon. Make sure to highlight India\\'s size, diversity, rich heritage, and current status as a growing economy.\\n</think>\\n\\nIndia, officially the **Republic of India**, is a country in South Asia, occupying much of the Indian subcontinent. It is the **7th largest by area** (3.28 million km²) and the **2nd most populous**, with over **1.42 billion people** (as of 2023), making it the world\\'s most populous democracy. Its capital is New Delhi, and its major languages include **Hindi** (official), **English** (associate official), and 22 other recognized languages. \\n\\n### **Geography & Environment**  \\nIndia is geographically diverse, featuring the **Himalayas** in the north, the **Thar Desert** in the west, the **Deccan Plateau**, the **Indo-Gangetic Plain**, and tropical rainforests. Major rivers like the **Ganges** and **Yamuna** are culturally and economically vital. It is home to rich biodiversity, with national parks like **Kaziranga** (rhinos) and **Sunderbans** (tigers). Environmental challenges include air pollution, deforestation, and climate change.\\n\\n### **History**  \\n- **Ancient**: The Indus Valley Civilization (c. 3300–1300 BCE) was one of the world\\'s earliest urban cultures.  \\n- **Medieval**: Dynasties like the Mauryans (under Ashoka) and Mughals shaped its history.  \\n- **Colonial**: British rule began in the 18th century; independence was achieved on **August 15, 1947**, after a nonviolent movement led by figures like **Mahatma Gandhi** and Jawaharlal Nehru. The partition from Pakistan led to the creation of two nations, causing mass migration.  \\n- **Modern**: India is a secular republic, adopting its **constitution in 1950**, and is governed as a **federal parliamentary democracy** with 28 states and 8 union territories.\\n\\n### **Culture & Society**  \\n- **Religions**: A pluralistic society with Hinduism (majority), Islam, Christianity, Sikhism, Buddhism, Jainism, and others.  \\n- **Festivals**: Diwali, Holi, Eid, and Dusshera celebrate cultural and religious diversity.  \\n- **Arts & Literature**: Rich traditions in classical music, dance (e.g., Bharatanatyam), and cinema (notably Bollywood, the world\\'s largest film industry by volume).  \\n- **Social Issues**: Despite progress, challenges like the lingering caste system, gender inequality, and poverty persist.\\n\\n### **Economy**  \\nThe **5th-largest economy by nominal GDP** (and 3rd by PPP) in 2023, India is transitioning from agriculture to a service-driven economy. Key sectors include **information technology** (outsourcing hub), automotive manufacturing, textiles, and agriculture. The **\"Make in India\"** campaign promotes industrial growth, and its space agency, **ISRO**, has achieved notable successes, including cost-effective Mars missions. Challenges include urbanization, rural-urban disparities, and infrastructure expansion.\\n\\n### **Government**  \\nA federal republic with a parliamentary system, India\\'s head of state is the **President**, and the head of government is the **Prime Minister** (currently Narendra Modi). The judiciary includes the **Supreme Court**, and its political landscape features major parties like the **Bharatiya Janata Party (BJP)** and **Indian National Congress**.\\n\\n### **Demographics**  \\n- **Languages**: Over 1,600 languages, with 22 officially recognized.  \\n- **Lifestyle**: A mix of traditional and modern, with strong family structures and evolving gender roles. Urban areas like Mumbai, Delhi, and Bengaluru are hubs of innovation.  \\n- **Literacy**: ~74%, with initiatives like **\"Digital India\"** aiming to boost access to technology and education.\\n\\n### **Global Role**  \\nIndia is a nuclear-armed state (tested in 1998) and a member of the **BRICS**, **G20**, and **UN Security Council (non-permanent member)**. It faces geopolitical tensions with Pakistan and China, and its \"Look East\" policy emphasizes regional cooperation.\\n\\n### **Tourism & Heritage**  \\nUNESCO World Heritage Sites include the **Taj Mahal**, Ajanta & Ellora Caves, and the Himalayas. The **\"Incredible India\"** campaign promotes tourism, which contributes significantly to its economy.\\n\\n### **Key Achievements**  \\n- **Space Program**: ISRO’s cost-effective missions, including the Chandrayaan lunar missions.  \\n- **Technology**: A global IT leader with companies like Infosys and Tata Consultancy Services.  \\n- **Cultural Influence**: Yoga, ayurveda, and Indian cuisine (e.g., spices, curries, street foods) have global appeal.\\n\\nIndia’s blend of ancient traditions and modern aspirations makes it a dynamic nation balancing rapid development with cultural continuity. Its demographic dividend and tech prowess position it as a rising global power, though challenges like poverty, education gaps, and environmental concerns persist.']}}\n"
     ]
    }
   ],
   "source": [
    "for output in app.stream(state):\n",
    "    print(\"Output:\", output)"
   ]
  }
 ],
 "metadata": {
  "kernelspec": {
   "display_name": ".venv",
   "language": "python",
   "name": "python3"
  },
  "language_info": {
   "codemirror_mode": {
    "name": "ipython",
    "version": 3
   },
   "file_extension": ".py",
   "mimetype": "text/x-python",
   "name": "python",
   "nbconvert_exporter": "python",
   "pygments_lexer": "ipython3",
   "version": "3.11.13"
  }
 },
 "nbformat": 4,
 "nbformat_minor": 2
}
