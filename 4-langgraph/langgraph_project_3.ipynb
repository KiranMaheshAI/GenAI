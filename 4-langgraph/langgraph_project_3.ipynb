{
 "cells": [
  {
   "cell_type": "markdown",
   "metadata": {},
   "source": [
    "### LangGraph With Tool and Memory"
   ]
  },
  {
   "cell_type": "code",
   "execution_count": 1,
   "metadata": {},
   "outputs": [
    {
     "name": "stdout",
     "output_type": "stream",
     "text": [
      "<think>\n",
      "\n",
      "</think>\n",
      "\n",
      "The capital of India is New Delhi.\n"
     ]
    }
   ],
   "source": [
    "# Groq Call\n",
    "from langchain_groq import ChatGroq\n",
    "\n",
    "model = \"deepseek-r1-distill-llama-70b\"\n",
    "deepseek_llm=ChatGroq(model_name=model)\n",
    "response = deepseek_llm.invoke(\"What is the capital of India?\")\n",
    "print(response.content)"
   ]
  },
  {
   "cell_type": "code",
   "execution_count": 2,
   "metadata": {},
   "outputs": [
    {
     "data": {
      "text/plain": [
       "{'messages': ['What is the capital of india?',\n",
       "  AIMessage(content=\"<think>\\nOkay, so I need to figure out the capital of India. Hmm, I remember learning a bit about countries and their capitals before, but I'm not entirely sure about India's. Let me think. I know some big cities in India like Mumbai and Bangalore. I think Mumbai is a major financial hub, and Bangalore is known for its tech industry. But those aren't capitals, I believe.\\n\\nWait, I've heard the name Delhi before. I think Delhi is the capital, but I'm not 100% certain. Let me try to recall any other clues. I remember that India is a country in South Asia, and it's a republic. The capital city is where the central government is located. I think Delhi is a union territory, not just a city, which might be a clue. Also, I've heard of New Delhi, which might be the specific part of Delhi that serves as the capital.\\n\\nIs there any other city that could be the capital? Maybe Kolkata or Chennai? No, I think those are more cultural or economic centers but not the capital. I'm pretty sure it's Delhi, but to confirm, I can think about the government buildings. The President of India resides in Delhi, right? And the Parliament is there too. Yeah, that makes sense because the capital is where the government is centered.\\n\\nI might be mixing up some facts, though. Sometimes countries have their capitals in less well-known cities, but in India's case, I think Delhi is well-known enough as the capital. Plus, I've heard about the India Gate in Delhi, which is a war memorial and a significant landmark. That would be in the capital city. So putting it all together, I'm fairly confident that the capital of India is Delhi, specifically New Delhi.\\n</think>\\n\\nThe capital of India is New Delhi. It is located within the National Capital Territory of Delhi and serves as the administrative center, housing key government institutions such as the Parliament and the President's residence.\", additional_kwargs={}, response_metadata={'token_usage': {'completion_tokens': 403, 'prompt_tokens': 10, 'total_tokens': 413, 'completion_time': 2.566443293, 'prompt_time': 0.000221068, 'queue_time': 0.06464867199999999, 'total_time': 2.566664361}, 'model_name': 'deepseek-r1-distill-llama-70b', 'system_fingerprint': 'fp_76307ac09b', 'finish_reason': 'stop', 'logprobs': None}, id='run--57b10b7a-355f-4366-b8dd-562edec128af-0', usage_metadata={'input_tokens': 10, 'output_tokens': 403, 'total_tokens': 413})]}"
      ]
     },
     "execution_count": 2,
     "metadata": {},
     "output_type": "execute_result"
    }
   ],
   "source": [
    "# Call Groq Model\n",
    "from langgraph.graph import StateGraph, MessagesState, START, END\n",
    "\n",
    "def call_model(state: MessagesState):\n",
    "    response = deepseek_llm.invoke(state[\"messages\"])\n",
    "    state[\"messages\"].append(response)\n",
    "    return state\n",
    "\n",
    "call_model(state={\"messages\": [\"What is the capital of india?\"]})"
   ]
  },
  {
   "cell_type": "code",
   "execution_count": 3,
   "metadata": {},
   "outputs": [
    {
     "data": {
      "text/plain": [
       "StructuredTool(name='search', description='this is the custom tool for searching the weather', args_schema=<class 'langchain_core.utils.pydantic.search'>, func=<function search at 0x119b84040>)"
      ]
     },
     "execution_count": 3,
     "metadata": {},
     "output_type": "execute_result"
    }
   ],
   "source": [
    "from langchain_core.tools import tool\n",
    "\n",
    "@tool\n",
    "def search(query: str):\n",
    "    \"\"\" this is the custom tool for searching the weather\"\"\"\n",
    "    if \"delhi\" in query.lower():\n",
    "        return \"the temp is 45 degrees and sunny\"\n",
    "    else :\n",
    "        return \"the temp is 20 degrees and cloudy\"\n",
    "search"
   ]
  },
  {
   "cell_type": "code",
   "execution_count": 4,
   "metadata": {},
   "outputs": [
    {
     "data": {
      "text/plain": [
       "'the temp is 45 degrees and sunny'"
      ]
     },
     "execution_count": 4,
     "metadata": {},
     "output_type": "execute_result"
    }
   ],
   "source": [
    "search.invoke(\"What is the weather in delhi ?\")"
   ]
  },
  {
   "cell_type": "code",
   "execution_count": 5,
   "metadata": {},
   "outputs": [],
   "source": [
    "tools=[search]\n",
    "llm_with_tools = deepseek_llm.bind_tools(tools)"
   ]
  },
  {
   "cell_type": "code",
   "execution_count": 6,
   "metadata": {},
   "outputs": [
    {
     "data": {
      "text/plain": [
       "AIMessage(content='', additional_kwargs={'tool_calls': [{'id': '664f5g21x', 'function': {'arguments': '{\"query\":\"weather in Delhi\"}', 'name': 'search'}, 'type': 'function'}]}, response_metadata={'token_usage': {'completion_tokens': 97, 'prompt_tokens': 133, 'total_tokens': 230, 'completion_time': 0.425587879, 'prompt_time': 0.015087037, 'queue_time': 0.053818373, 'total_time': 0.440674916}, 'model_name': 'deepseek-r1-distill-llama-70b', 'system_fingerprint': 'fp_76307ac09b', 'finish_reason': 'tool_calls', 'logprobs': None}, id='run--98b4ff73-dc30-4ee4-9208-0f3de7be8435-0', tool_calls=[{'name': 'search', 'args': {'query': 'weather in Delhi'}, 'id': '664f5g21x', 'type': 'tool_call'}], usage_metadata={'input_tokens': 133, 'output_tokens': 97, 'total_tokens': 230})"
      ]
     },
     "execution_count": 6,
     "metadata": {},
     "output_type": "execute_result"
    }
   ],
   "source": [
    "response = llm_with_tools.invoke(\"What is the weather in delhi?\")\n",
    "response"
   ]
  },
  {
   "cell_type": "code",
   "execution_count": 7,
   "metadata": {},
   "outputs": [
    {
     "data": {
      "text/plain": [
       "[{'name': 'search',\n",
       "  'args': {'query': 'weather in Delhi'},\n",
       "  'id': '664f5g21x',\n",
       "  'type': 'tool_call'}]"
      ]
     },
     "execution_count": 7,
     "metadata": {},
     "output_type": "execute_result"
    }
   ],
   "source": [
    "response.tool_calls"
   ]
  },
  {
   "cell_type": "code",
   "execution_count": 9,
   "metadata": {},
   "outputs": [
    {
     "data": {
      "text/plain": [
       "{'messages': [AIMessage(content='', additional_kwargs={'tool_calls': [{'id': '21aam3fxx', 'function': {'arguments': '{\"query\":\"delhi\"}', 'name': 'search'}, 'type': 'function'}]}, response_metadata={'token_usage': {'completion_tokens': 62, 'prompt_tokens': 133, 'total_tokens': 195, 'completion_time': 0.26415527, 'prompt_time': 0.008592973, 'queue_time': 0.06027060699999999, 'total_time': 0.272748243}, 'model_name': 'deepseek-r1-distill-llama-70b', 'system_fingerprint': 'fp_76307ac09b', 'finish_reason': 'tool_calls', 'logprobs': None}, id='run--1c21ec8e-ce85-4f73-9bb3-adc3e454d61c-0', tool_calls=[{'name': 'search', 'args': {'query': 'delhi'}, 'id': '21aam3fxx', 'type': 'tool_call'}], usage_metadata={'input_tokens': 133, 'output_tokens': 62, 'total_tokens': 195})]}"
      ]
     },
     "execution_count": 9,
     "metadata": {},
     "output_type": "execute_result"
    }
   ],
   "source": [
    "def call_model(state:MessagesState):\n",
    "    question = state[\"messages\"]\n",
    "    response = llm_with_tools.invoke(question)\n",
    "    return {\"messages\": [response]}\n",
    "\n",
    "response = call_model({\"messages\": [\"What is the weather in delhi?\"]})\n",
    "response"
   ]
  },
  {
   "cell_type": "code",
   "execution_count": 10,
   "metadata": {},
   "outputs": [
    {
     "data": {
      "text/plain": [
       "[{'name': 'search',\n",
       "  'args': {'query': 'delhi'},\n",
       "  'id': '21aam3fxx',\n",
       "  'type': 'tool_call'}]"
      ]
     },
     "execution_count": 10,
     "metadata": {},
     "output_type": "execute_result"
    }
   ],
   "source": [
    "response[\"messages\"][-1].tool_calls"
   ]
  },
  {
   "cell_type": "code",
   "execution_count": 11,
   "metadata": {},
   "outputs": [],
   "source": [
    "# Memory\n",
    "from langgraph.checkpoint.memory import MemorySaver\n",
    "\n",
    "checkpoint = MemorySaver()"
   ]
  },
  {
   "cell_type": "code",
   "execution_count": 13,
   "metadata": {},
   "outputs": [],
   "source": [
    "def router_function(state: MessagesState):\n",
    "    question = state[\"messages\"][-1]\n",
    "    if question.tool_calls:\n",
    "        return \"tools\"\n",
    "    return END"
   ]
  },
  {
   "cell_type": "code",
   "execution_count": 12,
   "metadata": {},
   "outputs": [],
   "source": [
    "from langgraph.prebuilt import ToolNode\n",
    "tool_node = ToolNode(tools)"
   ]
  },
  {
   "cell_type": "code",
   "execution_count": 15,
   "metadata": {},
   "outputs": [
    {
     "data": {
      "image/png": "[encoded data removed]",
      "text/plain": [
       "<langgraph.graph.state.CompiledStateGraph object at 0x119c0d7d0>"
      ]
     },
     "execution_count": 15,
     "metadata": {},
     "output_type": "execute_result"
    }
   ],
   "source": [
    "workflow = StateGraph(MessagesState)\n",
    "workflow.add_node(\"llm_with_tools\", call_model)\n",
    "workflow.add_node(\"tools\", tool_node)\n",
    "workflow.add_edge(START, \"llm_with_tools\")\n",
    "workflow.add_conditional_edges(\"llm_with_tools\", router_function, {\"tools\": \"tools\", END: END})\n",
    "workflow.add_edge(\"tools\", \"llm_with_tools\")\n",
    "workflow.add_edge(\"llm_with_tools\", END)\n",
    "app = workflow.compile(checkpointer=checkpoint)\n",
    "app"
   ]
  },
  {
   "cell_type": "code",
   "execution_count": 16,
   "metadata": {},
   "outputs": [
    {
     "data": {
      "text/plain": [
       "{'messages': [HumanMessage(content='What is the weather in delhi?', additional_kwargs={}, response_metadata={}, id='94bfa2af-5386-4117-951e-8489d9329a95'),\n",
       "  AIMessage(content='', additional_kwargs={'tool_calls': [{'id': 'nqy5tgc2x', 'function': {'arguments': '{\"query\":\"weather in Delhi\"}', 'name': 'search'}, 'type': 'function'}]}, response_metadata={'token_usage': {'completion_tokens': 202, 'prompt_tokens': 133, 'total_tokens': 335, 'completion_time': 1.070013596, 'prompt_time': 0.009060616, 'queue_time': 0.057598260000000005, 'total_time': 1.079074212}, 'model_name': 'deepseek-r1-distill-llama-70b', 'system_fingerprint': 'fp_76307ac09b', 'finish_reason': 'tool_calls', 'logprobs': None}, id='run--9c791507-cd74-4d4e-9786-33ff4a428b6b-0', tool_calls=[{'name': 'search', 'args': {'query': 'weather in Delhi'}, 'id': 'nqy5tgc2x', 'type': 'tool_call'}], usage_metadata={'input_tokens': 133, 'output_tokens': 202, 'total_tokens': 335}),\n",
       "  ToolMessage(content='the temp is 45 degrees and sunny', name='search', id='ef0138ab-11ac-44b8-8724-c8a19460daac', tool_call_id='nqy5tgc2x'),\n",
       "  AIMessage(content='', additional_kwargs={'tool_calls': [{'id': 'a14xrv8rn', 'function': {'arguments': '{\"query\":\"weather in Delhi\"}', 'name': 'search'}, 'type': 'function'}]}, response_metadata={'token_usage': {'completion_tokens': 273, 'prompt_tokens': 193, 'total_tokens': 466, 'completion_time': 1.2625565779999999, 'prompt_time': 0.012765388, 'queue_time': 0.057643817, 'total_time': 1.275321966}, 'model_name': 'deepseek-r1-distill-llama-70b', 'system_fingerprint': 'fp_76307ac09b', 'finish_reason': 'tool_calls', 'logprobs': None}, id='run--8b2be838-c325-467f-a91d-78d8b7b32920-0', tool_calls=[{'name': 'search', 'args': {'query': 'weather in Delhi'}, 'id': 'a14xrv8rn', 'type': 'tool_call'}], usage_metadata={'input_tokens': 193, 'output_tokens': 273, 'total_tokens': 466}),\n",
       "  ToolMessage(content='the temp is 45 degrees and sunny', name='search', id='236510f1-33e7-4cb3-8c95-e8ce2bf17235', tool_call_id='a14xrv8rn'),\n",
       "  AIMessage(content='The current weather in Delhi is 45 degrees and sunny.', additional_kwargs={}, response_metadata={'token_usage': {'completion_tokens': 88, 'prompt_tokens': 251, 'total_tokens': 339, 'completion_time': 0.545986436, 'prompt_time': 0.01679524, 'queue_time': 0.05782682, 'total_time': 0.562781676}, 'model_name': 'deepseek-r1-distill-llama-70b', 'system_fingerprint': 'fp_76307ac09b', 'finish_reason': 'stop', 'logprobs': None}, id='run--8a7eb516-1f2f-4e3b-a7a4-2d78a413ecea-0', usage_metadata={'input_tokens': 251, 'output_tokens': 88, 'total_tokens': 339})]}"
      ]
     },
     "execution_count": 16,
     "metadata": {},
     "output_type": "execute_result"
    }
   ],
   "source": [
    "config={\"configurable\": {\"thread_id\": \"1\"}}\n",
    "app.invoke({\"messages\": [\"What is the weather in delhi?\"]}, config=config)"
   ]
  },
  {
   "cell_type": "code",
   "execution_count": 17,
   "metadata": {},
   "outputs": [
    {
     "name": "stdout",
     "output_type": "stream",
     "text": [
      "llm_with_tools: {'messages': [AIMessage(content='', additional_kwargs={'tool_calls': [{'id': 'bz55p6nbe', 'function': {'arguments': '{\"query\":\"weather in Delhi\"}', 'name': 'search'}, 'type': 'function'}]}, response_metadata={'token_usage': {'completion_tokens': 190, 'prompt_tokens': 274, 'total_tokens': 464, 'completion_time': 1.092567188, 'prompt_time': 0.024250983, 'queue_time': 0.056865576, 'total_time': 1.116818171}, 'model_name': 'deepseek-r1-distill-llama-70b', 'system_fingerprint': 'fp_76307ac09b', 'finish_reason': 'tool_calls', 'logprobs': None}, id='run--8b34de13-ab66-4686-9a41-b5866e2d5f40-0', tool_calls=[{'name': 'search', 'args': {'query': 'weather in Delhi'}, 'id': 'bz55p6nbe', 'type': 'tool_call'}], usage_metadata={'input_tokens': 274, 'output_tokens': 190, 'total_tokens': 464})]}\n",
      "tools: {'messages': [ToolMessage(content='the temp is 45 degrees and sunny', name='search', id='cf886d4e-4a13-4b26-8d21-958b18fb18c5', tool_call_id='bz55p6nbe')]}\n",
      "llm_with_tools: {'messages': [AIMessage(content='', additional_kwargs={'tool_calls': [{'id': '7p3my0a7c', 'function': {'arguments': '{\"query\":\"weather in Delhi\"}', 'name': 'search'}, 'type': 'function'}]}, response_metadata={'token_usage': {'completion_tokens': 387, 'prompt_tokens': 332, 'total_tokens': 719, 'completion_time': 1.6166931070000001, 'prompt_time': 0.021144161, 'queue_time': 0.071752229, 'total_time': 1.637837268}, 'model_name': 'deepseek-r1-distill-llama-70b', 'system_fingerprint': 'fp_76307ac09b', 'finish_reason': 'tool_calls', 'logprobs': None}, id='run--4d8690e9-37d7-45cf-a372-145ca09eb7d5-0', tool_calls=[{'name': 'search', 'args': {'query': 'weather in Delhi'}, 'id': '7p3my0a7c', 'type': 'tool_call'}], usage_metadata={'input_tokens': 332, 'output_tokens': 387, 'total_tokens': 719})]}\n",
      "tools: {'messages': [ToolMessage(content='the temp is 45 degrees and sunny', name='search', id='2645bf52-9cfe-42b7-a028-204f51464f72', tool_call_id='7p3my0a7c')]}\n",
      "llm_with_tools: {'messages': [AIMessage(content='', additional_kwargs={'tool_calls': [{'id': 'nz2sks53s', 'function': {'arguments': '{\"query\":\"weather in Delhi\"}', 'name': 'search'}, 'type': 'function'}]}, response_metadata={'token_usage': {'completion_tokens': 357, 'prompt_tokens': 392, 'total_tokens': 749, 'completion_time': 1.639686229, 'prompt_time': 0.032211375, 'queue_time': 0.054023614, 'total_time': 1.671897604}, 'model_name': 'deepseek-r1-distill-llama-70b', 'system_fingerprint': 'fp_76307ac09b', 'finish_reason': 'tool_calls', 'logprobs': None}, id='run--07e1c61d-4893-4d99-a0a9-8ea5d11d8a4e-0', tool_calls=[{'name': 'search', 'args': {'query': 'weather in Delhi'}, 'id': 'nz2sks53s', 'type': 'tool_call'}], usage_metadata={'input_tokens': 392, 'output_tokens': 357, 'total_tokens': 749})]}\n",
      "tools: {'messages': [ToolMessage(content='the temp is 45 degrees and sunny', name='search', id='3af22ecd-9607-44e7-92de-e1f17c712f4f', tool_call_id='nz2sks53s')]}\n",
      "llm_with_tools: {'messages': [AIMessage(content='The current weather in Delhi is 45 degrees and sunny.', additional_kwargs={}, response_metadata={'token_usage': {'completion_tokens': 157, 'prompt_tokens': 450, 'total_tokens': 607, 'completion_time': 0.800319519, 'prompt_time': 0.028716393, 'queue_time': 0.058207897, 'total_time': 0.829035912}, 'model_name': 'deepseek-r1-distill-llama-70b', 'system_fingerprint': 'fp_76307ac09b', 'finish_reason': 'stop', 'logprobs': None}, id='run--ee7e1f5b-6ef0-4b6c-8d92-0f8cf70d71f7-0', usage_metadata={'input_tokens': 450, 'output_tokens': 157, 'total_tokens': 607})]}\n"
     ]
    }
   ],
   "source": [
    "for current in app.stream({\"messages\": [\"What is the weather in delhi?\"]}, config=config):\n",
    "    for key, value in current.items():\n",
    "        print(f\"{key}: {value}\")"
   ]
  },
  {
   "cell_type": "code",
   "execution_count": 18,
   "metadata": {},
   "outputs": [
    {
     "name": "stdout",
     "output_type": "stream",
     "text": [
      "================================\u001b[1m Human Message \u001b[0m=================================\n",
      "\n",
      "What is the weather in indore?\n",
      "==================================\u001b[1m Ai Message \u001b[0m==================================\n",
      "Tool Calls:\n",
      "  search (gfdgbsbxc)\n",
      " Call ID: gfdgbsbxc\n",
      "  Args:\n",
      "    query: weather in Indore\n",
      "=================================\u001b[1m Tool Message \u001b[0m=================================\n",
      "Name: search\n",
      "\n",
      "the temp is 20 degrees and cloudy\n",
      "==================================\u001b[1m Ai Message \u001b[0m==================================\n",
      "Tool Calls:\n",
      "  search (rjw6zpcmj)\n",
      " Call ID: rjw6zpcmj\n",
      "  Args:\n",
      "    query: weather in Indore\n",
      "=================================\u001b[1m Tool Message \u001b[0m=================================\n",
      "Name: search\n",
      "\n",
      "the temp is 20 degrees and cloudy\n",
      "==================================\u001b[1m Ai Message \u001b[0m==================================\n",
      "Tool Calls:\n",
      "  search (b3fketdvc)\n",
      " Call ID: b3fketdvc\n",
      "  Args:\n",
      "    query: weather in Indore\n",
      "=================================\u001b[1m Tool Message \u001b[0m=================================\n",
      "Name: search\n",
      "\n",
      "the temp is 20 degrees and cloudy\n",
      "==================================\u001b[1m Ai Message \u001b[0m==================================\n",
      "\n",
      "The current weather in Indore is 20 degrees and cloudy.\n"
     ]
    }
   ],
   "source": [
    "events = app.stream({\"messages\": [\"What is the weather in indore?\"]}, config=config, stream_mode=\"values\")\n",
    "for event in events:\n",
    "    event[\"messages\"][-1].pretty_print()"
   ]
  },
  {
   "cell_type": "code",
   "execution_count": 19,
   "metadata": {},
   "outputs": [
    {
     "data": {
      "text/plain": [
       "{'v': 3,\n",
       " 'ts': '2025-07-11T06:27:59.509897+00:00',\n",
       " 'id': '1f05e203-08e9-6040-8017-c1254288c46c',\n",
       " 'channel_versions': {'__start__': '00000000000000000000000000000018.0.9128743614097972',\n",
       "  'messages': '00000000000000000000000000000025.0.10958618430494316',\n",
       "  'branch:to:llm_with_tools': '00000000000000000000000000000025.0.07204819334050883',\n",
       "  'branch:to:tools': '00000000000000000000000000000024.0.17494759594086906'},\n",
       " 'versions_seen': {'__input__': {},\n",
       "  '__start__': {'__start__': '00000000000000000000000000000017.0.34164949276087164'},\n",
       "  'llm_with_tools': {'branch:to:llm_with_tools': '00000000000000000000000000000024.0.441883362133766'},\n",
       "  'tools': {'branch:to:tools': '00000000000000000000000000000023.0.32566345277493025'}},\n",
       " 'pending_sends': [],\n",
       " 'channel_values': {'messages': [HumanMessage(content='What is the weather in delhi?', additional_kwargs={}, response_metadata={}, id='94bfa2af-5386-4117-951e-8489d9329a95'),\n",
       "   AIMessage(content='', additional_kwargs={'tool_calls': [{'id': 'nqy5tgc2x', 'function': {'arguments': '{\"query\":\"weather in Delhi\"}', 'name': 'search'}, 'type': 'function'}]}, response_metadata={'token_usage': {'completion_tokens': 202, 'prompt_tokens': 133, 'total_tokens': 335, 'completion_time': 1.070013596, 'prompt_time': 0.009060616, 'queue_time': 0.057598260000000005, 'total_time': 1.079074212}, 'model_name': 'deepseek-r1-distill-llama-70b', 'system_fingerprint': 'fp_76307ac09b', 'finish_reason': 'tool_calls', 'logprobs': None}, id='run--9c791507-cd74-4d4e-9786-33ff4a428b6b-0', tool_calls=[{'name': 'search', 'args': {'query': 'weather in Delhi'}, 'id': 'nqy5tgc2x', 'type': 'tool_call'}], usage_metadata={'input_tokens': 133, 'output_tokens': 202, 'total_tokens': 335}),\n",
       "   ToolMessage(content='the temp is 45 degrees and sunny', name='search', id='ef0138ab-11ac-44b8-8724-c8a19460daac', tool_call_id='nqy5tgc2x'),\n",
       "   AIMessage(content='', additional_kwargs={'tool_calls': [{'id': 'a14xrv8rn', 'function': {'arguments': '{\"query\":\"weather in Delhi\"}', 'name': 'search'}, 'type': 'function'}]}, response_metadata={'token_usage': {'completion_tokens': 273, 'prompt_tokens': 193, 'total_tokens': 466, 'completion_time': 1.2625565779999999, 'prompt_time': 0.012765388, 'queue_time': 0.057643817, 'total_time': 1.275321966}, 'model_name': 'deepseek-r1-distill-llama-70b', 'system_fingerprint': 'fp_76307ac09b', 'finish_reason': 'tool_calls', 'logprobs': None}, id='run--8b2be838-c325-467f-a91d-78d8b7b32920-0', tool_calls=[{'name': 'search', 'args': {'query': 'weather in Delhi'}, 'id': 'a14xrv8rn', 'type': 'tool_call'}], usage_metadata={'input_tokens': 193, 'output_tokens': 273, 'total_tokens': 466}),\n",
       "   ToolMessage(content='the temp is 45 degrees and sunny', name='search', id='236510f1-33e7-4cb3-8c95-e8ce2bf17235', tool_call_id='a14xrv8rn'),\n",
       "   AIMessage(content='The current weather in Delhi is 45 degrees and sunny.', additional_kwargs={}, response_metadata={'token_usage': {'completion_tokens': 88, 'prompt_tokens': 251, 'total_tokens': 339, 'completion_time': 0.545986436, 'prompt_time': 0.01679524, 'queue_time': 0.05782682, 'total_time': 0.562781676}, 'model_name': 'deepseek-r1-distill-llama-70b', 'system_fingerprint': 'fp_76307ac09b', 'finish_reason': 'stop', 'logprobs': None}, id='run--8a7eb516-1f2f-4e3b-a7a4-2d78a413ecea-0', usage_metadata={'input_tokens': 251, 'output_tokens': 88, 'total_tokens': 339}),\n",
       "   HumanMessage(content='What is the weather in delhi?', additional_kwargs={}, response_metadata={}, id='4fb7281a-0fc5-429d-9413-527728f9883f'),\n",
       "   AIMessage(content='', additional_kwargs={'tool_calls': [{'id': 'bz55p6nbe', 'function': {'arguments': '{\"query\":\"weather in Delhi\"}', 'name': 'search'}, 'type': 'function'}]}, response_metadata={'token_usage': {'completion_tokens': 190, 'prompt_tokens': 274, 'total_tokens': 464, 'completion_time': 1.092567188, 'prompt_time': 0.024250983, 'queue_time': 0.056865576, 'total_time': 1.116818171}, 'model_name': 'deepseek-r1-distill-llama-70b', 'system_fingerprint': 'fp_76307ac09b', 'finish_reason': 'tool_calls', 'logprobs': None}, id='run--8b34de13-ab66-4686-9a41-b5866e2d5f40-0', tool_calls=[{'name': 'search', 'args': {'query': 'weather in Delhi'}, 'id': 'bz55p6nbe', 'type': 'tool_call'}], usage_metadata={'input_tokens': 274, 'output_tokens': 190, 'total_tokens': 464}),\n",
       "   ToolMessage(content='the temp is 45 degrees and sunny', name='search', id='cf886d4e-4a13-4b26-8d21-958b18fb18c5', tool_call_id='bz55p6nbe'),\n",
       "   AIMessage(content='', additional_kwargs={'tool_calls': [{'id': '7p3my0a7c', 'function': {'arguments': '{\"query\":\"weather in Delhi\"}', 'name': 'search'}, 'type': 'function'}]}, response_metadata={'token_usage': {'completion_tokens': 387, 'prompt_tokens': 332, 'total_tokens': 719, 'completion_time': 1.6166931070000001, 'prompt_time': 0.021144161, 'queue_time': 0.071752229, 'total_time': 1.637837268}, 'model_name': 'deepseek-r1-distill-llama-70b', 'system_fingerprint': 'fp_76307ac09b', 'finish_reason': 'tool_calls', 'logprobs': None}, id='run--4d8690e9-37d7-45cf-a372-145ca09eb7d5-0', tool_calls=[{'name': 'search', 'args': {'query': 'weather in Delhi'}, 'id': '7p3my0a7c', 'type': 'tool_call'}], usage_metadata={'input_tokens': 332, 'output_tokens': 387, 'total_tokens': 719}),\n",
       "   ToolMessage(content='the temp is 45 degrees and sunny', name='search', id='2645bf52-9cfe-42b7-a028-204f51464f72', tool_call_id='7p3my0a7c'),\n",
       "   AIMessage(content='', additional_kwargs={'tool_calls': [{'id': 'nz2sks53s', 'function': {'arguments': '{\"query\":\"weather in Delhi\"}', 'name': 'search'}, 'type': 'function'}]}, response_metadata={'token_usage': {'completion_tokens': 357, 'prompt_tokens': 392, 'total_tokens': 749, 'completion_time': 1.639686229, 'prompt_time': 0.032211375, 'queue_time': 0.054023614, 'total_time': 1.671897604}, 'model_name': 'deepseek-r1-distill-llama-70b', 'system_fingerprint': 'fp_76307ac09b', 'finish_reason': 'tool_calls', 'logprobs': None}, id='run--07e1c61d-4893-4d99-a0a9-8ea5d11d8a4e-0', tool_calls=[{'name': 'search', 'args': {'query': 'weather in Delhi'}, 'id': 'nz2sks53s', 'type': 'tool_call'}], usage_metadata={'input_tokens': 392, 'output_tokens': 357, 'total_tokens': 749}),\n",
       "   ToolMessage(content='the temp is 45 degrees and sunny', name='search', id='3af22ecd-9607-44e7-92de-e1f17c712f4f', tool_call_id='nz2sks53s'),\n",
       "   AIMessage(content='The current weather in Delhi is 45 degrees and sunny.', additional_kwargs={}, response_metadata={'token_usage': {'completion_tokens': 157, 'prompt_tokens': 450, 'total_tokens': 607, 'completion_time': 0.800319519, 'prompt_time': 0.028716393, 'queue_time': 0.058207897, 'total_time': 0.829035912}, 'model_name': 'deepseek-r1-distill-llama-70b', 'system_fingerprint': 'fp_76307ac09b', 'finish_reason': 'stop', 'logprobs': None}, id='run--ee7e1f5b-6ef0-4b6c-8d92-0f8cf70d71f7-0', usage_metadata={'input_tokens': 450, 'output_tokens': 157, 'total_tokens': 607}),\n",
       "   HumanMessage(content='What is the weather in indore?', additional_kwargs={}, response_metadata={}, id='b5274361-2901-4d26-a432-0528c889b9bd'),\n",
       "   AIMessage(content='', additional_kwargs={'tool_calls': [{'id': 'gfdgbsbxc', 'function': {'arguments': '{\"query\":\"weather in Indore\"}', 'name': 'search'}, 'type': 'function'}]}, response_metadata={'token_usage': {'completion_tokens': 170, 'prompt_tokens': 473, 'total_tokens': 643, 'completion_time': 0.909154463, 'prompt_time': 0.037921187, 'queue_time': 0.057812182, 'total_time': 0.94707565}, 'model_name': 'deepseek-r1-distill-llama-70b', 'system_fingerprint': 'fp_76307ac09b', 'finish_reason': 'tool_calls', 'logprobs': None}, id='run--cb0abc9a-bcbe-41ad-810c-ba80237749b3-0', tool_calls=[{'name': 'search', 'args': {'query': 'weather in Indore'}, 'id': 'gfdgbsbxc', 'type': 'tool_call'}], usage_metadata={'input_tokens': 473, 'output_tokens': 170, 'total_tokens': 643}),\n",
       "   ToolMessage(content='the temp is 20 degrees and cloudy', name='search', id='a90f8de6-10ef-4c68-9280-48fcccc1b4e9', tool_call_id='gfdgbsbxc'),\n",
       "   AIMessage(content='', additional_kwargs={'tool_calls': [{'id': 'rjw6zpcmj', 'function': {'arguments': '{\"query\":\"weather in Indore\"}', 'name': 'search'}, 'type': 'function'}]}, response_metadata={'token_usage': {'completion_tokens': 183, 'prompt_tokens': 532, 'total_tokens': 715, 'completion_time': 0.724914547, 'prompt_time': 0.042002769, 'queue_time': 0.05597940099999999, 'total_time': 0.766917316}, 'model_name': 'deepseek-r1-distill-llama-70b', 'system_fingerprint': 'fp_76307ac09b', 'finish_reason': 'tool_calls', 'logprobs': None}, id='run--47c6c944-71a1-4a6e-92ce-4e852a5d7002-0', tool_calls=[{'name': 'search', 'args': {'query': 'weather in Indore'}, 'id': 'rjw6zpcmj', 'type': 'tool_call'}], usage_metadata={'input_tokens': 532, 'output_tokens': 183, 'total_tokens': 715}),\n",
       "   ToolMessage(content='the temp is 20 degrees and cloudy', name='search', id='e6ac3db4-a1f7-4eab-9b08-7c74aa6c6564', tool_call_id='rjw6zpcmj'),\n",
       "   AIMessage(content='', additional_kwargs={'tool_calls': [{'id': 'b3fketdvc', 'function': {'arguments': '{\"query\":\"weather in Indore\"}', 'name': 'search'}, 'type': 'function'}]}, response_metadata={'token_usage': {'completion_tokens': 73, 'prompt_tokens': 592, 'total_tokens': 665, 'completion_time': 0.377334923, 'prompt_time': 0.045358799, 'queue_time': 0.058406730999999996, 'total_time': 0.422693722}, 'model_name': 'deepseek-r1-distill-llama-70b', 'system_fingerprint': 'fp_76307ac09b', 'finish_reason': 'tool_calls', 'logprobs': None}, id='run--e6e22226-0493-4cf4-8163-bbe13b8c93b5-0', tool_calls=[{'name': 'search', 'args': {'query': 'weather in Indore'}, 'id': 'b3fketdvc', 'type': 'tool_call'}], usage_metadata={'input_tokens': 592, 'output_tokens': 73, 'total_tokens': 665}),\n",
       "   ToolMessage(content='the temp is 20 degrees and cloudy', name='search', id='76f2b728-2513-4394-b4ac-fc4bda7aa554', tool_call_id='b3fketdvc'),\n",
       "   AIMessage(content='The current weather in Indore is 20 degrees and cloudy.', additional_kwargs={}, response_metadata={'token_usage': {'completion_tokens': 137, 'prompt_tokens': 651, 'total_tokens': 788, 'completion_time': 0.614100194, 'prompt_time': 0.04995128, 'queue_time': 0.053638033, 'total_time': 0.664051474}, 'model_name': 'deepseek-r1-distill-llama-70b', 'system_fingerprint': 'fp_76307ac09b', 'finish_reason': 'stop', 'logprobs': None}, id='run--db17d457-1eaf-4bb9-9b49-161e22a81408-0', usage_metadata={'input_tokens': 651, 'output_tokens': 137, 'total_tokens': 788})]}}"
      ]
     },
     "execution_count": 19,
     "metadata": {},
     "output_type": "execute_result"
    }
   ],
   "source": [
    "checkpoint.get(config=config)"
   ]
  },
  {
   "cell_type": "code",
   "execution_count": 21,
   "metadata": {},
   "outputs": [
    {
     "name": "stdout",
     "output_type": "stream",
     "text": [
      "================================\u001b[1m Human Message \u001b[0m=================================\n",
      "\n",
      "In which city the temperature is 20 degrees\n",
      "==================================\u001b[1m Ai Message \u001b[0m==================================\n",
      "\n",
      "The city where the temperature is 20 degrees is **Indore**.\n"
     ]
    }
   ],
   "source": [
    "events = app.stream({\"messages\": [\"In which city the temperature is 20 degrees\"]}, config=config, stream_mode=\"values\")\n",
    "for event in events:\n",
    "    event[\"messages\"][-1].pretty_print()"
   ]
  },
  {
   "cell_type": "code",
   "execution_count": 22,
   "metadata": {},
   "outputs": [
    {
     "data": {
      "text/plain": [
       "{'v': 3,\n",
       " 'ts': '2025-07-11T06:29:09.266485+00:00',\n",
       " 'id': '1f05e205-a229-6672-801d-a5d75e318051',\n",
       " 'channel_versions': {'__start__': '00000000000000000000000000000030.0.960617461303371',\n",
       "  'messages': '00000000000000000000000000000031.0.9382031400807951',\n",
       "  'branch:to:llm_with_tools': '00000000000000000000000000000031.0.6796838744315021',\n",
       "  'branch:to:tools': '00000000000000000000000000000029.0.6530551896837495'},\n",
       " 'versions_seen': {'__input__': {},\n",
       "  '__start__': {'__start__': '00000000000000000000000000000029.0.5145550598942731'},\n",
       "  'llm_with_tools': {'branch:to:llm_with_tools': '00000000000000000000000000000030.0.7004674619003425'},\n",
       "  'tools': {'branch:to:tools': '00000000000000000000000000000028.0.3796551669502025'}},\n",
       " 'pending_sends': [],\n",
       " 'channel_values': {'messages': [HumanMessage(content='What is the weather in delhi?', additional_kwargs={}, response_metadata={}, id='94bfa2af-5386-4117-951e-8489d9329a95'),\n",
       "   AIMessage(content='', additional_kwargs={'tool_calls': [{'id': 'nqy5tgc2x', 'function': {'arguments': '{\"query\":\"weather in Delhi\"}', 'name': 'search'}, 'type': 'function'}]}, response_metadata={'token_usage': {'completion_tokens': 202, 'prompt_tokens': 133, 'total_tokens': 335, 'completion_time': 1.070013596, 'prompt_time': 0.009060616, 'queue_time': 0.057598260000000005, 'total_time': 1.079074212}, 'model_name': 'deepseek-r1-distill-llama-70b', 'system_fingerprint': 'fp_76307ac09b', 'finish_reason': 'tool_calls', 'logprobs': None}, id='run--9c791507-cd74-4d4e-9786-33ff4a428b6b-0', tool_calls=[{'name': 'search', 'args': {'query': 'weather in Delhi'}, 'id': 'nqy5tgc2x', 'type': 'tool_call'}], usage_metadata={'input_tokens': 133, 'output_tokens': 202, 'total_tokens': 335}),\n",
       "   ToolMessage(content='the temp is 45 degrees and sunny', name='search', id='ef0138ab-11ac-44b8-8724-c8a19460daac', tool_call_id='nqy5tgc2x'),\n",
       "   AIMessage(content='', additional_kwargs={'tool_calls': [{'id': 'a14xrv8rn', 'function': {'arguments': '{\"query\":\"weather in Delhi\"}', 'name': 'search'}, 'type': 'function'}]}, response_metadata={'token_usage': {'completion_tokens': 273, 'prompt_tokens': 193, 'total_tokens': 466, 'completion_time': 1.2625565779999999, 'prompt_time': 0.012765388, 'queue_time': 0.057643817, 'total_time': 1.275321966}, 'model_name': 'deepseek-r1-distill-llama-70b', 'system_fingerprint': 'fp_76307ac09b', 'finish_reason': 'tool_calls', 'logprobs': None}, id='run--8b2be838-c325-467f-a91d-78d8b7b32920-0', tool_calls=[{'name': 'search', 'args': {'query': 'weather in Delhi'}, 'id': 'a14xrv8rn', 'type': 'tool_call'}], usage_metadata={'input_tokens': 193, 'output_tokens': 273, 'total_tokens': 466}),\n",
       "   ToolMessage(content='the temp is 45 degrees and sunny', name='search', id='236510f1-33e7-4cb3-8c95-e8ce2bf17235', tool_call_id='a14xrv8rn'),\n",
       "   AIMessage(content='The current weather in Delhi is 45 degrees and sunny.', additional_kwargs={}, response_metadata={'token_usage': {'completion_tokens': 88, 'prompt_tokens': 251, 'total_tokens': 339, 'completion_time': 0.545986436, 'prompt_time': 0.01679524, 'queue_time': 0.05782682, 'total_time': 0.562781676}, 'model_name': 'deepseek-r1-distill-llama-70b', 'system_fingerprint': 'fp_76307ac09b', 'finish_reason': 'stop', 'logprobs': None}, id='run--8a7eb516-1f2f-4e3b-a7a4-2d78a413ecea-0', usage_metadata={'input_tokens': 251, 'output_tokens': 88, 'total_tokens': 339}),\n",
       "   HumanMessage(content='What is the weather in delhi?', additional_kwargs={}, response_metadata={}, id='4fb7281a-0fc5-429d-9413-527728f9883f'),\n",
       "   AIMessage(content='', additional_kwargs={'tool_calls': [{'id': 'bz55p6nbe', 'function': {'arguments': '{\"query\":\"weather in Delhi\"}', 'name': 'search'}, 'type': 'function'}]}, response_metadata={'token_usage': {'completion_tokens': 190, 'prompt_tokens': 274, 'total_tokens': 464, 'completion_time': 1.092567188, 'prompt_time': 0.024250983, 'queue_time': 0.056865576, 'total_time': 1.116818171}, 'model_name': 'deepseek-r1-distill-llama-70b', 'system_fingerprint': 'fp_76307ac09b', 'finish_reason': 'tool_calls', 'logprobs': None}, id='run--8b34de13-ab66-4686-9a41-b5866e2d5f40-0', tool_calls=[{'name': 'search', 'args': {'query': 'weather in Delhi'}, 'id': 'bz55p6nbe', 'type': 'tool_call'}], usage_metadata={'input_tokens': 274, 'output_tokens': 190, 'total_tokens': 464}),\n",
       "   ToolMessage(content='the temp is 45 degrees and sunny', name='search', id='cf886d4e-4a13-4b26-8d21-958b18fb18c5', tool_call_id='bz55p6nbe'),\n",
       "   AIMessage(content='', additional_kwargs={'tool_calls': [{'id': '7p3my0a7c', 'function': {'arguments': '{\"query\":\"weather in Delhi\"}', 'name': 'search'}, 'type': 'function'}]}, response_metadata={'token_usage': {'completion_tokens': 387, 'prompt_tokens': 332, 'total_tokens': 719, 'completion_time': 1.6166931070000001, 'prompt_time': 0.021144161, 'queue_time': 0.071752229, 'total_time': 1.637837268}, 'model_name': 'deepseek-r1-distill-llama-70b', 'system_fingerprint': 'fp_76307ac09b', 'finish_reason': 'tool_calls', 'logprobs': None}, id='run--4d8690e9-37d7-45cf-a372-145ca09eb7d5-0', tool_calls=[{'name': 'search', 'args': {'query': 'weather in Delhi'}, 'id': '7p3my0a7c', 'type': 'tool_call'}], usage_metadata={'input_tokens': 332, 'output_tokens': 387, 'total_tokens': 719}),\n",
       "   ToolMessage(content='the temp is 45 degrees and sunny', name='search', id='2645bf52-9cfe-42b7-a028-204f51464f72', tool_call_id='7p3my0a7c'),\n",
       "   AIMessage(content='', additional_kwargs={'tool_calls': [{'id': 'nz2sks53s', 'function': {'arguments': '{\"query\":\"weather in Delhi\"}', 'name': 'search'}, 'type': 'function'}]}, response_metadata={'token_usage': {'completion_tokens': 357, 'prompt_tokens': 392, 'total_tokens': 749, 'completion_time': 1.639686229, 'prompt_time': 0.032211375, 'queue_time': 0.054023614, 'total_time': 1.671897604}, 'model_name': 'deepseek-r1-distill-llama-70b', 'system_fingerprint': 'fp_76307ac09b', 'finish_reason': 'tool_calls', 'logprobs': None}, id='run--07e1c61d-4893-4d99-a0a9-8ea5d11d8a4e-0', tool_calls=[{'name': 'search', 'args': {'query': 'weather in Delhi'}, 'id': 'nz2sks53s', 'type': 'tool_call'}], usage_metadata={'input_tokens': 392, 'output_tokens': 357, 'total_tokens': 749}),\n",
       "   ToolMessage(content='the temp is 45 degrees and sunny', name='search', id='3af22ecd-9607-44e7-92de-e1f17c712f4f', tool_call_id='nz2sks53s'),\n",
       "   AIMessage(content='The current weather in Delhi is 45 degrees and sunny.', additional_kwargs={}, response_metadata={'token_usage': {'completion_tokens': 157, 'prompt_tokens': 450, 'total_tokens': 607, 'completion_time': 0.800319519, 'prompt_time': 0.028716393, 'queue_time': 0.058207897, 'total_time': 0.829035912}, 'model_name': 'deepseek-r1-distill-llama-70b', 'system_fingerprint': 'fp_76307ac09b', 'finish_reason': 'stop', 'logprobs': None}, id='run--ee7e1f5b-6ef0-4b6c-8d92-0f8cf70d71f7-0', usage_metadata={'input_tokens': 450, 'output_tokens': 157, 'total_tokens': 607}),\n",
       "   HumanMessage(content='What is the weather in indore?', additional_kwargs={}, response_metadata={}, id='b5274361-2901-4d26-a432-0528c889b9bd'),\n",
       "   AIMessage(content='', additional_kwargs={'tool_calls': [{'id': 'gfdgbsbxc', 'function': {'arguments': '{\"query\":\"weather in Indore\"}', 'name': 'search'}, 'type': 'function'}]}, response_metadata={'token_usage': {'completion_tokens': 170, 'prompt_tokens': 473, 'total_tokens': 643, 'completion_time': 0.909154463, 'prompt_time': 0.037921187, 'queue_time': 0.057812182, 'total_time': 0.94707565}, 'model_name': 'deepseek-r1-distill-llama-70b', 'system_fingerprint': 'fp_76307ac09b', 'finish_reason': 'tool_calls', 'logprobs': None}, id='run--cb0abc9a-bcbe-41ad-810c-ba80237749b3-0', tool_calls=[{'name': 'search', 'args': {'query': 'weather in Indore'}, 'id': 'gfdgbsbxc', 'type': 'tool_call'}], usage_metadata={'input_tokens': 473, 'output_tokens': 170, 'total_tokens': 643}),\n",
       "   ToolMessage(content='the temp is 20 degrees and cloudy', name='search', id='a90f8de6-10ef-4c68-9280-48fcccc1b4e9', tool_call_id='gfdgbsbxc'),\n",
       "   AIMessage(content='', additional_kwargs={'tool_calls': [{'id': 'rjw6zpcmj', 'function': {'arguments': '{\"query\":\"weather in Indore\"}', 'name': 'search'}, 'type': 'function'}]}, response_metadata={'token_usage': {'completion_tokens': 183, 'prompt_tokens': 532, 'total_tokens': 715, 'completion_time': 0.724914547, 'prompt_time': 0.042002769, 'queue_time': 0.05597940099999999, 'total_time': 0.766917316}, 'model_name': 'deepseek-r1-distill-llama-70b', 'system_fingerprint': 'fp_76307ac09b', 'finish_reason': 'tool_calls', 'logprobs': None}, id='run--47c6c944-71a1-4a6e-92ce-4e852a5d7002-0', tool_calls=[{'name': 'search', 'args': {'query': 'weather in Indore'}, 'id': 'rjw6zpcmj', 'type': 'tool_call'}], usage_metadata={'input_tokens': 532, 'output_tokens': 183, 'total_tokens': 715}),\n",
       "   ToolMessage(content='the temp is 20 degrees and cloudy', name='search', id='e6ac3db4-a1f7-4eab-9b08-7c74aa6c6564', tool_call_id='rjw6zpcmj'),\n",
       "   AIMessage(content='', additional_kwargs={'tool_calls': [{'id': 'b3fketdvc', 'function': {'arguments': '{\"query\":\"weather in Indore\"}', 'name': 'search'}, 'type': 'function'}]}, response_metadata={'token_usage': {'completion_tokens': 73, 'prompt_tokens': 592, 'total_tokens': 665, 'completion_time': 0.377334923, 'prompt_time': 0.045358799, 'queue_time': 0.058406730999999996, 'total_time': 0.422693722}, 'model_name': 'deepseek-r1-distill-llama-70b', 'system_fingerprint': 'fp_76307ac09b', 'finish_reason': 'tool_calls', 'logprobs': None}, id='run--e6e22226-0493-4cf4-8163-bbe13b8c93b5-0', tool_calls=[{'name': 'search', 'args': {'query': 'weather in Indore'}, 'id': 'b3fketdvc', 'type': 'tool_call'}], usage_metadata={'input_tokens': 592, 'output_tokens': 73, 'total_tokens': 665}),\n",
       "   ToolMessage(content='the temp is 20 degrees and cloudy', name='search', id='76f2b728-2513-4394-b4ac-fc4bda7aa554', tool_call_id='b3fketdvc'),\n",
       "   AIMessage(content='The current weather in Indore is 20 degrees and cloudy.', additional_kwargs={}, response_metadata={'token_usage': {'completion_tokens': 137, 'prompt_tokens': 651, 'total_tokens': 788, 'completion_time': 0.614100194, 'prompt_time': 0.04995128, 'queue_time': 0.053638033, 'total_time': 0.664051474}, 'model_name': 'deepseek-r1-distill-llama-70b', 'system_fingerprint': 'fp_76307ac09b', 'finish_reason': 'stop', 'logprobs': None}, id='run--db17d457-1eaf-4bb9-9b49-161e22a81408-0', usage_metadata={'input_tokens': 651, 'output_tokens': 137, 'total_tokens': 788}),\n",
       "   HumanMessage(content='In which city the temperature is 20 degrees', additional_kwargs={}, response_metadata={}, id='35ad64a3-4618-4f02-9891-594cb49c8053'),\n",
       "   AIMessage(content='', additional_kwargs={'tool_calls': [{'id': 'brge365mw', 'function': {'arguments': '{\"query\":\"weather in Indore\"}', 'name': 'search'}, 'type': 'function'}]}, response_metadata={'token_usage': {'completion_tokens': 187, 'prompt_tokens': 676, 'total_tokens': 863, 'completion_time': 0.785583427, 'prompt_time': 0.055114749, 'queue_time': 0.058434520999999996, 'total_time': 0.840698176}, 'model_name': 'deepseek-r1-distill-llama-70b', 'system_fingerprint': 'fp_76307ac09b', 'finish_reason': 'tool_calls', 'logprobs': None}, id='run--aa33e713-cad6-464f-b365-07de73305133-0', tool_calls=[{'name': 'search', 'args': {'query': 'weather in Indore'}, 'id': 'brge365mw', 'type': 'tool_call'}], usage_metadata={'input_tokens': 676, 'output_tokens': 187, 'total_tokens': 863}),\n",
       "   HumanMessage(content='In which city the temperature is 20 degrees', additional_kwargs={}, response_metadata={}, id='75b3f106-d990-4b57-b91d-4e7d91cf6456'),\n",
       "   AIMessage(content='The city where the temperature is 20 degrees is **Indore**.', additional_kwargs={}, response_metadata={'token_usage': {'completion_tokens': 178, 'prompt_tokens': 713, 'total_tokens': 891, 'completion_time': 0.785234015, 'prompt_time': 0.056153685, 'queue_time': 0.056941255, 'total_time': 0.8413877}, 'model_name': 'deepseek-r1-distill-llama-70b', 'system_fingerprint': 'fp_76307ac09b', 'finish_reason': 'stop', 'logprobs': None}, id='run--143f0902-90bc-420a-ae83-73d7a3cf1449-0', usage_metadata={'input_tokens': 713, 'output_tokens': 178, 'total_tokens': 891})]}}"
      ]
     },
     "execution_count": 22,
     "metadata": {},
     "output_type": "execute_result"
    }
   ],
   "source": [
    "checkpoint.get(config=config)"
   ]
  }
 ],
 "metadata": {
  "kernelspec": {
   "display_name": ".venv",
   "language": "python",
   "name": "python3"
  },
  "language_info": {
   "codemirror_mode": {
    "name": "ipython",
    "version": 3
   },
   "file_extension": ".py",
   "mimetype": "text/x-python",
   "name": "python",
   "nbconvert_exporter": "python",
   "pygments_lexer": "ipython3",
   "version": "3.11.13"
  }
 },
 "nbformat": 4,
 "nbformat_minor": 2
}
