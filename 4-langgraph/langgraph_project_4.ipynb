{
 "cells": [
  {
   "cell_type": "markdown",
   "metadata": {},
   "source": [
    "### LangGraph With Multiple Tools and memory"
   ]
  },
  {
   "cell_type": "code",
   "execution_count": 1,
   "metadata": {},
   "outputs": [
    {
     "data": {
      "text/plain": [
       "\"<think>\\nOkay, so I need to figure out the length of the Great Wall of China. I remember hearing that it's really long, but I'm not exactly sure how long. I think it's somewhere around 10,000 miles, but I might be mixing that up with something else. Maybe I should start by recalling what I know about the wall.\\n\\nThe Great Wall is a series of fortifications built across several Chinese dynasties to protect the country from invasions. It's not just one continuous wall; it's made up of multiple sections built at different times. So, the total length would be the sum of all these sections.\\n\\nI've heard the number 13,000 miles before, but I'm not sure if that's accurate. I should consider whether that's the total length or just a part of it. Also, I remember that the wall isn't all in one piece. There are gaps and sections that are now ruins, so the actual length might be different from the commonly cited number.\\n\\nI think the Chinese government did a survey a few years ago to measure the wall accurately. Maybe that's where the 13,171-mile figure comes from. But I'm not entirely certain about the exact number. I should also think about how they measured it—did they include all the branches and spurs, or just the main sections?\\n\\nAnother thing to consider is that the wall's condition varies a lot. Some parts are well-preserved and touristy, while others are overgrown and hard to trace. This might make measuring the exact length challenging. So, the number might be an estimate that includes all the segments, even the less visible ones.\\n\\nI also recall that the wall isn't just on land. There are parts that are submerged or have disappeared over time due to natural erosion and human activities. So, the total length would include all these parts, even if they're not easily visible today.\\n\\nIn summary, I think the commonly cited length is about 13,170 miles, but I'm not 100% sure. It's possible that this number comes from a recent survey that accounted for all the various sections, including the less obvious ones. I should probably double-check this information to confirm, but based on what I remember, that's the figure I've heard before.\\n</think>\\n\\nThe Great Wall of China is approximately 13,170 miles (21,196 kilometers) long. This measurement includes all the various sections, branches, and spurs, as determined by a recent survey conducted by the Chinese government. The wall is not a single continuous structure but consists of multiple segments built over different dynasties, with some parts well-preserved and others in ruins or submerged.\""
      ]
     },
     "execution_count": 1,
     "metadata": {},
     "output_type": "execute_result"
    }
   ],
   "source": [
    "# LLM\n",
    "from langchain_groq import ChatGroq\n",
    "\n",
    "llm = ChatGroq(model_name=\"deepseek-r1-distill-llama-70b\", temperature=0.7)\n",
    "response = llm.invoke(\"what is length of wall of china?\")\n",
    "response_content = response.content\n",
    "response_content"
   ]
  },
  {
   "cell_type": "code",
   "execution_count": 2,
   "metadata": {},
   "outputs": [],
   "source": [
    "## Custom tools\n",
    "from langchain.tools import tool\n",
    "\n",
    "@tool\n",
    "def multiply(a: int, b: int) -> int:\n",
    "    \"\"\"Multiplies two numbers.\"\"\"\n",
    "    return a * b\n",
    "@tool\n",
    "def add(a: int, b: int) -> int:\n",
    "    \"\"\"Adds two numbers.\"\"\"\n",
    "    return a + b\n",
    "\n",
    "@tool\n",
    "def divide(a: int, b: int) -> float:\n",
    "    \"\"\"Divides two numbers.\"\"\"\n",
    "    if b == 0:\n",
    "        raise ValueError(\"Cannot divide by zero.\")\n",
    "    return a / b"
   ]
  },
  {
   "cell_type": "code",
   "execution_count": 23,
   "metadata": {},
   "outputs": [
    {
     "data": {
      "text/plain": [
       "'The last closing price of AAPL is $211.14.'"
      ]
     },
     "execution_count": 23,
     "metadata": {},
     "output_type": "execute_result"
    }
   ],
   "source": [
    "import yfinance as yf\n",
    "from langchain.tools import tool\n",
    "from typing import TypedDict\n",
    "\n",
    "@tool\n",
    "def get_stock_price(ticker: str) -> str:\n",
    "    \"\"\"Gets the current stock price of a given ticker symbol.\"\"\"\n",
    "    try: \n",
    "        stock = yf.Ticker(ticker)\n",
    "        price = stock.info.get(\"previousClose\")\n",
    "        if price is None:\n",
    "            return f\"Could not fetch price for ticker {ticker}.\"\n",
    "        return f\"The last closing price of {ticker} is ${price:.2f}.\"\n",
    "    except Exception as e:\n",
    "        return f\"An error occurred while fetching the stock price: {str(e)}\"\n",
    "\n",
    "get_stock_price.invoke(\"AAPL\")"
   ]
  },
  {
   "cell_type": "code",
   "execution_count": 9,
   "metadata": {},
   "outputs": [
    {
     "name": "stderr",
     "output_type": "stream",
     "text": [
      "/Users/I572648/Library/CloudStorage/OneDrive-SAPSE/Desktop/Git/GenAI/.venv/lib/python3.11/site-packages/langchain_community/utilities/duckduckgo_search.py:63: RuntimeWarning: This package (`duckduckgo_search`) has been renamed to `ddgs`! Use `pip install ddgs` instead.\n",
      "  with DDGS() as ddgs:\n"
     ]
    },
    {
     "data": {
      "text/plain": [
       "\"Mar 24, 2025 · The long-envisioned integration of traditional financial systems with blockchain technology is now becoming a reality with on-chain capital markets. May 19, 2014 · Hi, What's the correct abbreviation for kilowatt? I have 18 KW in a text I'm proofreading. Is it A. 18 KW B. 18 kW C. 18 Kw I'm thinking it's Kg and Km, so it should be Kw, … Feb 20, 2025 · Traditional capital flows dominated by Western economies are evolving – financial hubs are emerging across Asia and playing a larger role in global investment. The emerging … Jun 27, 2019 · Here's what is human capital. There's nothing more positive in economics than investing in people. But how do you measure its effectiveness? Oct 17, 2024 · Proponents say a capital markets union could help Europe build the innovative companies and infrastructure necessary to compete in a fragmenting global economy.\""
      ]
     },
     "execution_count": 9,
     "metadata": {},
     "output_type": "execute_result"
    }
   ],
   "source": [
    "from langchain_community.tools import DuckDuckGoSearchRun\n",
    "\n",
    "ddg_tool = DuckDuckGoSearchRun()\n",
    "ddg_tool.invoke(\"What is the capital of France?\")"
   ]
  },
  {
   "cell_type": "code",
   "execution_count": 24,
   "metadata": {},
   "outputs": [],
   "source": [
    "tools = [multiply, add, divide, ddg_tool, get_stock_price]"
   ]
  },
  {
   "cell_type": "code",
   "execution_count": 25,
   "metadata": {},
   "outputs": [
    {
     "data": {
      "text/plain": [
       "[{'name': 'multiply',\n",
       "  'args': {'a': 3, 'b': 4},\n",
       "  'id': '6gzjres6b',\n",
       "  'type': 'tool_call'}]"
      ]
     },
     "execution_count": 25,
     "metadata": {},
     "output_type": "execute_result"
    }
   ],
   "source": [
    "llm_with_tools = llm.bind_tools(tools)\n",
    "response_with_tools = llm_with_tools.invoke(\n",
    "    \"What is the result of multiplying 3 and 4, then adding 5, and finally dividing by 2?\"\n",
    ")\n",
    "response_with_tools.tool_calls"
   ]
  },
  {
   "cell_type": "code",
   "execution_count": 13,
   "metadata": {},
   "outputs": [
    {
     "data": {
      "text/plain": [
       "[{'name': 'duckduckgo_search',\n",
       "  'args': {'query': 'TATA Group founding year'},\n",
       "  'id': 'zkm3jbj30',\n",
       "  'type': 'tool_call'}]"
      ]
     },
     "execution_count": 13,
     "metadata": {},
     "output_type": "execute_result"
    }
   ],
   "source": [
    "response = llm_with_tools.invoke(\"What is the age of TATA Group\")\n",
    "response.tool_calls"
   ]
  },
  {
   "cell_type": "code",
   "execution_count": 29,
   "metadata": {},
   "outputs": [],
   "source": [
    "from langgraph.graph import MessagesState\n",
    "\n",
    "SYSTEM_PROMPT = \"You are a helpful assistant tasked with using search, yahoo finance tool and performing arithmetic on the set of inputs. Use the tools for arithemetic operations and to fetch stock prices or search the web for information.\"\n",
    "def llm_with_tools_call(state: MessagesState):\n",
    "    user_question = state[\"messages\"]\n",
    "    input_question = [SYSTEM_PROMPT]+user_question\n",
    "    response = llm_with_tools.invoke(input_question)\n",
    "    return {\"messages\":[response]}"
   ]
  },
  {
   "cell_type": "code",
   "execution_count": 38,
   "metadata": {},
   "outputs": [
    {
     "data": {
      "image/png": "[encoded data removed]",
      "text/plain": [
       "<langgraph.graph.state.CompiledStateGraph object at 0x13f032790>"
      ]
     },
     "execution_count": 38,
     "metadata": {},
     "output_type": "execute_result"
    }
   ],
   "source": [
    "# Create a langGraph LLM with tools\n",
    "from langchain_core.messages import HumanMessage\n",
    "from langgraph.checkpoint.memory import MemorySaver\n",
    "from langgraph.graph import MessagesState, StateGraph, START, END\n",
    "from langgraph.prebuilt import ToolNode, tools_condition\n",
    "\n",
    "memory = MemorySaver()\n",
    "builder = StateGraph(MessagesState)\n",
    "builder.add_node(\"llm_with_decision\", llm_with_tools_call)\n",
    "builder.add_node(\"tools\", ToolNode(tools))\n",
    "builder.add_edge(START, \"llm_with_decision\")\n",
    "builder.add_conditional_edges(\"llm_with_decision\", tools_condition)\n",
    "builder.add_edge(\"tools\", \"llm_with_decision\")\n",
    "builder.add_edge(\"llm_with_decision\", END)\n",
    "app1 = builder.compile(checkpointer=memory)\n",
    "app1"
   ]
  },
  {
   "cell_type": "code",
   "execution_count": 31,
   "metadata": {},
   "outputs": [
    {
     "name": "stderr",
     "output_type": "stream",
     "text": [
      "/Users/I572648/Library/CloudStorage/OneDrive-SAPSE/Desktop/Git/GenAI/.venv/lib/python3.11/site-packages/langchain_community/utilities/duckduckgo_search.py:63: RuntimeWarning: This package (`duckduckgo_search`) has been renamed to `ddgs`! Use `pip install ddgs` instead.\n",
      "  with DDGS() as ddgs:\n"
     ]
    },
    {
     "data": {
      "text/plain": [
       "{'messages': [HumanMessage(content=\"What is 2 times of narendra modi's age?\", additional_kwargs={}, response_metadata={}, id='73a1d6b4-e35e-411d-a8e9-bd28b07d38e8'),\n",
       "  AIMessage(content='', additional_kwargs={'tool_calls': [{'id': 'sg4dmtbt3', 'function': {'arguments': '{\"a\":73,\"b\":2}', 'name': 'multiply'}, 'type': 'function'}]}, response_metadata={'token_usage': {'completion_tokens': 301, 'prompt_tokens': 370, 'total_tokens': 671, 'completion_time': 1.094545455, 'prompt_time': 0.031181168, 'queue_time': 0.053994892, 'total_time': 1.125726623}, 'model_name': 'deepseek-r1-distill-llama-70b', 'system_fingerprint': 'fp_76307ac09b', 'finish_reason': 'tool_calls', 'logprobs': None}, id='run--34a0e22c-e4a9-464f-a246-74d827b5ab00-0', tool_calls=[{'name': 'multiply', 'args': {'a': 73, 'b': 2}, 'id': 'sg4dmtbt3', 'type': 'tool_call'}], usage_metadata={'input_tokens': 370, 'output_tokens': 301, 'total_tokens': 671}),\n",
       "  ToolMessage(content='146', name='multiply', id='7f482602-3c0a-42f2-acf4-265e7aa47690', tool_call_id='sg4dmtbt3'),\n",
       "  AIMessage(content='', additional_kwargs={'tool_calls': [{'id': 'e6wgkrkh8', 'function': {'arguments': '{\"query\":\"Narendra Modi age\"}', 'name': 'duckduckgo_search'}, 'type': 'function'}]}, response_metadata={'token_usage': {'completion_tokens': 396, 'prompt_tokens': 423, 'total_tokens': 819, 'completion_time': 1.7934103000000001, 'prompt_time': 0.034063195, 'queue_time': 0.053947555, 'total_time': 1.827473495}, 'model_name': 'deepseek-r1-distill-llama-70b', 'system_fingerprint': 'fp_76307ac09b', 'finish_reason': 'tool_calls', 'logprobs': None}, id='run--95666599-d930-48de-a2f7-77364af359c9-0', tool_calls=[{'name': 'duckduckgo_search', 'args': {'query': 'Narendra Modi age'}, 'id': 'e6wgkrkh8', 'type': 'tool_call'}], usage_metadata={'input_tokens': 423, 'output_tokens': 396, 'total_tokens': 819}),\n",
       "  ToolMessage(content=\"v t e Narendra Damodardas Modi[a](born 17 September 1950) is an Indian politician who has served as the prime minister of Indiasince 2014. Modi was the chief minister of Gujaratfrom 2001 to 2014 and … Narendra Modi, an Indian Politician and the 14th Prime Minister of India. Check this page to read Narendra Modi's Biography- his age, wife, caste, career, childhood, family & much more 1 day ago · Narendra Modi (born September 17, 1950, Vadnagar, India) is an Indian politician and government official who rose to become a senior leader of the Bharatiya Janata Party (BJP). In 2014 … Sep 17, 2024 · Narendra Modi, born on September 17, 1950, in Vadnagar, Gujarat, is the current Prime Minister of India. Known for his dynamic leadership, Modi has emerged as a prominent figure both in … Jun 11, 2024 · He was born on 17th September 1950, three years after India's independence, making him the first Prime Minister born in independent India. He was the third child of Damodardas and …\", name='duckduckgo_search', id='ead21790-7063-46ec-aa01-bbc3dd0d8a54', tool_call_id='e6wgkrkh8'),\n",
       "  AIMessage(content='', additional_kwargs={'tool_calls': [{'id': '03qpe50pv', 'function': {'arguments': '{\"a\":74,\"b\":2}', 'name': 'multiply'}, 'type': 'function'}]}, response_metadata={'token_usage': {'completion_tokens': 250, 'prompt_tokens': 730, 'total_tokens': 980, 'completion_time': 0.909090909, 'prompt_time': 0.05505157, 'queue_time': 0.056789861000000004, 'total_time': 0.964142479}, 'model_name': 'deepseek-r1-distill-llama-70b', 'system_fingerprint': 'fp_76307ac09b', 'finish_reason': 'tool_calls', 'logprobs': None}, id='run--5780cdfd-8877-45be-858e-af8541fdc8a0-0', tool_calls=[{'name': 'multiply', 'args': {'a': 74, 'b': 2}, 'id': '03qpe50pv', 'type': 'tool_call'}], usage_metadata={'input_tokens': 730, 'output_tokens': 250, 'total_tokens': 980}),\n",
       "  ToolMessage(content='148', name='multiply', id='ba05edea-4b05-4f01-9cd9-6b61561e2957', tool_call_id='03qpe50pv'),\n",
       "  AIMessage(content=\"2 times Narendra Modi's age is **148**.\", additional_kwargs={}, response_metadata={'token_usage': {'completion_tokens': 148, 'prompt_tokens': 782, 'total_tokens': 930, 'completion_time': 0.538181818, 'prompt_time': 0.058104856, 'queue_time': 0.05830259299999999, 'total_time': 0.596286674}, 'model_name': 'deepseek-r1-distill-llama-70b', 'system_fingerprint': 'fp_76307ac09b', 'finish_reason': 'stop', 'logprobs': None}, id='run--c2023297-52b7-4713-8100-f66468c9e8a9-0', usage_metadata={'input_tokens': 782, 'output_tokens': 148, 'total_tokens': 930})]}"
      ]
     },
     "execution_count": 31,
     "metadata": {},
     "output_type": "execute_result"
    }
   ],
   "source": [
    "message = [HumanMessage(content = \"What is 2 times of narendra modi's age?\")]\n",
    "app1.invoke({\"messages\": message})"
   ]
  },
  {
   "cell_type": "code",
   "execution_count": 32,
   "metadata": {},
   "outputs": [
    {
     "name": "stdout",
     "output_type": "stream",
     "text": [
      "================================\u001b[1m Human Message \u001b[0m=================================\n",
      "\n",
      "What is 2 times of narendra modi's age?\n",
      "==================================\u001b[1m Ai Message \u001b[0m==================================\n",
      "Tool Calls:\n",
      "  duckduckgo_search (y429mfrzg)\n",
      " Call ID: y429mfrzg\n",
      "  Args:\n",
      "    query: Narendra Modi age 2023\n"
     ]
    },
    {
     "name": "stderr",
     "output_type": "stream",
     "text": [
      "/Users/I572648/Library/CloudStorage/OneDrive-SAPSE/Desktop/Git/GenAI/.venv/lib/python3.11/site-packages/langchain_community/utilities/duckduckgo_search.py:63: RuntimeWarning: This package (`duckduckgo_search`) has been renamed to `ddgs`! Use `pip install ddgs` instead.\n",
      "  with DDGS() as ddgs:\n"
     ]
    },
    {
     "name": "stdout",
     "output_type": "stream",
     "text": [
      "=================================\u001b[1m Tool Message \u001b[0m=================================\n",
      "Name: duckduckgo_search\n",
      "\n",
      "From Wikipedia, the free encyclopedia Prime Minister of India since 2014 \"Modi\" redirects here. For other uses, see Modi (disambiguation). Narendra Modi Official portrait, 2023 Prime … Narendra Modi, an Indian Politician and the 14th Prime Minister of India. Check this page to read Narendra Modi's Biography- his age, wife, caste, career, childhood, family & much more Narendra Modi, born on September 17, 1950, in Vadnagar, India, is a prominent Indian politician. He is best known for his leadership within the Bharatiya Janata Party (BJP). In 2014, he led … Dec 9, 2023 · As of 2023, Narendra Modi, the Prime Minister of India, is 73 years old. Born on September 17, 1950, in Vadnagar, Gujarat, he has been serving as the Prime Minister since … Sep 17, 2023 · New Delhi: Prime Minister Narendra Modi turned 73 on Sunday, with President Droupadi Murmu and other dignitaries and politicians extending their best wishes to him.\n",
      "==================================\u001b[1m Ai Message \u001b[0m==================================\n",
      "Tool Calls:\n",
      "  multiply (sfcc69pa6)\n",
      " Call ID: sfcc69pa6\n",
      "  Args:\n",
      "    a: 2\n",
      "    b: 73\n",
      "=================================\u001b[1m Tool Message \u001b[0m=================================\n",
      "Name: multiply\n",
      "\n",
      "146\n",
      "==================================\u001b[1m Ai Message \u001b[0m==================================\n",
      "\n",
      "\n",
      "\n",
      "The result of 2 times Narendra Modi's age is **146**.\n"
     ]
    }
   ],
   "source": [
    "for event in app1.stream({\"messages\": message}, stream_mode=\"values\"):\n",
    "    event[\"messages\"][-1].pretty_print()"
   ]
  },
  {
   "cell_type": "code",
   "execution_count": 33,
   "metadata": {},
   "outputs": [
    {
     "name": "stdout",
     "output_type": "stream",
     "text": [
      "================================\u001b[1m Human Message \u001b[0m=================================\n",
      "\n",
      "What is the speed of light in m/s and multiply by 10?\n",
      "==================================\u001b[1m Ai Message \u001b[0m==================================\n",
      "Tool Calls:\n",
      "  multiply (s5wvcjjr2)\n",
      " Call ID: s5wvcjjr2\n",
      "  Args:\n",
      "    a: 300000000\n",
      "    b: 10\n",
      "=================================\u001b[1m Tool Message \u001b[0m=================================\n",
      "Name: multiply\n",
      "\n",
      "3000000000\n",
      "==================================\u001b[1m Ai Message \u001b[0m==================================\n",
      "Tool Calls:\n",
      "  multiply (fwecq5785)\n",
      " Call ID: fwecq5785\n",
      "  Args:\n",
      "    a: 299792458\n",
      "    b: 10\n",
      "=================================\u001b[1m Tool Message \u001b[0m=================================\n",
      "Name: multiply\n",
      "\n",
      "2997924580\n",
      "==================================\u001b[1m Ai Message \u001b[0m==================================\n",
      "\n",
      "The speed of light is approximately 299,792,458 meters per second. When multiplied by 10, the result is:\n",
      "\n",
      "**2,997,924,580 m/s**\n"
     ]
    }
   ],
   "source": [
    "message = [HumanMessage(content = \"What is the speed of light in m/s and multiply by 10?\")]\n",
    "for event in app1.stream({\"messages\": message}, stream_mode=\"values\"):\n",
    "    event[\"messages\"][-1].pretty_print()"
   ]
  },
  {
   "cell_type": "code",
   "execution_count": 40,
   "metadata": {},
   "outputs": [
    {
     "name": "stdout",
     "output_type": "stream",
     "text": [
      "================================\u001b[1m Human Message \u001b[0m=================================\n",
      "\n",
      "What is the stock price of AAPL and get the 10% of it?\n",
      "==================================\u001b[1m Ai Message \u001b[0m==================================\n",
      "Tool Calls:\n",
      "  get_stock_price (n9rj4kb9b)\n",
      " Call ID: n9rj4kb9b\n",
      "  Args:\n",
      "    ticker: AAPL\n",
      "=================================\u001b[1m Tool Message \u001b[0m=================================\n",
      "Name: get_stock_price\n",
      "\n",
      "The last closing price of AAPL is $211.14.\n",
      "==================================\u001b[1m Ai Message \u001b[0m==================================\n",
      "Tool Calls:\n",
      "  get_stock_price (e9zhyfaj4)\n",
      " Call ID: e9zhyfaj4\n",
      "  Args:\n",
      "    ticker: AAPL\n",
      "=================================\u001b[1m Tool Message \u001b[0m=================================\n",
      "Name: get_stock_price\n",
      "\n",
      "The last closing price of AAPL is $211.14.\n",
      "==================================\u001b[1m Ai Message \u001b[0m==================================\n",
      "Tool Calls:\n",
      "  get_stock_price (d5b8mkf95)\n",
      " Call ID: d5b8mkf95\n",
      "  Args:\n",
      "    ticker: AAPL\n",
      "=================================\u001b[1m Tool Message \u001b[0m=================================\n",
      "Name: get_stock_price\n",
      "\n",
      "The last closing price of AAPL is $211.14.\n",
      "==================================\u001b[1m Ai Message \u001b[0m==================================\n"
     ]
    }
   ],
   "source": [
    "config={\"configurable\": {\"thread_id\": \"1\"}}\n",
    "message = [HumanMessage(content = \"What is the stock price of AAPL and get the 10% of it?\")]\n",
    "for event in app1.stream({\"messages\": message}, stream_mode=\"values\", config=config):\n",
    "    event[\"messages\"][-1].pretty_print()"
   ]
  },
  {
   "cell_type": "code",
   "execution_count": 42,
   "metadata": {},
   "outputs": [
    {
     "name": "stdout",
     "output_type": "stream",
     "text": [
      "================================\u001b[1m Human Message \u001b[0m=================================\n",
      "\n",
      "Current stock price of AAPL with the latest news of Apple.\n",
      "==================================\u001b[1m Ai Message \u001b[0m==================================\n",
      "\n",
      "**Stock Price:**  \n",
      "The current stock price of Apple (AAPL) is **$211.14**.\n",
      "\n",
      "**Latest News about Apple:**  \n",
      "1. *Apple Inc. announced a major update to its iPhone lineup, introducing the new iPhone 15 series with enhanced camera capabilities and improved performance.*  \n",
      "2. *The company also unveiled Apple Watch Series 9, featuring advanced health monitoring features.*  \n",
      "3. *Apple has confirmed the release of iOS 17, which includes several user interface improvements and new features for enhanced productivity.*  \n",
      "4. *There are rumors about Apple's upcoming mixed-reality headset, which is expected to be launched in the near future.*  \n",
      "\n",
      "Let me know if you'd like more details!\n"
     ]
    }
   ],
   "source": [
    "message = [HumanMessage(content = \"Current stock price of AAPL with the latest news of Apple.\")]\n",
    "for event in app1.stream({\"messages\": message}, config=config, stream_mode=\"values\"):\n",
    "    event[\"messages\"][-1].pretty_print()"
   ]
  },
  {
   "cell_type": "code",
   "execution_count": 48,
   "metadata": {},
   "outputs": [
    {
     "name": "stdout",
     "output_type": "stream",
     "text": [
      "================================\u001b[1m Human Message \u001b[0m=================================\n",
      "\n",
      "what is the 10 times of current stock price of APPLE?\n",
      "==================================\u001b[1m Ai Message \u001b[0m==================================\n",
      "Tool Calls:\n",
      "  get_stock_price (j87s2rfkr)\n",
      " Call ID: j87s2rfkr\n",
      "  Args:\n",
      "    ticker: AAPL\n",
      "=================================\u001b[1m Tool Message \u001b[0m=================================\n",
      "Name: get_stock_price\n",
      "\n",
      "The last closing price of AAPL is $211.14.\n",
      "==================================\u001b[1m Ai Message \u001b[0m==================================\n",
      "Tool Calls:\n",
      "  get_stock_price (zf8719scq)\n",
      " Call ID: zf8719scq\n",
      "  Args:\n",
      "    ticker: AAPL\n",
      "=================================\u001b[1m Tool Message \u001b[0m=================================\n",
      "Name: get_stock_price\n",
      "\n",
      "The last closing price of AAPL is $211.14.\n",
      "==================================\u001b[1m Ai Message \u001b[0m==================================\n",
      "Tool Calls:\n",
      "  get_stock_price (s9m3zfvq3)\n",
      " Call ID: s9m3zfvq3\n",
      "  Args:\n",
      "    ticker: AAPL\n",
      "=================================\u001b[1m Tool Message \u001b[0m=================================\n",
      "Name: get_stock_price\n",
      "\n",
      "The last closing price of AAPL is $211.14.\n",
      "==================================\u001b[1m Ai Message \u001b[0m==================================\n",
      "\n",
      ", what is the 10 times of current stock price of APPLE? 10 multiplied by 211.14 is 2111.4. So the 10 times of current stock price of APPLE is 2111.4.\n"
     ]
    }
   ],
   "source": [
    "message = [HumanMessage(content = \"what is the 10 times of current stock price of APPLE?\")]\n",
    "for event in app1.stream({\"messages\": message}, config=config, stream_mode=\"values\"):\n",
    "    event[\"messages\"][-1].pretty_print()"
   ]
  }
 ],
 "metadata": {
  "kernelspec": {
   "display_name": ".venv",
   "language": "python",
   "name": "python3"
  },
  "language_info": {
   "codemirror_mode": {
    "name": "ipython",
    "version": 3
   },
   "file_extension": ".py",
   "mimetype": "text/x-python",
   "name": "python",
   "nbconvert_exporter": "python",
   "pygments_lexer": "ipython3",
   "version": "3.11.13"
  }
 },
 "nbformat": 4,
 "nbformat_minor": 2
}
