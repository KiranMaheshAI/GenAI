{
 "cells": [
  {
   "cell_type": "markdown",
   "metadata": {},
   "source": [
    "### Supervisor Agent"
   ]
  },
  {
   "cell_type": "code",
   "execution_count": 2,
   "metadata": {},
   "outputs": [],
   "source": [
    "# LLM\n",
    "from langchain_openai import ChatOpenAI\n",
    "\n",
    "llm = ChatOpenAI(model=\"gpt-4o\")"
   ]
  },
  {
   "cell_type": "code",
   "execution_count": 75,
   "metadata": {},
   "outputs": [],
   "source": [
    "from langgraph.graph import MessagesState,StateGraph,START, END\n",
    "from langgraph.types import Command\n",
    "from typing import Literal\n",
    "from typing_extensions import TypedDict\n",
    "from langgraph.prebuilt import create_react_agent"
   ]
  },
  {
   "cell_type": "code",
   "execution_count": 13,
   "metadata": {},
   "outputs": [],
   "source": [
    "def route_request(\n",
    "    state: MessagesState,\n",
    ") -> Literal[\n",
    "    \"account_plan_team\", \"experience_generation_team\", \"general_conversation\", \"__end__\"\n",
    "]:\n",
    "    \"\"\"\n",
    "    Inspects the user's request and routes it to the correct team.\n",
    "    This function acts as a conditional edge.\n",
    "    \"\"\"\n",
    "    print(\"--- Main Supervisor: Routing request ---\")\n",
    "    last_message = state[\"messages\"][-1]\n",
    "    content = last_message.content.lower()\n",
    "\n",
    "    if \"account plan\" in content:\n",
    "        print(\"--- Main Supervisor: Routing to Account Plan Team ---\")\n",
    "        return \"account_plan_team\"\n",
    "    elif \"visualize\" in content or \"experience\" in content:\n",
    "        print(\"--- Main Supervisor: Routing to Experience Generation Team ---\")\n",
    "        return \"experience_generation_team\"\n",
    "    else:\n",
    "        print(\n",
    "            \"--- Main Supervisor: No specific team keyword found. Handling general conversation. ---\"\n",
    "        )\n",
    "        return \"general_conversation\""
   ]
  },
  {
   "cell_type": "code",
   "execution_count": 31,
   "metadata": {},
   "outputs": [],
   "source": [
    "\n",
    "def entry_point(state: MessagesState) -> dict:\n",
    "    \"\"\"\n",
    "    A dummy entry point node. It doesn't do anything to the state,\n",
    "    it just provides a starting point for the routing logic.\n",
    "    \"\"\"\n",
    "    return {\"messages\": state[\"messages\"]}"
   ]
  },
  {
   "cell_type": "code",
   "execution_count": null,
   "metadata": {},
   "outputs": [],
   "source": [
    "import os\n",
    "from langchain_community.tools.tavily_search import TavilySearchResults\n",
    "\n",
    "TAVILY_API_KEY=os.getenv(\"TAVILY_API_KEY\")\n",
    "search_tool=TavilySearchResults(tavily_api_key=TAVILY_API_KEY)\n",
    "search_tool.invoke(\"who is a current pm of uk?\")"
   ]
  },
  {
   "cell_type": "code",
   "execution_count": 40,
   "metadata": {},
   "outputs": [],
   "source": [
    "def account_plan_workflow(state: MessagesState) -> Command[Literal['__end__']]:\n",
    "    \"\"\"Get the account plan to the ticket\"\"\"\n",
    "    print(\"--- Account Plan Team: Processing request ---\")    \n",
    "    research_agent = create_react_agent(llm, tools=[search_tool], prompt=\"You have the latest information about everything.\")\n",
    "    result=research_agent.invoke(state)\n",
    "    message_info = result[\"messages\"][-1].content\n",
    "    data = \"Account plan is generated successfully for the message:\"+ message_info.content\n",
    "    return {\"messages\": data}"
   ]
  },
  {
   "cell_type": "code",
   "execution_count": 41,
   "metadata": {},
   "outputs": [],
   "source": [
    "def experience_gen_workflow(state: MessagesState) -> Command[Literal['__end__']]:\n",
    "    \"\"\"Generate experience and visualizing the information\"\"\"\n",
    "    print(\"--- Experience generation workflow processing request ---\")\n",
    "    message_info = state[\"messages\"][-1]\n",
    "    data = \"Experience is generated successfully for the message:\"+ message_info.content\n",
    "    return {\"messages\": data}"
   ]
  },
  {
   "cell_type": "code",
   "execution_count": 62,
   "metadata": {},
   "outputs": [],
   "source": [
    "def general_conversation_agent(state: MessagesState) -> Command[Literal['__end__']]:\n",
    "    \"\"\"general conversation agent\"\"\"\n",
    "    print(\"--- General conversation workflow processing request ---\")\n",
    "    message_info = state[\"messages\"][-1]\n",
    "    data = \"General conversation is generated successfully for the message:\"+ message_info.content\n",
    "    return {\"messages\": data}"
   ]
  },
  {
   "cell_type": "code",
   "execution_count": 64,
   "metadata": {},
   "outputs": [
    {
     "data": {
      "image/png": "[encoded data removed]",
      "text/plain": [
       "<langgraph.graph.state.CompiledStateGraph object at 0x118ce6f50>"
      ]
     },
     "execution_count": 64,
     "metadata": {},
     "output_type": "execute_result"
    }
   ],
   "source": [
    "from langgraph.checkpoint.memory import MemorySaver\n",
    "\n",
    "builder = StateGraph(MessagesState)\n",
    "\n",
    "builder.add_node(\"entry_point\", entry_point)\n",
    "builder.add_node(\n",
    "    \"account_plan_team\", account_plan_workflow\n",
    ")\n",
    "\n",
    "builder.add_node(\n",
    "    \"experience_generation_team\", experience_gen_workflow\n",
    ")\n",
    "\n",
    "# Add general conversation agent as a proper node\n",
    "builder.add_node(\n",
    "    \"general_conversation\", general_conversation_agent\n",
    ")\n",
    "builder.set_entry_point(\"entry_point\")\n",
    "# Define the routing logic from the entry point\n",
    "builder.add_conditional_edges(\n",
    "    \"entry_point\",\n",
    "    route_request,\n",
    "    {\n",
    "        \"account_plan_team\": \"account_plan_team\",\n",
    "        \"experience_generation_team\": \"experience_generation_team\",\n",
    "        \"general_conversation\": \"general_conversation\",\n",
    "        \"__end__\": END,\n",
    "    },\n",
    ")\n",
    "\n",
    "# After a team has finished, the workflow ends.\n",
    "builder.add_edge(\"account_plan_team\", END)\n",
    "builder.add_edge(\"experience_generation_team\", END)\n",
    "builder.add_edge(\"general_conversation\", END)\n",
    "\n",
    "# Add memory to the agent\n",
    "memory = MemorySaver()\n",
    "\n",
    "# Compile the supervisor graph\n",
    "compiled_state_graph = builder.compile(checkpointer=memory)\n",
    "compiled_state_graph"
   ]
  },
  {
   "cell_type": "code",
   "execution_count": 70,
   "metadata": {},
   "outputs": [],
   "source": [
    "config={\"configurable\": {\"thread_id\": \"1\"}}"
   ]
  },
  {
   "cell_type": "code",
   "execution_count": 71,
   "metadata": {},
   "outputs": [
    {
     "name": "stdout",
     "output_type": "stream",
     "text": [
      "--- Main Supervisor: Routing request ---\n",
      "--- Main Supervisor: Routing to Experience Generation Team ---\n",
      "--- Experience generation workflow processing request ---\n"
     ]
    },
    {
     "data": {
      "text/plain": [
       "{'messages': [HumanMessage(content='Visualize the monthly sales data as a bar chart', additional_kwargs={}, response_metadata={}, id='c7d2d65c-3d60-4335-83ae-ff684b4ccb63'),\n",
       "  HumanMessage(content='Experience is generated successfully for the message:Visualize the monthly sales data as a bar chart', additional_kwargs={}, response_metadata={}, id='d20b1f90-93a7-4b03-a541-3a4bf5816ee2'),\n",
       "  HumanMessage(content='Visualize the monthly sales data as a bar chart', additional_kwargs={}, response_metadata={}, id='7128f14f-f110-4954-ae62-2be329b4bb67'),\n",
       "  HumanMessage(content='Experience is generated successfully for the message:Visualize the monthly sales data as a bar chart', additional_kwargs={}, response_metadata={}, id='8ad7c640-6983-4f36-b975-8ad4789dc730'),\n",
       "  HumanMessage(content='Visualize the monthly sales data as a bar chart', additional_kwargs={}, response_metadata={}, id='7e46f9dc-aea5-4d4c-a009-71b673be9002'),\n",
       "  HumanMessage(content='Experience is generated successfully for the message:Visualize the monthly sales data as a bar chart', additional_kwargs={}, response_metadata={}, id='43f19ed2-6927-43c5-a9f1-4153411604c4'),\n",
       "  HumanMessage(content='Visualize the monthly sales data as a bar chart', additional_kwargs={}, response_metadata={}, id='08854f2e-be51-4d1d-88b3-cc8b9e050c98'),\n",
       "  HumanMessage(content='Experience is generated successfully for the message:Visualize the monthly sales data as a bar chart', additional_kwargs={}, response_metadata={}, id='073a24cb-2708-4b88-80d6-44bbc7edd501')]}"
      ]
     },
     "execution_count": 71,
     "metadata": {},
     "output_type": "execute_result"
    }
   ],
   "source": [
    "compiled_state_graph.invoke({\"messages\": \"Visualize the monthly sales data as a bar chart\"}, config=config)"
   ]
  },
  {
   "cell_type": "code",
   "execution_count": 73,
   "metadata": {},
   "outputs": [
    {
     "name": "stdout",
     "output_type": "stream",
     "text": [
      "--- Main Supervisor: Routing request ---\n",
      "--- Main Supervisor: No specific team keyword found. Handling general conversation. ---\n",
      "--- General conversation workflow processing request ---\n"
     ]
    },
    {
     "data": {
      "text/plain": [
       "{'messages': [HumanMessage(content='Visualize the monthly sales data as a bar chart', additional_kwargs={}, response_metadata={}, id='c7d2d65c-3d60-4335-83ae-ff684b4ccb63'),\n",
       "  HumanMessage(content='Experience is generated successfully for the message:Visualize the monthly sales data as a bar chart', additional_kwargs={}, response_metadata={}, id='d20b1f90-93a7-4b03-a541-3a4bf5816ee2'),\n",
       "  HumanMessage(content='Visualize the monthly sales data as a bar chart', additional_kwargs={}, response_metadata={}, id='7128f14f-f110-4954-ae62-2be329b4bb67'),\n",
       "  HumanMessage(content='Experience is generated successfully for the message:Visualize the monthly sales data as a bar chart', additional_kwargs={}, response_metadata={}, id='8ad7c640-6983-4f36-b975-8ad4789dc730'),\n",
       "  HumanMessage(content='Visualize the monthly sales data as a bar chart', additional_kwargs={}, response_metadata={}, id='7e46f9dc-aea5-4d4c-a009-71b673be9002'),\n",
       "  HumanMessage(content='Experience is generated successfully for the message:Visualize the monthly sales data as a bar chart', additional_kwargs={}, response_metadata={}, id='43f19ed2-6927-43c5-a9f1-4153411604c4'),\n",
       "  HumanMessage(content='Visualize the monthly sales data as a bar chart', additional_kwargs={}, response_metadata={}, id='08854f2e-be51-4d1d-88b3-cc8b9e050c98'),\n",
       "  HumanMessage(content='Experience is generated successfully for the message:Visualize the monthly sales data as a bar chart', additional_kwargs={}, response_metadata={}, id='073a24cb-2708-4b88-80d6-44bbc7edd501'),\n",
       "  HumanMessage(content='hi, how are you?', additional_kwargs={}, response_metadata={}, id='6f486b7f-9656-4b62-bda3-d1e068c0ecb0'),\n",
       "  HumanMessage(content='General conversation is generated successfully for the message:hi, how are you?', additional_kwargs={}, response_metadata={}, id='97505fab-4605-4403-ba2f-27a4365b332e')]}"
      ]
     },
     "execution_count": 73,
     "metadata": {},
     "output_type": "execute_result"
    }
   ],
   "source": [
    "compiled_state_graph.invoke({\"messages\": \"hi, how are you?\"}, config=config)"
   ]
  },
  {
   "cell_type": "code",
   "execution_count": 74,
   "metadata": {},
   "outputs": [
    {
     "name": "stdout",
     "output_type": "stream",
     "text": [
      "--- Main Supervisor: Routing request ---\n",
      "--- Main Supervisor: Routing to Account Plan Team ---\n",
      "--- Account Plan Team: Processing request ---\n"
     ]
    },
    {
     "data": {
      "text/plain": [
       "{'messages': [HumanMessage(content='Visualize the monthly sales data as a bar chart', additional_kwargs={}, response_metadata={}, id='c7d2d65c-3d60-4335-83ae-ff684b4ccb63'),\n",
       "  HumanMessage(content='Experience is generated successfully for the message:Visualize the monthly sales data as a bar chart', additional_kwargs={}, response_metadata={}, id='d20b1f90-93a7-4b03-a541-3a4bf5816ee2'),\n",
       "  HumanMessage(content='Visualize the monthly sales data as a bar chart', additional_kwargs={}, response_metadata={}, id='7128f14f-f110-4954-ae62-2be329b4bb67'),\n",
       "  HumanMessage(content='Experience is generated successfully for the message:Visualize the monthly sales data as a bar chart', additional_kwargs={}, response_metadata={}, id='8ad7c640-6983-4f36-b975-8ad4789dc730'),\n",
       "  HumanMessage(content='Visualize the monthly sales data as a bar chart', additional_kwargs={}, response_metadata={}, id='7e46f9dc-aea5-4d4c-a009-71b673be9002'),\n",
       "  HumanMessage(content='Experience is generated successfully for the message:Visualize the monthly sales data as a bar chart', additional_kwargs={}, response_metadata={}, id='43f19ed2-6927-43c5-a9f1-4153411604c4'),\n",
       "  HumanMessage(content='Visualize the monthly sales data as a bar chart', additional_kwargs={}, response_metadata={}, id='08854f2e-be51-4d1d-88b3-cc8b9e050c98'),\n",
       "  HumanMessage(content='Experience is generated successfully for the message:Visualize the monthly sales data as a bar chart', additional_kwargs={}, response_metadata={}, id='073a24cb-2708-4b88-80d6-44bbc7edd501'),\n",
       "  HumanMessage(content='hi, how are you?', additional_kwargs={}, response_metadata={}, id='6f486b7f-9656-4b62-bda3-d1e068c0ecb0'),\n",
       "  HumanMessage(content='General conversation is generated successfully for the message:hi, how are you?', additional_kwargs={}, response_metadata={}, id='97505fab-4605-4403-ba2f-27a4365b332e'),\n",
       "  HumanMessage(content='Account plan for apple', additional_kwargs={}, response_metadata={}, id='eb1ed2d7-0b52-4b76-bb3f-d696a5bf8def'),\n",
       "  HumanMessage(content='Account plan is generated successfully for the message:Account plan for apple', additional_kwargs={}, response_metadata={}, id='2c4e3fa9-5d20-42b3-9bd5-0da8315c9268')]}"
      ]
     },
     "execution_count": 74,
     "metadata": {},
     "output_type": "execute_result"
    }
   ],
   "source": [
    "compiled_state_graph.invoke({\"messages\": \"Account plan for apple\"}, config=config)"
   ]
  }
 ],
 "metadata": {
  "kernelspec": {
   "display_name": ".venv",
   "language": "python",
   "name": "python3"
  },
  "language_info": {
   "codemirror_mode": {
    "name": "ipython",
    "version": 3
   },
   "file_extension": ".py",
   "mimetype": "text/x-python",
   "name": "python",
   "nbconvert_exporter": "python",
   "pygments_lexer": "ipython3",
   "version": "3.11.13"
  }
 },
 "nbformat": 4,
 "nbformat_minor": 2
}
