{
 "cells": [
  {
   "cell_type": "markdown",
   "metadata": {},
   "source": [
    "### Looping Graph"
   ]
  },
  {
   "cell_type": "code",
   "execution_count": 3,
   "metadata": {},
   "outputs": [],
   "source": [
    "from typing import TypedDict\n",
    "from langgraph.graph import StateGraph, START, END\n",
    "\n",
    "class AgentState(TypedDict):\n",
    "    name: str\n",
    "    random_number: list[int]\n",
    "    counter: int"
   ]
  },
  {
   "cell_type": "code",
   "execution_count": 17,
   "metadata": {},
   "outputs": [],
   "source": [
    "import random\n",
    "\n",
    "def greeting_node(state: AgentState) -> AgentState:\n",
    "    print(f\"Hello, {state['name']}! Let's start counting.\")\n",
    "    state[\"counter\"] = 0\n",
    "    return state \n",
    "\n",
    "def random_node(state: AgentState) -> AgentState:\n",
    "    state[\"random_number\"].append(random.randint(1, 100))\n",
    "    print(f\"Generated random number: {state['random_number'][0]}\")\n",
    "    state['counter'] += 1\n",
    "    return state\n",
    "\n",
    "def decide_counting(state: AgentState) -> AgentState:\n",
    "    if state['counter'] < 5:\n",
    "        print(f\"Counter is {state['counter']}. Continuing to count...\")\n",
    "        return \"loop\"\n",
    "    else:\n",
    "        print(f\"Counter reached {state['counter']}. Stopping.\")\n",
    "        return \"end\"\n",
    "    "
   ]
  },
  {
   "cell_type": "code",
   "execution_count": 28,
   "metadata": {},
   "outputs": [],
   "source": [
    "graph = StateGraph(AgentState)\n",
    "graph.add_node(\"greeting\", greeting_node)\n",
    "graph.add_node(\"random\", random_node)\n",
    "graph.add_edge(\"greeting\", \"random\")\n",
    "graph.add_conditional_edges(\n",
    "    \"random\",\n",
    "    decide_counting,\n",
    "    {\n",
    "        \"loop\": \"random\",\n",
    "        \"end\": END\n",
    "    }\n",
    ")\n",
    "\n",
    "graph.add_edge(START, \"greeting\")\n",
    "app = graph.compile()\n",
    "\n"
   ]
  },
  {
   "cell_type": "code",
   "execution_count": 29,
   "metadata": {},
   "outputs": [
    {
     "data": {
      "image/png": "[encoded data removed]",
      "text/plain": [
       "<IPython.core.display.Image object>"
      ]
     },
     "metadata": {},
     "output_type": "display_data"
    }
   ],
   "source": [
    "from IPython.display import display, Image\n",
    "display(Image(app.get_graph().draw_mermaid_png()))"
   ]
  },
  {
   "cell_type": "code",
   "execution_count": null,
   "metadata": {},
   "outputs": [],
   "source": []
  }
 ],
 "metadata": {
  "kernelspec": {
   "display_name": ".venv",
   "language": "python",
   "name": "python3"
  },
  "language_info": {
   "codemirror_mode": {
    "name": "ipython",
    "version": 3
   },
   "file_extension": ".py",
   "mimetype": "text/x-python",
   "name": "python",
   "nbconvert_exporter": "python",
   "pygments_lexer": "ipython3",
   "version": "3.11.13"
  }
 },
 "nbformat": 4,
 "nbformat_minor": 2
}
