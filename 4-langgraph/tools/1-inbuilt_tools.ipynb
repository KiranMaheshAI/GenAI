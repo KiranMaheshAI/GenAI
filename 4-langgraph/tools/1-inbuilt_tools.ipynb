{
 "cells": [
  {
   "cell_type": "markdown",
   "metadata": {},
   "source": [
    "### In Built Tools\n",
    "\n",
    "Tools provided by langchain and will be available in langchain_community\n",
    "We can check the by running the function `run()`. If the tool does not have run() method then it won't be a tool.\n",
    "\n",
    "Langchain Built in Tools : https://python.langchain.com/docs/integrations/tools/"
   ]
  },
  {
   "cell_type": "markdown",
   "metadata": {},
   "source": [
    "### Tavily Search"
   ]
  },
  {
   "cell_type": "code",
   "execution_count": 16,
   "metadata": {},
   "outputs": [
    {
     "name": "stdout",
     "output_type": "stream",
     "text": [
      "tavily_search_results_json\n",
      "A search engine optimized for comprehensive, accurate, and trusted results. Useful for when you need to answer questions about current events. Input should be a search query.\n"
     ]
    },
    {
     "name": "stderr",
     "output_type": "stream",
     "text": [
      "/var/folders/wp/9w_2m0xn5clfmrkfxjxl7cm00000gn/T/ipykernel_16853/1580211548.py:3: LangChainDeprecationWarning: The class `TavilySearchResults` was deprecated in LangChain 0.3.25 and will be removed in 1.0. An updated version of the class exists in the :class:`~langchain-tavily package and should be used instead. To use it run `pip install -U :class:`~langchain-tavily` and import as `from :class:`~langchain_tavily import TavilySearch``.\n",
      "  tavily_search_tool = TavilySearchResults(tavily_api_key=\"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\")\n"
     ]
    }
   ],
   "source": [
    "from langchain_community.tools.tavily_search import TavilySearchResults\n",
    "\n",
    "tavily_search_tool = TavilySearchResults(tavily_api_key=\"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\")\n",
    "print(tavily_search_tool.name)\n",
    "print(tavily_search_tool.description)"
   ]
  },
  {
   "cell_type": "code",
   "execution_count": 17,
   "metadata": {},
   "outputs": [
    {
     "data": {
      "text/plain": [
       "{'query': {'description': 'search query to look up',\n",
       "  'title': 'Query',\n",
       "  'type': 'string'}}"
      ]
     },
     "execution_count": 17,
     "metadata": {},
     "output_type": "execute_result"
    }
   ],
   "source": [
    "tavily_search_tool.args"
   ]
  },
  {
   "cell_type": "code",
   "execution_count": 19,
   "metadata": {},
   "outputs": [
    {
     "data": {
      "text/plain": [
       "[{'title': 'Introduction to LangChain - GeeksforGeeks',\n",
       "  'url': 'https://www.geeksforgeeks.org/artificial-intelligence/introduction-to-langchain/',\n",
       "  'content': 'LangChain is an open-source framework designed to simplify the creation of applications using large language models (LLMs). It provides a standard interface for chains, many integrations with other tools, and end-to-end chains for common applications.\\n\\nLangChain allows AI developers to develop applications based on the combined Large Language Models (such as GPT-4) with external sources of computation and data. This framework comes with a package for both Python and JavaScript. [...] Applications of LangChain\\n-------------------------\\n\\nLangChain is a powerful tool that can be used to build a wide range of LLM-powered applications. It is simple to use and has a large user and contributor community. [...] ### Why is LangChain Important?\\n\\nLangChain helps manage complex workflows, making it easier to integrate LLMs into various applications like chatbots and document analysis. Key benefits include:\\n\\n   Modular Workflow: Simplifies chaining LLMs together for reusable and efficient workflows.\\n   Prompt Management: Offers tools for effective prompt engineering and memory handling.\\n   Ease of Integration: Streamlines the process of building LLM-powered applications.',\n",
       "  'score': 0.95529},\n",
       " {'title': 'LangChain - Wikipedia',\n",
       "  'url': 'https://en.wikipedia.org/wiki/LangChain',\n",
       "  'content': 'Image 5Free and open-source software portal\\n\\nLangChain is a software framework that helps facilitate the integration of large language models (LLMs) into applications. As a language model integration framework, LangChain\\'s use-cases largely overlap with those of language models in general, including document analysis and summarization, chatbots, and code analysis.(\\n\\nHistory\\n-------\\n\\n[edit] [...] | LangChain |\\n| --- |\\n| Image 4: 🦜️🔗, the parrot and chain emojis |\\n| Developer(s) | Harrison Chase |\\n| Initial release | October 2022 |\\n|  |\\n| Stable release | 0.1.16( / 11 April 2024; 14 months ago(11 April 2024) |\\n|  |\\n| Repository \"Repository (version control)\") | github.com/langchain-ai/langchain |\\n| Written in | Python \"Python (programming language)\") and JavaScript |\\n| Type | Software framework for large language model application development |\\n| License | MIT License | [...] What links here\\n   Related changes\\n   Upload file\\n   Permanent link\\n   Page information\\n   Cite this page\\n   Get shortened URL\\n   Download QR code\\n   Expand all\\n   Edit interlanguage links\\n\\n Print/export \\n\\n   Download as PDF\\n   Printable version\\n\\n In other projects \\n\\n   Wikimedia Commons\\n   Wikidata item\\n\\nFrom Wikipedia, the free encyclopedia\\n\\nLanguage model application development framework',\n",
       "  'score': 0.9527197},\n",
       " {'title': 'What Is LangChain and How to Use It: A Guide - TechTarget',\n",
       "  'url': 'https://www.techtarget.com/searchenterpriseai/definition/LangChain',\n",
       "  'content': 'LangChain is an open source framework that enables software developers working with artificial intelligence (AI) and its machine learning subset to combine large language models with other external components to develop LLM\\\\-powered applications. [...] LangChain is a framework that simplifies the process of creating generative AI application interfaces. Developers working on these types of interfaces use various tools to create advanced NLP apps; LangChain streamlines this process. For example, LLMs must access large volumes of big data, so LangChain organizes these large quantities of data so that they can be accessed with ease.\\n\\nThis article is part of\\n\\n### What is GenAI? Generative AI explained [...] Simplified development. LangChain offers a standardized interface that enables developers to easily switch between different LLMs, streamline workflows and reduce integration complexity. For example, they can switch between LLMs from providers such as OpenAI or Hugging Face with minimal code changes.',\n",
       "  'score': 0.94944966},\n",
       " {'title': 'What Is LangChain: Components, Benefits & How to Get Started',\n",
       "  'url': 'https://lakefs.io/blog/what-is-langchain-ml-architecture/',\n",
       "  'content': 'LangChain is an open-source framework that gives developers the tools they need to create applications using large language models (LLMs). In its essence, LangChain is a prompt orchestration tool that makes it easier for teams to connect various prompts interactively.\\n\\nLangChain began as an open source project, but as the GitHub stars piled up, it was quickly turned into a company led by Harrison Chase. [...] LangChain is one of the most useful frameworks for developers looking to create LLM-powered applications. It allows LLM models to create replies based on the most up-to-date data accessible online and simplifies the process of arranging vast volumes of data so that LLMs can quickly access it. [...] Once completed, you can start developing applications with LangChain. LangChain offers a number of tools and APIs that make it simple to link language models to external data sources, interact with their surroundings, and develop complicated applications.\\n\\nIt creates a workflow by chaining together a sequence of components called links. Each link in the chain does something specific, such as:',\n",
       "  'score': 0.94944966},\n",
       " {'title': 'What Is LangChain? | IBM',\n",
       "  'url': 'https://www.ibm.com/think/topics/langchain',\n",
       "  'content': 'LangChain is an open source orchestration framework for application development using large language models (LLMs). Available in both Python- and Javascript-based libraries, LangChain’s tools and APIs simplify the process of building LLM-driven applications like chatbots and AI agents. [...] LangChain is essentially a library of abstractions for Python and Javascript, representing common steps and concepts necessary to work with language models. These modular components—like functions and object classes—serve as the building blocks of generative AI programs. They can be “_chained_” together to create applications, minimizing the amount of code and fine understanding required to execute complex NLP tasks. Though LangChain’s abstracted approach may limit the extent to which an expert [...] Getting started with LangChain\\n------------------------------\\n\\nLangChain is open source and free to use: source code isavailable for download on Github.\\n\\nLangChain can also be installed on Python with a simple pip command:_pip install langchain_. To install all LangChain dependencies (rather than only those you find necessary), you can run the command _pip install langchain[all]_.',\n",
       "  'score': 0.9451216}]"
      ]
     },
     "execution_count": 19,
     "metadata": {},
     "output_type": "execute_result"
    }
   ],
   "source": [
    "tavily_search_tool.run(\"What is LangChain?\")"
   ]
  },
  {
   "cell_type": "markdown",
   "metadata": {},
   "source": [
    "### Tavily Search - Another way"
   ]
  },
  {
   "cell_type": "code",
   "execution_count": null,
   "metadata": {},
   "outputs": [],
   "source": [
    "!pip3 install langchain_tavily"
   ]
  },
  {
   "cell_type": "code",
   "execution_count": 22,
   "metadata": {},
   "outputs": [],
   "source": [
    "# Load Tavily API Key\n",
    "import os\n",
    "from dotenv import load_dotenv\n",
    "\n",
    "load_dotenv()\n",
    "\n",
    "os.environ[\"TAVILY_API_KEY\"]= os.getenv(\"TAVILY_API_KEY\")"
   ]
  },
  {
   "cell_type": "code",
   "execution_count": 23,
   "metadata": {},
   "outputs": [
    {
     "data": {
      "text/plain": [
       "{'query': 'What is the capital of France?',\n",
       " 'follow_up_questions': None,\n",
       " 'answer': None,\n",
       " 'images': [],\n",
       " 'results': [{'url': 'https://home.adelphi.edu/~ca19535/page%204.html',\n",
       "   'title': 'Paris facts: the capital of France in history',\n",
       "   'content': 'Paris, France Paris facts: Paris, the capital of France Paris is the capital of France, the largest country of Europe with 550 000 km2 (65 millions inhabitants). Paris is a world capital city of shopping and fashion, with Channel, Dior, Vuitton, Yves Saint Laurent among many other top french fashion brands. Paris facts: the capital of France in history Before Paris, the capital of France was Lyon (under the Romans). Paris first became the capital of France in 508 under King Clovis. After centuries with no unique capital of France, Paris retrieved its status of capital of France under King Philippe Auguste, who reigned between 1180 and 1223. Paris remained the capital of France until today, with one four year interruption.',\n",
       "   'score': 0.89030397,\n",
       "   'raw_content': None},\n",
       "  {'url': 'https://en.wikipedia.org/wiki/List_of_capitals_of_France',\n",
       "   'title': 'List of capitals of France - Wikipedia',\n",
       "   'content': 'List of capitals of France - Wikipedia *Find sources:*\\xa0\"List of capitals of France\"\\xa0–\\xa0news\\xa0**·** newspapers\\xa0**·** books\\xa0**·** scholar\\xa0**·** JSTOR *(July 2012)* *(Learn how and when to remove this message)* | - Paris (987–1419), the residence of the Kings of France, although they were consecrated at Reims. - Tours (10–13 June 1940), the city served as the temporary capital of France during World War II after the government fled Paris due to the German advance. - Brazzaville (1940–1943), with metropolitan France under Axis powers rule, Brazzaville was announced as the seat of the Free France government. - Algiers (1943–1944), the city was made the seat of Free France, to be closer to the war in Europe.',\n",
       "   'score': 0.86331123,\n",
       "   'raw_content': None},\n",
       "  {'url': 'https://en.wikipedia.org/wiki/Paris',\n",
       "   'title': 'Paris - Wikipedia',\n",
       "   'content': 'Paris is the capital and largest city of France. With an estimated population of 2,048,472 in January 2025 in an area of more than 105 km2 (41 sq mi),',\n",
       "   'score': 0.85995835,\n",
       "   'raw_content': None},\n",
       "  {'url': 'https://www.britannica.com/place/Paris',\n",
       "   'title': 'Paris | Definition, Map, Population, Facts, & History - Britannica',\n",
       "   'content': 'Paris # Paris **Paris**, city and capital of France, situated in the north-central part of the country. Paris Paris(more) For centuries Paris has been one of the world’s most important and attractive cities. Paris, France Paris, Paris, Paris The Promenade Plantée is a partially elevated parkway built along an abandoned rail line and viaduct in the 12th *arrondissement* (municipal district) of Paris, on the right bank of the Seine River. Over the centuries, as Paris expanded outward from the Île de la Cité, various walls were built to enclose parts of the city. Situated in the Seine in the centre of Paris, the ship-shaped Île de la Cité is the historical heart of the city. \"Paris\".',\n",
       "   'score': 0.7161595,\n",
       "   'raw_content': None},\n",
       "  {'url': 'https://www.coe.int/en/web/interculturalcities/paris',\n",
       "   'title': 'Paris, France - Intercultural City - The Council of Europe',\n",
       "   'content': 'Warning: This page maybe not yet fully loaded, consider explicitly specify a timeout. Warning: This page maybe requiring CAPTCHA, please make sure you are authorized to access this page. | Cloudflare Sorry, you have been blocked Why have I been blocked? The action you just performed triggered the security solution. There are several actions that could trigger this block including submitting a certain word or phrase, a SQL command or malformed data. You can email the site owner to let them know you were blocked. Please include what you were doing when this page came up and the Cloudflare Ray ID found at the bottom of this page. Cloudflare Ray ID: 94683a578d9fe267• Your IP: Click to reveal 2600:1900:0:2d05::3e01•Performance & security byCloudflare',\n",
       "   'score': 0.31605303,\n",
       "   'raw_content': None}],\n",
       " 'response_time': 0.84}"
      ]
     },
     "execution_count": 23,
     "metadata": {},
     "output_type": "execute_result"
    }
   ],
   "source": [
    "from langchain_tavily import TavilySearch\n",
    "\n",
    "tool = TavilySearch(\n",
    "    max_results=5,\n",
    "    topic=\"general\",\n",
    "    include_answer=False,\n",
    "    include_raw_content=False,\n",
    ")\n",
    "\n",
    "tool.invoke(\"What is the capital of France?\")"
   ]
  },
  {
   "cell_type": "markdown",
   "metadata": {},
   "source": [
    "### DuckDuckGo Search"
   ]
  },
  {
   "cell_type": "code",
   "execution_count": 25,
   "metadata": {},
   "outputs": [
    {
     "name": "stderr",
     "output_type": "stream",
     "text": [
      "/Users/I572648/Library/CloudStorage/OneDrive-SAPSE/Desktop/Git/GenAI/.venv/lib/python3.11/site-packages/langchain_community/utilities/duckduckgo_search.py:63: RuntimeWarning: This package (`duckduckgo_search`) has been renamed to `ddgs`! Use `pip install ddgs` instead.\n",
      "  with DDGS() as ddgs:\n"
     ]
    },
    {
     "data": {
      "text/plain": [
       "\"Learn facts about France and see where France is located with a map. Explore the France population, the culture, … Paris, France's capital, was captured on June 14, and France officially signed an armistice with Germany on June 22. Sep 1, 2023 · Paris, France is located on the banks of the world famous River Seine. Its banks are a World Heritage … Dec 22, 2022 · The capital and largest city in France is París. Aug 31, 2023 · France did not exist as such in Roman times. Its territory was then divided in provinces, some …\""
      ]
     },
     "execution_count": 25,
     "metadata": {},
     "output_type": "execute_result"
    }
   ],
   "source": [
    "from langchain_community.tools import DuckDuckGoSearchRun\n",
    "\n",
    "ddg_tool = DuckDuckGoSearchRun()\n",
    "ddg_tool.invoke(\"What is the capital of France?\")"
   ]
  },
  {
   "cell_type": "code",
   "execution_count": 21,
   "metadata": {},
   "outputs": [
    {
     "name": "stdout",
     "output_type": "stream",
     "text": [
      "duckduckgo_search\n",
      "A wrapper around DuckDuckGo Search. Useful for when you need to answer questions about current events. Input should be a search query.\n",
      "{'query': {'description': 'search query to look up', 'title': 'Query', 'type': 'string'}}\n"
     ]
    }
   ],
   "source": [
    "print(ddg_tool.name)\n",
    "print(ddg_tool.description)\n",
    "print(ddg_tool.args)"
   ]
  },
  {
   "cell_type": "markdown",
   "metadata": {},
   "source": [
    "#### Wikipedia Tool"
   ]
  },
  {
   "cell_type": "code",
   "execution_count": 1,
   "metadata": {},
   "outputs": [
    {
     "name": "stdout",
     "output_type": "stream",
     "text": [
      "wikipedia\n",
      "A wrapper around Wikipedia. Useful for when you need to answer general questions about people, places, companies, facts, historical events, or other subjects. Input should be a search query.\n"
     ]
    }
   ],
   "source": [
    "from langchain_community.tools import WikipediaQueryRun\n",
    "from langchain_community.utilities import WikipediaAPIWrapper\n",
    "\n",
    "api_wrapper = WikipediaAPIWrapper(top_k_results=5, doc_content_chars_max=1000)\n",
    "wikipedia_tool = WikipediaQueryRun(\n",
    "    api_wrapper=api_wrapper\n",
    ")\n",
    "print(wikipedia_tool.name)\n",
    "print(wikipedia_tool.description)"
   ]
  },
  {
   "cell_type": "code",
   "execution_count": 2,
   "metadata": {},
   "outputs": [
    {
     "data": {
      "text/plain": [
       "{'query': {'description': 'query to look up on wikipedia',\n",
       "  'title': 'Query',\n",
       "  'type': 'string'}}"
      ]
     },
     "execution_count": 2,
     "metadata": {},
     "output_type": "execute_result"
    }
   ],
   "source": [
    "wikipedia_tool.args"
   ]
  },
  {
   "cell_type": "code",
   "execution_count": 3,
   "metadata": {},
   "outputs": [
    {
     "data": {
      "text/plain": [
       "'Page: Views of Elon Musk\\nSummary: Elon Musk is the owner of multiple companies, the wealthiest individual in the world, and a former US government employee. Having rejected the conservative label, Musk has described himself as a political moderate; his views have become more right-wing over time, and have been characterized as libertarian and far-right. As the owner of Twitter, he has suppressed critics, and after his involvement in European politics, his views have received criticism from some world leaders. Musk has also expressed his opinion on topics from science and technology to religion and philosophy.\\nWithin the context of American politics, Musk voted for Democratic candidates from 2008 until 2020, before switching to Republican candidates in 2022, and supporting Donald Trump in 2024 who he previously feuded with. He has identified as a  \"free speech absolutist\" and has expressed support for universal basic income, gun rights, a tax on carbon emissions, and H-1B visas. Musk ha'"
      ]
     },
     "execution_count": 3,
     "metadata": {},
     "output_type": "execute_result"
    }
   ],
   "source": [
    "wikipedia_tool.run({\"query\": \"Elon mask\"})"
   ]
  },
  {
   "cell_type": "code",
   "execution_count": 4,
   "metadata": {},
   "outputs": [
    {
     "name": "stderr",
     "output_type": "stream",
     "text": [
      "/Users/I572648/Library/CloudStorage/OneDrive-SAPSE/Desktop/Git/GenAI/.venv/lib/python3.11/site-packages/wikipedia/wikipedia.py:389: GuessedAtParserWarning: No parser was explicitly specified, so I'm using the best available HTML parser for this system (\"lxml\"). This usually isn't a problem, but if you run this code on another system, or in a different virtual environment, it may use a different parser and behave differently.\n",
      "\n",
      "The code that caused this warning is on line 389 of the file /Users/I572648/Library/CloudStorage/OneDrive-SAPSE/Desktop/Git/GenAI/.venv/lib/python3.11/site-packages/wikipedia/wikipedia.py. To get rid of this warning, pass the additional argument 'features=\"lxml\"' to the BeautifulSoup constructor.\n",
      "\n",
      "  lis = BeautifulSoup(html).find_all('li')\n"
     ]
    },
    {
     "data": {
      "text/plain": [
       "\"Page: Royal Challengers Bengaluru\\nSummary: Royal Challengers Bengaluru, formerly Royal Challengers Bangalore, also known as RCB, are a professional Twenty20 cricket team based in Bengaluru, Karnataka, that competes in the Indian Premier League (IPL). Founded in 2008 by United Spirits, the team's home ground is M. Chinnaswamy Stadium. They won their first title in 2025. The team finished as the runners-up on three occasions: in 2009, 2011, and 2016. They have also qualified for the playoffs in ten of the eighteen seasons.\\nAs of 2025, the team is captained by Rajat Patidar and coached by Andy Flower. The franchise has competed in the Champions League, finishing as runners-up in the 2011 season. As of 2024, RCB was valued at $117 million, making it one of the most valuable franchises.\\n\\nPage: Virat Kohli\\nSummary: Virat Kohli (born 5 November 1988) is an Indian international cricketer who plays ODI cricket for the India national team and is a former captain in all formats. He is a right-han\""
      ]
     },
     "execution_count": 4,
     "metadata": {},
     "output_type": "execute_result"
    }
   ],
   "source": [
    "wikipedia_tool.run(\"RCB\")"
   ]
  },
  {
   "cell_type": "markdown",
   "metadata": {},
   "source": [
    "### Youtube Search Tool"
   ]
  },
  {
   "cell_type": "code",
   "execution_count": 12,
   "metadata": {},
   "outputs": [
    {
     "name": "stdout",
     "output_type": "stream",
     "text": [
      "Collecting youtube_search\n",
      "  Using cached youtube_search-2.1.2-py3-none-any.whl.metadata (1.2 kB)\n",
      "Requirement already satisfied: requests in /Users/I572648/Library/CloudStorage/OneDrive-SAPSE/Desktop/Git/GenAI/.venv/lib/python3.11/site-packages (from youtube_search) (2.32.4)\n",
      "Requirement already satisfied: charset_normalizer<4,>=2 in /Users/I572648/Library/CloudStorage/OneDrive-SAPSE/Desktop/Git/GenAI/.venv/lib/python3.11/site-packages (from requests->youtube_search) (3.4.2)\n",
      "Requirement already satisfied: idna<4,>=2.5 in /Users/I572648/Library/CloudStorage/OneDrive-SAPSE/Desktop/Git/GenAI/.venv/lib/python3.11/site-packages (from requests->youtube_search) (3.10)\n",
      "Requirement already satisfied: urllib3<3,>=1.21.1 in /Users/I572648/Library/CloudStorage/OneDrive-SAPSE/Desktop/Git/GenAI/.venv/lib/python3.11/site-packages (from requests->youtube_search) (2.5.0)\n",
      "Requirement already satisfied: certifi>=2017.4.17 in /Users/I572648/Library/CloudStorage/OneDrive-SAPSE/Desktop/Git/GenAI/.venv/lib/python3.11/site-packages (from requests->youtube_search) (2025.6.15)\n",
      "Using cached youtube_search-2.1.2-py3-none-any.whl (3.4 kB)\n",
      "Installing collected packages: youtube_search\n",
      "Successfully installed youtube_search-2.1.2\n"
     ]
    }
   ],
   "source": [
    "!pip3 install youtube_search"
   ]
  },
  {
   "cell_type": "code",
   "execution_count": 42,
   "metadata": {},
   "outputs": [
    {
     "name": "stdout",
     "output_type": "stream",
     "text": [
      "youtube_search\n",
      "search for youtube videos associated with a person. the input to this tool should be a comma separated list, the first part contains a person name and the second a number that is the maximum number of video results to return aka num_results. the second part is optional\n"
     ]
    }
   ],
   "source": [
    "from langchain_community.tools import YouTubeSearchTool\n",
    "\n",
    "youtube_tool = YouTubeSearchTool()\n",
    "\n",
    "print(youtube_tool.name)\n",
    "print(youtube_tool.description)"
   ]
  },
  {
   "cell_type": "code",
   "execution_count": 43,
   "metadata": {},
   "outputs": [
    {
     "data": {
      "text/plain": [
       "{'query': {'title': 'Query', 'type': 'string'}}"
      ]
     },
     "execution_count": 43,
     "metadata": {},
     "output_type": "execute_result"
    }
   ],
   "source": [
    "youtube_tool.args"
   ]
  },
  {
   "cell_type": "code",
   "execution_count": 44,
   "metadata": {},
   "outputs": [
    {
     "data": {
      "text/plain": [
       "\"['https://www.youtube.com/watch?v=gqvFmK7LpDo&pp=ygUbZ2V0IG1lIHZpZGVvcyBvbiBsYW5nZ3JhcGg_', 'https://www.youtube.com/watch?v=1Q_MDOWaljk&pp=ygUbZ2V0IG1lIHZpZGVvcyBvbiBsYW5nZ3JhcGg_0gcJCdgJAYcqIYzv']\""
      ]
     },
     "execution_count": 44,
     "metadata": {},
     "output_type": "execute_result"
    }
   ],
   "source": [
    "youtube_tool.run(\"get me videos on langgraph?\")"
   ]
  },
  {
   "cell_type": "markdown",
   "metadata": {},
   "source": [
    "### Weather Tool"
   ]
  },
  {
   "cell_type": "code",
   "execution_count": null,
   "metadata": {},
   "outputs": [],
   "source": [
    "import os\n",
    "from dotenv import load_dotenv\n",
    "\n",
    "load_dotenv()\n",
    "\n",
    "from langchain_community.utilities import OpenWeatherMapAPIWrapper\n",
    "\n",
    "os.environ[\"OPENWEATHERMAP_API_KEY\"] = \"85510958d6a65c9644301925df77bb72\"\n",
    "\n",
    "weather = OpenWeatherMapAPIWrapper()\n",
    "weather_data = weather.run(\"London,GB\")\n",
    "print(weather_data)\n"
   ]
  },
  {
   "cell_type": "code",
   "execution_count": 41,
   "metadata": {},
   "outputs": [
    {
     "ename": "UnauthorizedError",
     "evalue": "Invalid API Key provided",
     "output_type": "error",
     "traceback": [
      "\u001b[31m---------------------------------------------------------------------------\u001b[39m",
      "\u001b[31mUnauthorizedError\u001b[39m                         Traceback (most recent call last)",
      "\u001b[36mCell\u001b[39m\u001b[36m \u001b[39m\u001b[32mIn[41]\u001b[39m\u001b[32m, line 6\u001b[39m\n\u001b[32m      1\u001b[39m \u001b[38;5;28;01mfrom\u001b[39;00m\u001b[38;5;250m \u001b[39m\u001b[34;01mlangchain_community\u001b[39;00m\u001b[34;01m.\u001b[39;00m\u001b[34;01mdocument_loaders\u001b[39;00m\u001b[38;5;250m \u001b[39m\u001b[38;5;28;01mimport\u001b[39;00m WeatherDataLoader\n\u001b[32m      3\u001b[39m loader = WeatherDataLoader.from_params(\n\u001b[32m      4\u001b[39m     [\u001b[33m\"\u001b[39m\u001b[33mchennai\u001b[39m\u001b[33m\"\u001b[39m, \u001b[33m\"\u001b[39m\u001b[33mvellore\u001b[39m\u001b[33m\"\u001b[39m], openweathermap_api_key=\u001b[33m\"\u001b[39m\u001b[33m85510958d6a65c9644301925df77bb72\u001b[39m\u001b[33m\"\u001b[39m\n\u001b[32m      5\u001b[39m )\n\u001b[32m----> \u001b[39m\u001b[32m6\u001b[39m documents = \u001b[43mloader\u001b[49m\u001b[43m.\u001b[49m\u001b[43mload\u001b[49m\u001b[43m(\u001b[49m\u001b[43m)\u001b[49m\n\u001b[32m      7\u001b[39m documents\n",
      "\u001b[36mFile \u001b[39m\u001b[32m~/Library/CloudStorage/OneDrive-SAPSE/Desktop/Git/GenAI/.venv/lib/python3.11/site-packages/langchain_core/document_loaders/base.py:32\u001b[39m, in \u001b[36mBaseLoader.load\u001b[39m\u001b[34m(self)\u001b[39m\n\u001b[32m     30\u001b[39m \u001b[38;5;28;01mdef\u001b[39;00m\u001b[38;5;250m \u001b[39m\u001b[34mload\u001b[39m(\u001b[38;5;28mself\u001b[39m) -> \u001b[38;5;28mlist\u001b[39m[Document]:\n\u001b[32m     31\u001b[39m \u001b[38;5;250m    \u001b[39m\u001b[33;03m\"\"\"Load data into Document objects.\"\"\"\u001b[39;00m\n\u001b[32m---> \u001b[39m\u001b[32m32\u001b[39m     \u001b[38;5;28;01mreturn\u001b[39;00m \u001b[38;5;28;43mlist\u001b[39;49m\u001b[43m(\u001b[49m\u001b[38;5;28;43mself\u001b[39;49m\u001b[43m.\u001b[49m\u001b[43mlazy_load\u001b[49m\u001b[43m(\u001b[49m\u001b[43m)\u001b[49m\u001b[43m)\u001b[49m\n",
      "\u001b[36mFile \u001b[39m\u001b[32m~/Library/CloudStorage/OneDrive-SAPSE/Desktop/Git/GenAI/.venv/lib/python3.11/site-packages/langchain_community/document_loaders/weather.py:45\u001b[39m, in \u001b[36mWeatherDataLoader.lazy_load\u001b[39m\u001b[34m(self)\u001b[39m\n\u001b[32m     43\u001b[39m \u001b[38;5;28;01mfor\u001b[39;00m place \u001b[38;5;129;01min\u001b[39;00m \u001b[38;5;28mself\u001b[39m.places:\n\u001b[32m     44\u001b[39m     metadata = {\u001b[33m\"\u001b[39m\u001b[33mqueried_at\u001b[39m\u001b[33m\"\u001b[39m: datetime.now()}\n\u001b[32m---> \u001b[39m\u001b[32m45\u001b[39m     content = \u001b[38;5;28;43mself\u001b[39;49m\u001b[43m.\u001b[49m\u001b[43mclient\u001b[49m\u001b[43m.\u001b[49m\u001b[43mrun\u001b[49m\u001b[43m(\u001b[49m\u001b[43mplace\u001b[49m\u001b[43m)\u001b[49m\n\u001b[32m     46\u001b[39m     \u001b[38;5;28;01myield\u001b[39;00m Document(page_content=content, metadata=metadata)\n",
      "\u001b[36mFile \u001b[39m\u001b[32m~/Library/CloudStorage/OneDrive-SAPSE/Desktop/Git/GenAI/.venv/lib/python3.11/site-packages/langchain_community/utilities/openweathermap.py:74\u001b[39m, in \u001b[36mOpenWeatherMapAPIWrapper.run\u001b[39m\u001b[34m(self, location)\u001b[39m\n\u001b[32m     72\u001b[39m \u001b[38;5;250m\u001b[39m\u001b[33;03m\"\"\"Get the current weather information for a specified location.\"\"\"\u001b[39;00m\n\u001b[32m     73\u001b[39m mgr = \u001b[38;5;28mself\u001b[39m.owm.weather_manager()\n\u001b[32m---> \u001b[39m\u001b[32m74\u001b[39m observation = \u001b[43mmgr\u001b[49m\u001b[43m.\u001b[49m\u001b[43mweather_at_place\u001b[49m\u001b[43m(\u001b[49m\u001b[43mlocation\u001b[49m\u001b[43m)\u001b[49m\n\u001b[32m     75\u001b[39m w = observation.weather\n\u001b[32m     77\u001b[39m \u001b[38;5;28;01mreturn\u001b[39;00m \u001b[38;5;28mself\u001b[39m._format_weather_info(location, w)\n",
      "\u001b[36mFile \u001b[39m\u001b[32m~/Library/CloudStorage/OneDrive-SAPSE/Desktop/Git/GenAI/.venv/lib/python3.11/site-packages/pyowm/weatherapi25/weather_manager.py:53\u001b[39m, in \u001b[36mWeatherManager.weather_at_place\u001b[39m\u001b[34m(self, name)\u001b[39m\n\u001b[32m     51\u001b[39m \u001b[38;5;28;01massert\u001b[39;00m \u001b[38;5;28misinstance\u001b[39m(name, \u001b[38;5;28mstr\u001b[39m), \u001b[33m\"\u001b[39m\u001b[33mValue must be a string\u001b[39m\u001b[33m\"\u001b[39m\n\u001b[32m     52\u001b[39m params = {\u001b[33m'\u001b[39m\u001b[33mq\u001b[39m\u001b[33m'\u001b[39m: name}\n\u001b[32m---> \u001b[39m\u001b[32m53\u001b[39m _, json_data = \u001b[38;5;28;43mself\u001b[39;49m\u001b[43m.\u001b[49m\u001b[43mhttp_client\u001b[49m\u001b[43m.\u001b[49m\u001b[43mget_json\u001b[49m\u001b[43m(\u001b[49m\u001b[43mOBSERVATION_URI\u001b[49m\u001b[43m,\u001b[49m\u001b[43m \u001b[49m\u001b[43mparams\u001b[49m\u001b[43m=\u001b[49m\u001b[43mparams\u001b[49m\u001b[43m)\u001b[49m\n\u001b[32m     54\u001b[39m \u001b[38;5;28;01mreturn\u001b[39;00m observation.Observation.from_dict(json_data)\n",
      "\u001b[36mFile \u001b[39m\u001b[32m~/Library/CloudStorage/OneDrive-SAPSE/Desktop/Git/GenAI/.venv/lib/python3.11/site-packages/pyowm/commons/http_client.py:158\u001b[39m, in \u001b[36mHttpClient.get_json\u001b[39m\u001b[34m(self, path, params, headers)\u001b[39m\n\u001b[32m    156\u001b[39m \u001b[38;5;28;01mexcept\u001b[39;00m requests.exceptions.Timeout:\n\u001b[32m    157\u001b[39m     \u001b[38;5;28;01mraise\u001b[39;00m exceptions.TimeoutError(\u001b[33m'\u001b[39m\u001b[33mAPI call timeouted\u001b[39m\u001b[33m'\u001b[39m)\n\u001b[32m--> \u001b[39m\u001b[32m158\u001b[39m \u001b[43mHttpClient\u001b[49m\u001b[43m.\u001b[49m\u001b[43mcheck_status_code\u001b[49m\u001b[43m(\u001b[49m\u001b[43mresp\u001b[49m\u001b[43m.\u001b[49m\u001b[43mstatus_code\u001b[49m\u001b[43m,\u001b[49m\u001b[43m \u001b[49m\u001b[43mresp\u001b[49m\u001b[43m.\u001b[49m\u001b[43mtext\u001b[49m\u001b[43m)\u001b[49m\n\u001b[32m    159\u001b[39m \u001b[38;5;28;01mtry\u001b[39;00m:\n\u001b[32m    160\u001b[39m     \u001b[38;5;28;01mreturn\u001b[39;00m resp.status_code, resp.json()\n",
      "\u001b[36mFile \u001b[39m\u001b[32m~/Library/CloudStorage/OneDrive-SAPSE/Desktop/Git/GenAI/.venv/lib/python3.11/site-packages/pyowm/commons/http_client.py:313\u001b[39m, in \u001b[36mHttpClient.check_status_code\u001b[39m\u001b[34m(cls, status_code, payload)\u001b[39m\n\u001b[32m    311\u001b[39m     \u001b[38;5;28;01mraise\u001b[39;00m exceptions.APIRequestError(payload)\n\u001b[32m    312\u001b[39m \u001b[38;5;28;01melif\u001b[39;00m status_code == \u001b[32m401\u001b[39m:\n\u001b[32m--> \u001b[39m\u001b[32m313\u001b[39m     \u001b[38;5;28;01mraise\u001b[39;00m exceptions.UnauthorizedError(\u001b[33m'\u001b[39m\u001b[33mInvalid API Key provided\u001b[39m\u001b[33m'\u001b[39m)\n\u001b[32m    314\u001b[39m \u001b[38;5;28;01melif\u001b[39;00m status_code == \u001b[32m404\u001b[39m:\n\u001b[32m    315\u001b[39m     \u001b[38;5;28;01mraise\u001b[39;00m exceptions.NotFoundError(\u001b[33m'\u001b[39m\u001b[33mUnable to find the resource\u001b[39m\u001b[33m'\u001b[39m)\n",
      "\u001b[31mUnauthorizedError\u001b[39m: Invalid API Key provided"
     ]
    }
   ],
   "source": [
    "from langchain_community.document_loaders import WeatherDataLoader\n",
    "\n",
    "loader = WeatherDataLoader.from_params(\n",
    "    [\"chennai\", \"vellore\"], openweathermap_api_key=\"85510958d6a65c9644301925df77bb72\"\n",
    ")\n",
    "documents = loader.load()\n",
    "documents"
   ]
  }
 ],
 "metadata": {
  "kernelspec": {
   "display_name": ".venv",
   "language": "python",
   "name": "python3"
  },
  "language_info": {
   "codemirror_mode": {
    "name": "ipython",
    "version": 3
   },
   "file_extension": ".py",
   "mimetype": "text/x-python",
   "name": "python",
   "nbconvert_exporter": "python",
   "pygments_lexer": "ipython3",
   "version": "3.11.13"
  }
 },
 "nbformat": 4,
 "nbformat_minor": 2
}
